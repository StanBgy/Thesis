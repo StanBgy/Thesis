{
 "cells": [
  {
   "cell_type": "code",
   "execution_count": 4,
   "id": "584933dd-8c77-4e91-9ad7-10121c5365e9",
   "metadata": {},
   "outputs": [],
   "source": [
    "import os \n",
    "import numpy as np\n",
    "from numpy import ndarray\n",
    "from nsddatapaper_rsa.utils.nsd_get_data import get_conditions, get_labels\n",
    "from nsddatapaper_rsa.utils.utils import category_dict, mds\n",
    "from utils.utils import *\n",
    "from nsd_access import NSDAccess "
   ]
  },
  {
   "cell_type": "code",
   "execution_count": 5,
   "id": "d645c390-0cc0-47d3-8ff3-806c07407a8d",
   "metadata": {},
   "outputs": [],
   "source": [
    "subject = 1\n",
    "roi = 'V0-1'\n",
    "sub, n_sessions  = subjects_sessions[subject]\n",
    "\n",
    "nsda = NSDAccess(data_dir)"
   ]
  },
  {
   "cell_type": "markdown",
   "id": "2d548e9a-03c7-401a-a1c8-8ba33bab3d12",
   "metadata": {},
   "source": [
    "https://github.com/charnley/rmsd/blob/master/rmsd/calculate_rmsd.py\n",
    "https://stats.stackexchange.com/questions/186111/find-the-rotation-between-set-of-points\n",
    "https://docs.scipy.org/doc/scipy/reference/generated/scipy.spatial.transform.Rotation.align_vectors.html"
   ]
  },
  {
   "cell_type": "code",
   "execution_count": 34,
   "id": "2e65ecb7-bd86-4b82-bf5e-e9d93a0c13be",
   "metadata": {},
   "outputs": [],
   "source": [
    "def centroid(X: ndarray) -> ndarray:\n",
    "    \"\"\"\n",
    "    Centroid is the mean position of all the points in all of the coordinate\n",
    "    directions, from a vectorset X.\n",
    "\n",
    "    https://en.wikipedia.org/wiki/Centroid\n",
    "\n",
    "    C = sum(X)/len(X)\n",
    "\n",
    "    Parameters\n",
    "    ----------\n",
    "    X : array\n",
    "        (N,D) matrix, where N is points and D is dimension.\n",
    "\n",
    "    Returns\n",
    "    -------\n",
    "    C : ndarray\n",
    "        centroid\n",
    "    \"\"\"\n",
    "    C: ndarray = X.mean(axis=0)\n",
    "    return C\n",
    "\n",
    "def kabsch2D(source: ndarray, target:ndarray) -> ndarray:\n",
    "    \"\"\"\n",
    "    Find optimal rotation matrix for sourcd toward target\n",
    "    Three steps: \n",
    "    - find the centroids of both arrays \n",
    "    - compute their covariance matrix\n",
    "    - then find optimal rotation U \n",
    "\n",
    "    Parameters\n",
    "    ----------\n",
    "    source : array\n",
    "        (N, D) matrix, N is points and D is dimension\n",
    "\n",
    "    target : array\n",
    "        (N, D) matrix, N is points and D is dimension\n",
    "\n",
    "    Returns : \n",
    "    rotated_source: array,\n",
    "        (N, D) matrix, rotated sources based on target, using kabsch algorithm\n",
    "        see more: http://en.wikipedia.org/wiki/Kabsch_algorithm\n",
    "\n",
    "    \"\"\"\n",
    "    source_C = source - centroid(source) \n",
    "    target_C = target - centroid(target)\n",
    "    \n",
    "    # This should be D*D and not N*N ! \n",
    "    cov = np.dot(source_C.T, target_C)\n",
    "\n",
    "    # Compute the optimal rotation matrix U using singluar value decomposition (SVD) \n",
    "    # This might need a correction depending on the sign, check later if we run into issues\n",
    "    U, S, V = np.linalg.svd(cov)\n",
    "\n",
    "    U = np.dot(V, U.T)\n",
    "    return U \n",
    "    \n",
    "\n",
    "def rotate(source: ndarray, U: ndarray):\n",
    "    \"\"\"\n",
    "    rotate the source matrix using the U optimal rotation matrix found\n",
    "    using the kabasch2D function\n",
    "\n",
    "    Parameters\n",
    "    -----------\n",
    "    source : array\n",
    "        (N, D) matrix, N is points and D is dimension\n",
    "\n",
    "    U : array\n",
    "        (D, D) optimal rotation matrix\n",
    "\n",
    "    Returns\n",
    "    --------\n",
    "    source_rotated : array\n",
    "        (N, D) matrix, N is points and D is dimension\n",
    "    \"\"\"\n",
    "    return np.dot(source, U)\n",
    "    "
   ]
  },
  {
   "cell_type": "code",
   "execution_count": 22,
   "id": "c5f51ee5-e342-47ae-b32a-66580cdbfcc1",
   "metadata": {},
   "outputs": [
    {
     "data": {
      "text/plain": [
       "(9841, 2)"
      ]
     },
     "execution_count": 22,
     "metadata": {},
     "output_type": "execute_result"
    }
   ],
   "source": [
    "mds_v1 = np.load('data/MDS/betas_split/subj01_37_V1_mds_betas_train.npy', allow_pickle=False)\n",
    "mds_v1.shape"
   ]
  },
  {
   "cell_type": "code",
   "execution_count": 11,
   "id": "d5a82513-f533-44cf-8405-d218020b4edf",
   "metadata": {},
   "outputs": [
    {
     "data": {
      "text/plain": [
       "(9841, 2)"
      ]
     },
     "execution_count": 11,
     "metadata": {},
     "output_type": "execute_result"
    }
   ],
   "source": [
    "mds_v2 = np.load('data/MDS/betas_split/subj01_37_V2_mds_betas_train.npy', allow_pickle=False)\n",
    "mds_v2.shape"
   ]
  },
  {
   "cell_type": "code",
   "execution_count": 29,
   "id": "cd95a04d-8965-4960-9ee0-b6f729dbde6d",
   "metadata": {},
   "outputs": [
    {
     "data": {
      "text/plain": [
       "array([[ 0.9937364 , -0.11175022],\n",
       "       [-0.11175022, -0.9937364 ]], dtype=float32)"
      ]
     },
     "execution_count": 29,
     "metadata": {},
     "output_type": "execute_result"
    }
   ],
   "source": [
    "U = kabsch2D(mds_v1, mds_v2)\n",
    "U"
   ]
  },
  {
   "cell_type": "code",
   "execution_count": 32,
   "id": "6d93b9f3-89f6-49ee-8636-6f7b7817526a",
   "metadata": {},
   "outputs": [
    {
     "data": {
      "text/plain": [
       "(9841, 2)"
      ]
     },
     "execution_count": 32,
     "metadata": {},
     "output_type": "execute_result"
    }
   ],
   "source": [
    "mds_v1_rotated = rotate(mds_v1, U)\n",
    "mds_v1_rotated.shape"
   ]
  },
  {
   "cell_type": "code",
   "execution_count": null,
   "id": "a1a4111c-74e9-442b-b8f0-8b47644ddb5c",
   "metadata": {},
   "outputs": [],
   "source": []
  }
 ],
 "metadata": {
  "kernelspec": {
   "display_name": "Python 3 (ipykernel)",
   "language": "python",
   "name": "python3"
  },
  "language_info": {
   "codemirror_mode": {
    "name": "ipython",
    "version": 3
   },
   "file_extension": ".py",
   "mimetype": "text/x-python",
   "name": "python",
   "nbconvert_exporter": "python",
   "pygments_lexer": "ipython3",
   "version": "3.10.13"
  }
 },
 "nbformat": 4,
 "nbformat_minor": 5
}
