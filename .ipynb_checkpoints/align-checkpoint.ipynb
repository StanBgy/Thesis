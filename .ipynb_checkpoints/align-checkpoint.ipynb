{
 "cells": [
  {
   "cell_type": "code",
   "execution_count": 1,
   "id": "584933dd-8c77-4e91-9ad7-10121c5365e9",
   "metadata": {},
   "outputs": [],
   "source": [
    "import os \n",
    "import numpy as np\n",
    "from nsddatapaper_rsa.utils.nsd_get_data import get_conditions, get_labels\n",
    "from nsddatapaper_rsa.utils.utils import category_dict, mds\n",
    "from utils.utils import *\n",
    "from nsd_access import NSDAccess "
   ]
  },
  {
   "cell_type": "code",
   "execution_count": 8,
   "id": "d645c390-0cc0-47d3-8ff3-806c07407a8d",
   "metadata": {},
   "outputs": [],
   "source": [
    "subject = 1\n",
    "roi = 'V0-1'\n",
    "sub, n_sessions  = subjects_sessions[subject]\n",
    "\n",
    "nsda = NSDAccess(data_dir)"
   ]
  },
  {
   "cell_type": "code",
   "execution_count": 2,
   "id": "c5f51ee5-e342-47ae-b32a-66580cdbfcc1",
   "metadata": {},
   "outputs": [
    {
     "data": {
      "text/plain": [
       "(9841, 2)"
      ]
     },
     "execution_count": 2,
     "metadata": {},
     "output_type": "execute_result"
    }
   ],
   "source": [
    "mds_v1 = np.load('data/MDS/betas_split/subj01_37_V1_mds_betas_train.npy', allow_pickle=False)\n",
    "mds_v1.shape"
   ]
  },
  {
   "cell_type": "code",
   "execution_count": 4,
   "id": "d5a82513-f533-44cf-8405-d218020b4edf",
   "metadata": {},
   "outputs": [
    {
     "data": {
      "text/plain": [
       "(9841, 2)"
      ]
     },
     "execution_count": 4,
     "metadata": {},
     "output_type": "execute_result"
    }
   ],
   "source": [
    "mds_v2 = np.load('data/MDS/betas_split/subj01_37_V2_mds_betas_train.npy', allow_pickle=False)\n",
    "mds_v2.shape"
   ]
  },
  {
   "cell_type": "markdown",
   "id": "399a0b5b-0848-405f-997a-15dd12c69664",
   "metadata": {},
   "source": [
    "https://docs.scipy.org/doc/scipy/reference/generated/scipy.spatial.transform.Rotation.align_vectors.html"
   ]
  }
 ],
 "metadata": {
  "kernelspec": {
   "display_name": "Python 3 (ipykernel)",
   "language": "python",
   "name": "python3"
  },
  "language_info": {
   "codemirror_mode": {
    "name": "ipython",
    "version": 3
   },
   "file_extension": ".py",
   "mimetype": "text/x-python",
   "name": "python",
   "nbconvert_exporter": "python",
   "pygments_lexer": "ipython3",
   "version": "3.10.13"
  }
 },
 "nbformat": 4,
 "nbformat_minor": 5
}
