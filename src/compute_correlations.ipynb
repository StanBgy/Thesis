{
 "cells": [
  {
   "cell_type": "code",
   "execution_count": 1,
   "id": "de2fce77-24bc-4263-9fc6-39d340d206c6",
   "metadata": {},
   "outputs": [],
   "source": [
    "import pandas as pd\n",
    "import numpy as np\n",
    "import math\n",
    "import os\n",
    "from utils.utils import *\n",
    "import matplotlib.pyplot as plt\n",
    "import matplotlib\n",
    "import random\n",
    "import scipy as sc"
   ]
  },
  {
   "cell_type": "code",
   "execution_count": 11,
   "id": "4b52226f-f612-4b60-a733-ddb9229d8743",
   "metadata": {},
   "outputs": [],
   "source": [
    "hemis = ['lh', 'rh']\n",
    "upscaling_factor = 1.8**3\n",
    "columns =  ['hemisphere', \n",
    "            'subject', \n",
    "            'roi', \n",
    "            'df', \n",
    "            'spearmanr']\n",
    "rois_corr = {\n",
    "    'V1': [1, 2],\n",
    "    'V2v': [3],\n",
    "    'V2d': [4],\n",
    "    'V3v': [5],\n",
    "    'V3d': [6],\n",
    "    'hV4': [7],\n",
    "    'VO-1': [8],\n",
    "    'VO-2': [9],\n",
    "    'PHC-1': [10],\n",
    "    'PHC-2': [11],\n",
    "    'LO-1': [12],\n",
    "    'LO-2': [13],\n",
    "    'TO-1': [14],\n",
    "    'TO-2': [15]\n",
    "}\n",
    "\n",
    "types = ['string',\n",
    "        'string',\n",
    "        'string',\n",
    "        'int',\n",
    "        'int',\n",
    "        'float',\n",
    "         'float',\n",
    "        'int', \n",
    "        'float',\n",
    "        'int',\n",
    "        'float']\n",
    "\n",
    "significance = 0.05\n",
    "scaling_factor = 1 / (1.8 ** 3)"
   ]
  },
  {
   "cell_type": "code",
   "execution_count": 3,
   "id": "fdc08a27-59f9-4fce-a0e8-55d3d6b59e79",
   "metadata": {},
   "outputs": [],
   "source": [
    "def work_spearman_downscaled(a, b, factor):\n",
    "    sample_size = round(a.shape[0] * factor)\n",
    "    random_sample = random.sample(range(0, a.shape[0]), sample_size)\n",
    "    sample_a = a[random_sample]\n",
    "    sample_b = b[random_sample]\n",
    "    return sc.stats.spearmanr(sample_a, sample_b)\n",
    "def work_spearman_downscaled_averaged(a, b, factor, trials):\n",
    "    r = []\n",
    "    for i in range(trials):\n",
    "        r.append(work_spearman_downscaled(a, b, factor).statistic)\n",
    "    return np.median(np.asarray(r))"
   ]
  },
  {
   "cell_type": "code",
   "execution_count": 4,
   "id": "868c63c8-7e5e-4f2d-b61a-547ac9273ced",
   "metadata": {},
   "outputs": [],
   "source": [
    "rois_corr_2 = {\n",
    "    'V2': [3,4],\n",
    "    'V3': [5,6],\n",
    "}"
   ]
  },
  {
   "cell_type": "code",
   "execution_count": 17,
   "id": "89e9f973-83f0-4f35-ad4e-cdd11c014b57",
   "metadata": {},
   "outputs": [
    {
     "name": "stdout",
     "output_type": "stream",
     "text": [
      "/home/stan/thesis-repo/projects/distances/subj01/lh.subj01.dists.V1.npy\n",
      "True\n",
      "True\n"
     ]
    },
    {
     "ename": "KeyboardInterrupt",
     "evalue": "",
     "output_type": "error",
     "traceback": [
      "\u001b[0;31m---------------------------------------------------------------------------\u001b[0m",
      "\u001b[0;31mKeyboardInterrupt\u001b[0m                         Traceback (most recent call last)",
      "Cell \u001b[0;32mIn[17], line 29\u001b[0m\n\u001b[1;32m     26\u001b[0m             roi_distances_cs \u001b[38;5;241m=\u001b[39m roi_distances_cs[triu]\n\u001b[1;32m     27\u001b[0m             roi_distances_mds \u001b[38;5;241m=\u001b[39m roi_distances_mds[triu]  \n\u001b[0;32m---> 29\u001b[0m             scorrelation \u001b[38;5;241m=\u001b[39m \u001b[43mwork_spearman_downscaled_averaged\u001b[49m\u001b[43m(\u001b[49m\u001b[43mroi_distances_mds\u001b[49m\u001b[43m,\u001b[49m\u001b[43m \u001b[49m\u001b[43mroi_distances_cs\u001b[49m\u001b[43m,\u001b[49m\u001b[43m \u001b[49m\u001b[43mscaling_factor\u001b[49m\u001b[43m,\u001b[49m\u001b[43m \u001b[49m\u001b[38;5;241;43m1000\u001b[39;49m\u001b[43m)\u001b[49m\n\u001b[1;32m     31\u001b[0m             \u001b[38;5;66;03m# calculate pearson R and pvalue for H0: samples are uncorrelated and normally distributed\u001b[39;00m\n\u001b[1;32m     32\u001b[0m \u001b[38;5;66;03m#             correlation, pvalue = sc.stats.pearsonr(x=roi_distances_mds, y = roi_distances_cs)\u001b[39;00m\n\u001b[1;32m     33\u001b[0m             df \u001b[38;5;241m=\u001b[39m roi_distances_mds\u001b[38;5;241m.\u001b[39mshape[\u001b[38;5;241m0\u001b[39m] \n",
      "Cell \u001b[0;32mIn[3], line 10\u001b[0m, in \u001b[0;36mwork_spearman_downscaled_averaged\u001b[0;34m(a, b, factor, trials)\u001b[0m\n\u001b[1;32m      8\u001b[0m r \u001b[38;5;241m=\u001b[39m []\n\u001b[1;32m      9\u001b[0m \u001b[38;5;28;01mfor\u001b[39;00m i \u001b[38;5;129;01min\u001b[39;00m \u001b[38;5;28mrange\u001b[39m(trials):\n\u001b[0;32m---> 10\u001b[0m     r\u001b[38;5;241m.\u001b[39mappend(\u001b[43mwork_spearman_downscaled\u001b[49m\u001b[43m(\u001b[49m\u001b[43ma\u001b[49m\u001b[43m,\u001b[49m\u001b[43m \u001b[49m\u001b[43mb\u001b[49m\u001b[43m,\u001b[49m\u001b[43m \u001b[49m\u001b[43mfactor\u001b[49m\u001b[43m)\u001b[49m\u001b[38;5;241m.\u001b[39mstatistic)\n\u001b[1;32m     11\u001b[0m \u001b[38;5;28;01mreturn\u001b[39;00m np\u001b[38;5;241m.\u001b[39mmedian(np\u001b[38;5;241m.\u001b[39masarray(r))\n",
      "Cell \u001b[0;32mIn[3], line 3\u001b[0m, in \u001b[0;36mwork_spearman_downscaled\u001b[0;34m(a, b, factor)\u001b[0m\n\u001b[1;32m      1\u001b[0m \u001b[38;5;28;01mdef\u001b[39;00m \u001b[38;5;21mwork_spearman_downscaled\u001b[39m(a, b, factor):\n\u001b[1;32m      2\u001b[0m     sample_size \u001b[38;5;241m=\u001b[39m \u001b[38;5;28mround\u001b[39m(a\u001b[38;5;241m.\u001b[39mshape[\u001b[38;5;241m0\u001b[39m] \u001b[38;5;241m*\u001b[39m factor)\n\u001b[0;32m----> 3\u001b[0m     random_sample \u001b[38;5;241m=\u001b[39m \u001b[43mrandom\u001b[49m\u001b[38;5;241;43m.\u001b[39;49m\u001b[43msample\u001b[49m\u001b[43m(\u001b[49m\u001b[38;5;28;43mrange\u001b[39;49m\u001b[43m(\u001b[49m\u001b[38;5;241;43m0\u001b[39;49m\u001b[43m,\u001b[49m\u001b[43m \u001b[49m\u001b[43ma\u001b[49m\u001b[38;5;241;43m.\u001b[39;49m\u001b[43mshape\u001b[49m\u001b[43m[\u001b[49m\u001b[38;5;241;43m0\u001b[39;49m\u001b[43m]\u001b[49m\u001b[43m)\u001b[49m\u001b[43m,\u001b[49m\u001b[43m \u001b[49m\u001b[43msample_size\u001b[49m\u001b[43m)\u001b[49m\n\u001b[1;32m      4\u001b[0m     sample_a \u001b[38;5;241m=\u001b[39m a[random_sample]\n\u001b[1;32m      5\u001b[0m     sample_b \u001b[38;5;241m=\u001b[39m b[random_sample]\n",
      "File \u001b[0;32m~/miniconda3/envs/thesis/lib/python3.10/random.py:503\u001b[0m, in \u001b[0;36mRandom.sample\u001b[0;34m(self, population, k, counts)\u001b[0m\n\u001b[1;32m    501\u001b[0m             j \u001b[38;5;241m=\u001b[39m randbelow(n)\n\u001b[1;32m    502\u001b[0m         selected_add(j)\n\u001b[0;32m--> 503\u001b[0m         result[i] \u001b[38;5;241m=\u001b[39m population[j]\n\u001b[1;32m    504\u001b[0m \u001b[38;5;28;01mreturn\u001b[39;00m result\n",
      "\u001b[0;31mKeyboardInterrupt\u001b[0m: "
     ]
    }
   ],
   "source": [
    "roi_distances_mds = {}\n",
    "roi_distances_cs = {}\n",
    "distances_file = os.path.join(spatial_dir, 'distances_spearman_joined.npy')\n",
    "if os.path.exists(distances_file):\n",
    "    distances = np.load(distances_file, allow_pickle = True)\n",
    "    distances = pd.DataFrame(distances, columns = columns)\n",
    "    distances = distances.astype({c: t for c,t in zip(columns, types)})\n",
    "else:\n",
    "    distances = pd.DataFrame(np.zeros([len(subj_list) * 2 * len(rois_corr.keys()), 5]), columns = columns)\n",
    "    i = 0\n",
    "    for sub in subj_list:\n",
    "        for hemi in hemis:\n",
    "            for roi in rois_corr.keys():\n",
    "                # load files \n",
    "                roi_distances_cs_file = os.path.join(label_dir, 'freesurfer', sub,  'label', 'distances',   hemi + '.' + sub + '.dists.' + roi + '.mat')\n",
    "                roi_distances_mds_file = os.path.join(dist_dir, sub,  hemi + '.' + sub + '.dists.' + roi + '.npy')\n",
    "                print(roi_distances_mds_file)\n",
    "                print(os.path.exists(roi_distances_cs_file))\n",
    "                print(os.path.exists(roi_distances_mds_file))\n",
    "                roi_distances_cs = sc.io.loadmat(roi_distances_cs_file)['d_roi']\n",
    "                n_voxels = roi_distances_cs.shape[0]\n",
    "                roi_distances_mds = np.load(roi_distances_mds_file, allow_pickle = True).astype(np.float32)\n",
    "                roi_distances_mds = roi_distances_mds.reshape([n_voxels, n_voxels])\n",
    "                # eliminate redundant datapoints\n",
    "                triu = np.triu_indices(n_voxels)\n",
    "                roi_distances_cs = roi_distances_cs[triu]\n",
    "                roi_distances_mds = roi_distances_mds[triu]  \n",
    "                \n",
    "                scorrelation = work_spearman_downscaled_averaged(roi_distances_mds, roi_distances_cs, scaling_factor, 1000)\n",
    "\n",
    "                # calculate pearson R and pvalue for H0: samples are uncorrelated and normally distributed\n",
    "    #             correlation, pvalue = sc.stats.pearsonr(x=roi_distances_mds, y = roi_distances_cs)\n",
    "                df = roi_distances_mds.shape[0] \n",
    "\n",
    "                distances.iloc[i] = [hemi, sub, roi, df, scorrelation]\n",
    "                i += 1\n",
    "\n",
    "    np.save(distances_file, distances)\n",
    "\n",
    "distances\n",
    "                \n",
    "\n"
   ]
  },
  {
   "cell_type": "code",
   "execution_count": null,
   "id": "019dc989-edca-4cba-9a45-e17484a59b61",
   "metadata": {},
   "outputs": [],
   "source": []
  }
 ],
 "metadata": {
  "kernelspec": {
   "display_name": "Python 3 (ipykernel)",
   "language": "python",
   "name": "python3"
  },
  "language_info": {
   "codemirror_mode": {
    "name": "ipython",
    "version": 3
   },
   "file_extension": ".py",
   "mimetype": "text/x-python",
   "name": "python",
   "nbconvert_exporter": "python",
   "pygments_lexer": "ipython3",
   "version": "3.10.13"
  }
 },
 "nbformat": 4,
 "nbformat_minor": 5
}
