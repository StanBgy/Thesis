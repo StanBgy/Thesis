{
 "cells": [
  {
   "cell_type": "code",
   "execution_count": 1,
   "id": "54ff4539-763f-4782-8836-2028a4d40352",
   "metadata": {},
   "outputs": [],
   "source": [
    "import os\n",
    "import numpy as np\n",
    "import pandas as pd\n",
    "from utils.utils import * \n",
    "import nibabel as nib"
   ]
  },
  {
   "cell_type": "code",
   "execution_count": 4,
   "id": "fafbf580-0b9b-4b87-8813-34089218d172",
   "metadata": {},
   "outputs": [],
   "source": [
    "subj_list = ['subj06', 'subj08']"
   ]
  },
  {
   "cell_type": "code",
   "execution_count": 10,
   "id": "a691839f-3341-49b5-85ea-eb654ee19e6a",
   "metadata": {},
   "outputs": [
    {
     "name": "stdout",
     "output_type": "stream",
     "text": [
      "--- LH -----\n",
      "(19031,)\n",
      "--- RH -----\n",
      "(19142,)\n",
      "DONE\n",
      "--- LH -----\n",
      "(15543,)\n",
      "--- RH -----\n",
      "(16993,)\n",
      "DONE\n"
     ]
    }
   ],
   "source": [
    "for i, sub in enumerate(subj_list): \n",
    "    betas = os.path.join(betas_dir, f'{sub}_betas_list_nativesurface_train_fix.npy')\n",
    "    betas = np.load(betas)\n",
    "\n",
    "    maskdata_lh_short_path = os.path.join(mask_dir, sub, f'lh.short.{sub}.testrois.npy')\n",
    "    maskdata_lh_short = np.load(maskdata_lh_short_path).astype(int)\n",
    "    \n",
    "    maskdata_lh_path = os.path.join(mask_dir, sub , f'lh.{sub}.testrois.mgz')\n",
    "    maskdata_lh = nib.load(maskdata_lh_path).get_fdata().squeeze()\n",
    "    maskdata_rh_path = os.path.join(mask_dir, sub , f'rh.{sub}.testrois.mgz')\n",
    "    maskdata_rh = nib.load(maskdata_rh_path).get_fdata().squeeze()\n",
    "\n",
    "    maskdata_lh[maskdata_lh > (max(rois_long.values()))] = 0\n",
    "    maskdata_rh[maskdata_rh > (max(rois_long.values()))] = 0\n",
    "\n",
    "    indices_lh = np.where((maskdata_lh >= 1) & (maskdata_lh <= 15))[0]\n",
    "    indices_rh = np.where((maskdata_rh >= 1) & (maskdata_rh <= 15))[0]\n",
    "    \n",
    "    indices_del_lh = indices_lh[np.isnan(betas[:maskdata_lh_short.shape[0]]).any(axis=1)]\n",
    "    indices_del_rh = indices_rh[np.isnan(betas[maskdata_lh_short.shape[0]:]).any(axis=1)]\n",
    "\n",
    "    maskdata_lh_del = np.delete(maskdata_lh, indices_del_lh)\n",
    "    maskdata_rh_del = np.delete(maskdata_rh, indices_del_rh)\n",
    "\n",
    "    print(\"--- LH -----\")\n",
    "    print(maskdata_lh_del[maskdata_lh_del != 0].shape)\n",
    "\n",
    "    print(\"--- RH -----\")\n",
    "    print(maskdata_rh_del[maskdata_rh_del != 0].shape)\n",
    "\n",
    "    maskdata_lh_del_img = nib.Nifti2Image(maskdata_lh_del, affine=None)\n",
    "    maskdata_rh_del_img = nib.Nifti2Image(maskdata_rh_del, affine=None)            \n",
    "\n",
    "   \n",
    "\n",
    "    lh_path_del = os.path.join(mask_dir, sub, f'lh.{sub}.nans_del.testrois.mgz')\n",
    "    rh_path_del = os.path.join(mask_dir, sub, f'rh.{sub}.nans_del.testrois.mgz')\n",
    "            \n",
    "\n",
    "\n",
    "    nib.save(maskdata_lh_del_img, lh_path_del)\n",
    "    nib.save(maskdata_rh_del_img, rh_path_del) \n",
    "\n",
    "    print(\"DONE\")\n",
    "\n",
    "    \n",
    "\n",
    "    \n",
    "\n",
    "    \n",
    "    "
   ]
  },
  {
   "cell_type": "code",
   "execution_count": 3,
   "id": "4f8685f2-644f-4185-a27e-5b4a77c6e7e8",
   "metadata": {},
   "outputs": [
    {
     "data": {
      "text/plain": [
       "(39283, 9411)"
      ]
     },
     "execution_count": 3,
     "metadata": {},
     "output_type": "execute_result"
    }
   ],
   "source": [
    "betas = os.path.join(betas_dir, 'subj06_betas_list_nativesurface_train_fix.npy')\n",
    "betas = np.load(betas)\n",
    "betas.shape"
   ]
  },
  {
   "cell_type": "code",
   "execution_count": null,
   "id": "7b476a03-1e85-4f38-be20-0a108fffefaa",
   "metadata": {},
   "outputs": [],
   "source": []
  }
 ],
 "metadata": {
  "kernelspec": {
   "display_name": "Python 3 (ipykernel)",
   "language": "python",
   "name": "python3"
  },
  "language_info": {
   "codemirror_mode": {
    "name": "ipython",
    "version": 3
   },
   "file_extension": ".py",
   "mimetype": "text/x-python",
   "name": "python",
   "nbconvert_exporter": "python",
   "pygments_lexer": "ipython3",
   "version": "3.10.13"
  }
 },
 "nbformat": 4,
 "nbformat_minor": 5
}
