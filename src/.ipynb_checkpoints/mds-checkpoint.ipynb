{
 "cells": [
  {
   "cell_type": "code",
   "execution_count": 23,
   "id": "77e14cc4-dc7e-4e64-995a-c0ee3d42be33",
   "metadata": {},
   "outputs": [],
   "source": [
    "import os \n",
    "import time \n",
    "import numpy as np\n",
    "import nibabel as nib\n",
    "from nsddatapaper_rsa.utils.utils import mds\n",
    "from utils.utils import *\n",
    "from scipy.spatial.distance import pdist"
   ]
  },
  {
   "cell_type": "code",
   "execution_count": 3,
   "id": "cdbb34c5-dd1a-4def-a638-e144c4eb6ae7",
   "metadata": {},
   "outputs": [],
   "source": [
    "outpath = os.path.join(proj_dir, 'rsa', 'roi_analyses')\n"
   ]
  },
  {
   "cell_type": "code",
   "execution_count": 4,
   "id": "ce9c74b0-5c68-4b9f-bd92-490ae18e284b",
   "metadata": {},
   "outputs": [
    {
     "data": {
      "text/plain": [
       "{1: ('subj01', 40),\n",
       " 2: ('subj02', 40),\n",
       " 3: ('subj03', 32),\n",
       " 4: ('subj04', 30),\n",
       " 5: ('subj05', 40),\n",
       " 6: ('subj06', 32),\n",
       " 7: ('subj07', 40),\n",
       " 8: ('subj08', 30)}"
      ]
     },
     "execution_count": 4,
     "metadata": {},
     "output_type": "execute_result"
    }
   ],
   "source": [
    "subjects_sessions = {i: (f'subj0{i}',sessions[i-1]) for i in range(1,9)}\n",
    "subjects_sessions"
   ]
  },
  {
   "cell_type": "code",
   "execution_count": 30,
   "id": "a4cf8e33-4de6-40cd-93a0-82e78827a51a",
   "metadata": {},
   "outputs": [
    {
     "data": {
      "text/plain": [
       "(33797, 9489)"
      ]
     },
     "execution_count": 30,
     "metadata": {},
     "output_type": "execute_result"
    }
   ],
   "source": [
    "a  = np.load('/media/harveylab/STORAGE1 nA/luis-thesis/spatial_neural_responses/data/spatial_responses/subj01/37sessions/activity/betas_split/subj01_37_betas_test_nativesurface.npy', allow_pickle=True)\n",
    "a.shape"
   ]
  },
  {
   "cell_type": "code",
   "execution_count": 32,
   "id": "441184b6-2840-4c7f-918c-801bc65a7d63",
   "metadata": {},
   "outputs": [
    {
     "name": "stdout",
     "output_type": "stream",
     "text": [
      "Enter subj01 at 15:59:54\n",
      "/media/harveylab/STORAGE1 nA/luis-thesis/spatial_neural_responses/data/nsddata/freesurfer/subj01/label/customrois/short.subj01.testrois.npy\n",
      "\tEnter ROI V1 at: 15:59:54\n"
     ]
    },
    {
     "ename": "FileNotFoundError",
     "evalue": "[Errno 2] No such file or directory: '/media/harveylab/STORAGE1 nA/stan-thesis/projects/NSD/rsa/roi_analyses/subj01_betas_list_nativesurface_averaged.npy'",
     "output_type": "error",
     "traceback": [
      "\u001b[0;31m---------------------------------------------------------------------------\u001b[0m",
      "\u001b[0;31mFileNotFoundError\u001b[0m                         Traceback (most recent call last)",
      "Cell \u001b[0;32mIn[32], line 25\u001b[0m\n\u001b[1;32m     23\u001b[0m roi \u001b[38;5;241m=\u001b[39m [rois[mask_name]]\n\u001b[1;32m     24\u001b[0m vs_mask \u001b[38;5;241m=\u001b[39m np\u001b[38;5;241m.\u001b[39marray([e \u001b[38;5;129;01min\u001b[39;00m roi \u001b[38;5;28;01mfor\u001b[39;00m e \u001b[38;5;129;01min\u001b[39;00m maskdata])\n\u001b[0;32m---> 25\u001b[0m betas \u001b[38;5;241m=\u001b[39m \u001b[43mnp\u001b[49m\u001b[38;5;241;43m.\u001b[39;49m\u001b[43mload\u001b[49m\u001b[43m(\u001b[49m\u001b[43mbetas_file\u001b[49m\u001b[43m,\u001b[49m\u001b[43m \u001b[49m\u001b[43mallow_pickle\u001b[49m\u001b[38;5;241;43m=\u001b[39;49m\u001b[38;5;28;43;01mTrue\u001b[39;49;00m\u001b[43m)\u001b[49m\u001b[38;5;241m.\u001b[39mastype(np\u001b[38;5;241m.\u001b[39mfloat32)\n\u001b[1;32m     26\u001b[0m \u001b[38;5;28mprint\u001b[39m(betas\u001b[38;5;241m.\u001b[39mshape)\n\u001b[1;32m     27\u001b[0m \u001b[38;5;28mprint\u001b[39m(vs_mask\u001b[38;5;241m.\u001b[39mshape)\n",
      "File \u001b[0;32m~/miniconda3/envs/thesis/lib/python3.10/site-packages/numpy/lib/npyio.py:427\u001b[0m, in \u001b[0;36mload\u001b[0;34m(file, mmap_mode, allow_pickle, fix_imports, encoding, max_header_size)\u001b[0m\n\u001b[1;32m    425\u001b[0m     own_fid \u001b[38;5;241m=\u001b[39m \u001b[38;5;28;01mFalse\u001b[39;00m\n\u001b[1;32m    426\u001b[0m \u001b[38;5;28;01melse\u001b[39;00m:\n\u001b[0;32m--> 427\u001b[0m     fid \u001b[38;5;241m=\u001b[39m stack\u001b[38;5;241m.\u001b[39menter_context(\u001b[38;5;28;43mopen\u001b[39;49m\u001b[43m(\u001b[49m\u001b[43mos_fspath\u001b[49m\u001b[43m(\u001b[49m\u001b[43mfile\u001b[49m\u001b[43m)\u001b[49m\u001b[43m,\u001b[49m\u001b[43m \u001b[49m\u001b[38;5;124;43m\"\u001b[39;49m\u001b[38;5;124;43mrb\u001b[39;49m\u001b[38;5;124;43m\"\u001b[39;49m\u001b[43m)\u001b[49m)\n\u001b[1;32m    428\u001b[0m     own_fid \u001b[38;5;241m=\u001b[39m \u001b[38;5;28;01mTrue\u001b[39;00m\n\u001b[1;32m    430\u001b[0m \u001b[38;5;66;03m# Code to distinguish from NumPy binary files and pickles.\u001b[39;00m\n",
      "\u001b[0;31mFileNotFoundError\u001b[0m: [Errno 2] No such file or directory: '/media/harveylab/STORAGE1 nA/stan-thesis/projects/NSD/rsa/roi_analyses/subj01_betas_list_nativesurface_averaged.npy'"
     ]
    }
   ],
   "source": [
    "for i, (sub, n_sessions) in subjects_sessions.items():\n",
    "    start_sub = time.time()\n",
    "    print(f'Enter {sub} at {time.strftime(\"%H:%M:%S\", time.gmtime(start_sub))}')\n",
    "\n",
    "    maskdata_file = os.path.join(mask_dir +  f'/{sub}' + f'/label/customrois/'  + f'short.{sub}.testrois.npy')  # Luis if you ever read this: there's an error in your repo here\n",
    "    print(maskdata_file)\n",
    "    maskdata = np.load(maskdata_file, allow_pickle=True).astype(int)\n",
    "\n",
    "\n",
    "    for mask_name in rois.keys():\n",
    "        start_mask_name = time.time()\n",
    "        print(\n",
    "            f'\\tEnter ROI {mask_name} at: {time.strftime(\"%H:%M:%S\", time.gmtime(start_mask_name))}'\n",
    "        ) \n",
    "        betas_file = os.path.join(outpath, f'{sub}_betas_list_{targetspace}_averaged.npy')\n",
    "\n",
    "        rdm_file = os.path.join(proj_dir, 'rsa' + '/rdm' + f'/{sub}', f'{sub}_{n_sessions}_{mask_name}_fullrdm_correlation.npy'\n",
    "                               )\n",
    "        mds_file = os.path.join(proj_dir, 'rsa' + '/mds' + f'/{sub}', f'{sub}_{n_sessions}_{mask_name}_mds.npy'\n",
    "                               )\n",
    "\n",
    "        if not os.path.exists(rdm_file):\n",
    "            roi = [rois[mask_name]]\n",
    "            vs_mask = np.array([e in roi for e in maskdata])\n",
    "            betas = np.load(betas_file, allow_pickle=True).astype(np.float32)\n",
    "            print(betas.shape)\n",
    "            print(vs_mask.shape)\n",
    "            masked_betas = betas[vs_mask, :]\n",
    "            good_vox = [np.sum(np.isnan(x)) == 0 for x in masked_betas]\n",
    "            masked_betas = masked_betas[good_vox, :]\n",
    "\n",
    "            X = masked_betas.T\n",
    "\n",
    "            print(f'\\t\\t\\tcomputing RDM for roi: {mask_name}')\n",
    "            start_time = time.time()\n",
    "            rdm = pdist(X, metric='correlation')\n",
    "\n",
    "\n",
    "            if np.any(np.isnan(rdm)):\n",
    "                raise ValueError\n",
    "    \n",
    "            elapsed_time = time.time() - start_time\n",
    "            print(\n",
    "                'elapsed time: ',\n",
    "                    f'{time.strftime(\"%H:%M:%S\", time.gmtime(elapsed_time))}'\n",
    "                )\n",
    "            print(f'\\t\\t\\tsaving full rdm for {mask_name} : {sub}')\n",
    "            np.save(\n",
    "                rdm_file,\n",
    "                rdm\n",
    "            )\n",
    "        \n",
    "        \n",
    "        if not os.path.exists(mds_file):\n",
    "            \n",
    "            rdm = np.load(rdm_file, allow_pickle=True).astype(np.float32)\n",
    "            print(f'\\t\\t\\tComputing MDS for {mask_name}')\n",
    "            start_mds = time.time()\n",
    "            \n",
    "            mds_out = mds(rdm).astype(np.float32)\n",
    "            \n",
    "            elapsed_time = time.time() - start_mds\n",
    "            \n",
    "            print('elapsedtime: ',\n",
    "                    f'{time.strftime(\"%H:%M:%S\", time.gmtime(elapsed_time))}'\n",
    "            )\n",
    "            \n",
    "            print(f'\\t\\t\\tsaving MDS for {mask_name} : {sub}')\n",
    "            np.save(mds_file, mds_out)\n",
    "\n",
    "        print(\n",
    "            f'\\t\\tTime elapsed during {mask_name}: ',\n",
    "            f'{time.strftime(\"%H:%M:%S\", time.gmtime(time.time() - start_mask_name))}'\n",
    "        )\n",
    "\n",
    "    print(\n",
    "        f'\\t\\tTime elapsed during {sub}: ',\n",
    "        f'{time.strftime(\"%H:%M:%S\", time.gmtime(time.time() - start_sub))}'\n",
    "    )\n",
    "            \n",
    " \n",
    "    "
   ]
  },
  {
   "cell_type": "code",
   "execution_count": null,
   "id": "f5a2a8d1-ef9e-487e-9bef-2bbefcc374e6",
   "metadata": {},
   "outputs": [],
   "source": []
  }
 ],
 "metadata": {
  "kernelspec": {
   "display_name": "Python 3 (ipykernel)",
   "language": "python",
   "name": "python3"
  },
  "language_info": {
   "codemirror_mode": {
    "name": "ipython",
    "version": 3
   },
   "file_extension": ".py",
   "mimetype": "text/x-python",
   "name": "python",
   "nbconvert_exporter": "python",
   "pygments_lexer": "ipython3",
   "version": "3.10.13"
  }
 },
 "nbformat": 4,
 "nbformat_minor": 5
}
