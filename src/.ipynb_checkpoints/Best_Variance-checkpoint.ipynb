{
 "cells": [
  {
   "cell_type": "code",
   "execution_count": 2,
   "id": "a9aa2934-3546-4370-8b63-9318e0e49752",
   "metadata": {},
   "outputs": [],
   "source": [
    "import os \n",
    "import numpy as np\n",
    "from utils.utils import *"
   ]
  },
  {
   "cell_type": "markdown",
   "id": "215123b7-0ad1-410b-9ed1-a8cccb8a2c20",
   "metadata": {},
   "source": [
    "#### Ben' spseudo code \n",
    "%First, calcualte the best fit a model could ever do.\n",
    "\n",
    "rss=sum((betas_train - betas_test).^2);\n",
    "\n",
    "%Next, calculate the residual if we explained NO variance\n",
    "\n",
    "variance=sum((betas_test-mean(betas_test)).^2);\n",
    "\n",
    "ve_test=1-rss/variance\n"
   ]
  },
  {
   "cell_type": "code",
   "execution_count": 4,
   "id": "c6b4b30d-2b86-4cd0-a802-82cd77006586",
   "metadata": {},
   "outputs": [
    {
     "name": "stdout",
     "output_type": "stream",
     "text": [
      "(33797, 10000)\n",
      "(33797, 10000)\n",
      "(33797,)\n",
      "[1. 1. 1. ... 2. 2. 2.]\n",
      "[4449.6377 8112.4165 5718.967  ... 5066.4507 6896.806  5965.335 ]\n",
      "[6581.2354 5599.4873 5047.9014 ... 5850.313  8528.96   7035.2295]\n",
      "[5167.033  4378.545  5003.4795 ... 5614.284  7066.746  5532.071 ]\n",
      "[3240.3625 2617.3801 2628.8164 ... 3586.651  3421.7256 4102.021 ]\n",
      "[2814.128  1628.6189 2748.5857 ... 3700.3496 1597.7449 3982.4941]\n",
      "[2342.785    918.58356 1428.8445  ... 1202.2971  1286.0874  2402.1985 ]\n",
      "[1000.1595  685.356  1113.0239 ... 1170.827  1047.9005 1370.7009]\n",
      "[ 892.9073   775.01807  989.17224 ...  842.9669   791.3823  1303.0496 ]\n",
      "[1524.3994 1113.5798 1416.9773 ... 2388.118  3258.4714 1913.1387]\n",
      "[1485.7958 1405.739  1755.3221 ... 2754.669  2471.3118 2828.0918]\n",
      "[1528.1677 1990.5186 1581.8088 ... 1564.2644 1148.0055 1609.3923]\n",
      "[ 948.30054 1411.9927  1472.0045  ...  820.29126 1152.9785  1504.6334 ]\n",
      "(35278, 10000)\n",
      "(35278, 10000)\n",
      "(35278,)\n",
      "[2. 2. 2. ... 1. 2. 1.]\n",
      "[ 4174.1753 11381.1     5971.2964 ...  4348.314   5510.671   5117.706 ]\n",
      "[ 5204.63   12948.251   7095.102  ...  5913.4863  5862.7954  6024.0527]\n",
      "[4419.667  8923.895  4514.87   ... 5072.0444 5109.4585 5342.3013]\n",
      "[2389.691  2469.8474 1995.4015 ... 1967.402  1514.6211 1573.1322]\n",
      "[1534.4336 1709.7697 1612.4084 ... 1901.198  1528.9324 1729.9081]\n",
      "[1160.6998  1053.7816  1184.5586  ...  838.57935 1496.0057  1041.8423 ]\n",
      "[2452.7122 1388.8489 1598.5068 ... 1348.4775 2347.9626 1269.5454]\n",
      "[2617.3484 1550.6499 1953.1478 ... 2085.43   2106.0117 1694.3549]\n",
      "[1538.601  2742.0278 1815.9701 ... 1546.7812 1490.6963 2080.3176]\n",
      "[2043.3687 2203.9644 1751.0701 ... 2527.8242 2689.5085 2097.1553]\n",
      "[1775.3257 2087.2524 1561.4598 ... 1829.3043 4098.412  1508.7756]\n",
      "[2479.7195 1879.7168 1953.4905 ... 2277.5798 2414.1821 1472.4122]\n",
      "(35914, 9411)\n",
      "(35914, 6234)\n",
      "(35914,)\n",
      "[1. 1. 1. ... 8. 8. 8.]\n"
     ]
    },
    {
     "ename": "ValueError",
     "evalue": "operands could not be broadcast together with shapes (7312,9411) (7312,6234) ",
     "output_type": "error",
     "traceback": [
      "\u001b[0;31m---------------------------------------------------------------------------\u001b[0m",
      "\u001b[0;31mValueError\u001b[0m                                Traceback (most recent call last)",
      "Cell \u001b[0;32mIn[4], line 19\u001b[0m\n\u001b[1;32m     15\u001b[0m \u001b[38;5;28mprint\u001b[39m(mask)\n\u001b[1;32m     16\u001b[0m \u001b[38;5;28;01mfor\u001b[39;00m j, roi \u001b[38;5;129;01min\u001b[39;00m \u001b[38;5;28menumerate\u001b[39m(rois\u001b[38;5;241m.\u001b[39mkeys()):\n\u001b[0;32m---> 19\u001b[0m     rss \u001b[38;5;241m=\u001b[39m np\u001b[38;5;241m.\u001b[39msum((\u001b[43mbetas_train\u001b[49m\u001b[43m[\u001b[49m\u001b[43mmask\u001b[49m\u001b[43m \u001b[49m\u001b[38;5;241;43m==\u001b[39;49m\u001b[43m \u001b[49m\u001b[43mj\u001b[49m\u001b[38;5;241;43m+\u001b[39;49m\u001b[38;5;241;43m1\u001b[39;49m\u001b[43m]\u001b[49m\u001b[43m \u001b[49m\u001b[38;5;241;43m-\u001b[39;49m\u001b[43m \u001b[49m\u001b[43mbetas_test\u001b[49m\u001b[43m[\u001b[49m\u001b[43mmask\u001b[49m\u001b[43m \u001b[49m\u001b[38;5;241;43m==\u001b[39;49m\u001b[43m \u001b[49m\u001b[43mj\u001b[49m\u001b[38;5;241;43m+\u001b[39;49m\u001b[38;5;241;43m1\u001b[39;49m\u001b[43m]\u001b[49m)\u001b[38;5;241m*\u001b[39m\u001b[38;5;241m*\u001b[39m\u001b[38;5;241m2\u001b[39m, axis\u001b[38;5;241m=\u001b[39m\u001b[38;5;241m0\u001b[39m)\n\u001b[1;32m     20\u001b[0m     \u001b[38;5;28mprint\u001b[39m(rss)\n\u001b[1;32m     21\u001b[0m     best_variance[i, j] \u001b[38;5;241m=\u001b[39m np\u001b[38;5;241m.\u001b[39mmean(rss)\n",
      "\u001b[0;31mValueError\u001b[0m: operands could not be broadcast together with shapes (7312,9411) (7312,6234) "
     ]
    }
   ],
   "source": [
    "best_variance = np.zeros((len(subj_list), len(rois.keys())))\n",
    "\n",
    "for i, subj in enumerate(subj_list):\n",
    "    train_path = os.path.join(betas_dir, f'{subj}_betas_list_nativesurface_train.npy')\n",
    "    test_path = os.path.join(betas_dir, f'{subj}_betas_list_nativesurface_test.npy')\n",
    "    betas_mask = np.load(os.path.join(betas_dir, f'{subj}_betas_list_nativesurface_train_test_mask.npy'), allow_pickle=True)\n",
    "    roi_mask = os.path.join(mask_dir, subj, f'short.reduced.{subj}.testrois.npy')\n",
    "    betas_train = np.load(train_path, allow_pickle=True)\n",
    "    betas_test = np.load(test_path, allow_pickle=True)\n",
    "    mask = np.load(roi_mask, allow_pickle=True)\n",
    "    \n",
    "\n",
    "    print(betas_train.shape)\n",
    "    print(betas_test.shape)\n",
    "    print(mask.shape)\n",
    "    print(mask)\n",
    "    for j, roi in enumerate(rois.keys()):\n",
    "        \n",
    "\n",
    "        rss = np.sum((betas_train[betas_mask == True][mask == j+1] - betas_test[mask == j+1])**2, axis=0)\n",
    "        print(rss)\n",
    "        best_variance[i, j] = np.mean(rss)\n",
    "\n",
    "print(best_variance)                "
   ]
  },
  {
   "cell_type": "code",
   "execution_count": 9,
   "id": "2584bf63-14ff-4751-b2cc-f7a56c9f1b17",
   "metadata": {},
   "outputs": [
    {
     "data": {
      "text/plain": [
       "(9411,)"
      ]
     },
     "execution_count": 9,
     "metadata": {},
     "output_type": "execute_result"
    }
   ],
   "source": [
    "path = os.path.join(betas_dir, 'subj03_betas_list_nativesurface_train_test_mask.npy')\n",
    "mask = np.load(path)\n",
    "mask.shape\n"
   ]
  },
  {
   "cell_type": "code",
   "execution_count": null,
   "id": "ca151f33-0905-4a17-b326-596361ba299a",
   "metadata": {},
   "outputs": [],
   "source": []
  }
 ],
 "metadata": {
  "kernelspec": {
   "display_name": "Python 3 (ipykernel)",
   "language": "python",
   "name": "python3"
  },
  "language_info": {
   "codemirror_mode": {
    "name": "ipython",
    "version": 3
   },
   "file_extension": ".py",
   "mimetype": "text/x-python",
   "name": "python",
   "nbconvert_exporter": "python",
   "pygments_lexer": "ipython3",
   "version": "3.10.13"
  }
 },
 "nbformat": 4,
 "nbformat_minor": 5
}
