{
 "cells": [
  {
   "cell_type": "code",
   "execution_count": 51,
   "id": "78742449-4009-4ea0-bcdd-58da48a0836d",
   "metadata": {},
   "outputs": [],
   "source": [
    "import os \n",
    "import numpy as np\n",
    "import pandas as pd\n",
    "from numpy import ndarray\n",
    "from nsddatapaper_rsa.utils.nsd_get_data import get_conditions, get_labels, get_betas\n",
    "from nsddatapaper_rsa.utils.utils import category_dict, mds, average_over_conditions\n",
    "from utils.utils import *\n",
    "from utils.kabsch2D import *\n",
    "from nsd_access import NSDAccess \n",
    "from matplotlib import cm \n",
    "import scprep\n",
    "import matplotlib.pyplot as plt\n",
    "import nibabel as nib\n",
    "from scipy.spatial.distance import pdist"
   ]
  },
  {
   "cell_type": "code",
   "execution_count": 52,
   "id": "46d3c08e-7537-4a18-8127-0a94df0f13d0",
   "metadata": {},
   "outputs": [],
   "source": [
    "# Check MDS for 40 sessions"
   ]
  },
  {
   "cell_type": "code",
   "execution_count": 54,
   "id": "57d83437-0023-43f7-b2e9-76a5093bea7a",
   "metadata": {},
   "outputs": [],
   "source": [
    "n_jobs = -1\n",
    "n_sessions = 32 # right so turns out this is fucked and different subject have different sessions number \n",
    "n_subjects = 8\n",
    "\n",
    "nsda = NSDAccess(nsd_dir)\n",
    "\n",
    "outpath = os.path.join(betas_dir, 'roi_analyses')\n",
    "if not os.path.exists(outpath):\n",
    "    os.makedirs(outpath)\n",
    "\n",
    "targetspace = 'nativesurface'  # need to ask Ben: why nativesurface instead of fsaverage? Seems to make sens esince we're casting on the cortical surface but need to be sure\n",
    "\n",
    "# I found this in the paper repo -> mainfigures -> SCIENCE.RSA\n",
    "lh_file = os.path.join(proj_dir, 'lh.highlevelvisual.mgz')\n",
    "rh_file = os.path.join(proj_dir, 'rh.highlevelvisual.mgz')\n",
    "\n",
    "\n",
    "# load them\n",
    "maskdata_lh = nib.load(lh_file).get_fdata().squeeze()      \n",
    "maskdata_rh = nib.load(rh_file).get_fdata().squeeze()\n",
    "\n",
    "maskdata = np.hstack((maskdata_lh, maskdata_rh))   # try to load betas with this mask maybe? \n",
    "\n",
    "ROIS = {1: 'pVTC', 2: 'aVTC', 3: 'v1', 4: 'v2', 5: 'v3'} # not used\n",
    "\n",
    "roi_names = ['pVTC', 'aVTC', 'v1', 'v2', 'v3']\n",
    "\n",
    "# sessions\n",
    "\n",
    "# subjects\n",
    "subs = ['subj0{}'.format(x+1) for x in range(n_subjects)]"
   ]
  },
  {
   "cell_type": "code",
   "execution_count": 55,
   "id": "3b324767-3947-4446-bd13-35667d5c561c",
   "metadata": {},
   "outputs": [],
   "source": [
    "outpath = os.path.join(proj_dir, 'rsa', 'roi_analyses')"
   ]
  },
  {
   "cell_type": "code",
   "execution_count": 56,
   "id": "eb489dd0-801d-4b21-8a91-dce5ed313d78",
   "metadata": {},
   "outputs": [
    {
     "data": {
      "text/plain": [
       "array([ True,  True,  True, ..., False, False, False])"
      ]
     },
     "execution_count": 56,
     "metadata": {},
     "output_type": "execute_result"
    }
   ],
   "source": [
    "# get mask \n",
    "maskdata_long = np.load('/media/harveylab/STORAGE1 nA/luis-thesis/spatial_neural_responses/data/nsddata/freesurfer/subj06/label/customrois/subj06.testrois.npy', allow_pickle=True)\n",
    "maskdata_long_bool = (maskdata_long > 0)\n",
    "maskdata_long_bool"
   ]
  },
  {
   "cell_type": "code",
   "execution_count": 57,
   "id": "fef54719-c31e-4c79-9545-97d95e8b30b9",
   "metadata": {},
   "outputs": [
    {
     "name": "stdout",
     "output_type": "stream",
     "text": [
      "\t\tsub: subj06 fetching condition trials in session: 1\n",
      "\t\tsub: subj06 fetching condition trials in session: 2\n",
      "\t\tsub: subj06 fetching condition trials in session: 3\n",
      "\t\tsub: subj06 fetching condition trials in session: 4\n",
      "\t\tsub: subj06 fetching condition trials in session: 5\n",
      "\t\tsub: subj06 fetching condition trials in session: 6\n",
      "\t\tsub: subj06 fetching condition trials in session: 7\n",
      "\t\tsub: subj06 fetching condition trials in session: 8\n",
      "\t\tsub: subj06 fetching condition trials in session: 9\n",
      "\t\tsub: subj06 fetching condition trials in session: 10\n",
      "\t\tsub: subj06 fetching condition trials in session: 11\n",
      "\t\tsub: subj06 fetching condition trials in session: 12\n",
      "\t\tsub: subj06 fetching condition trials in session: 13\n",
      "\t\tsub: subj06 fetching condition trials in session: 14\n",
      "\t\tsub: subj06 fetching condition trials in session: 15\n",
      "\t\tsub: subj06 fetching condition trials in session: 16\n",
      "\t\tsub: subj06 fetching condition trials in session: 17\n",
      "\t\tsub: subj06 fetching condition trials in session: 18\n",
      "\t\tsub: subj06 fetching condition trials in session: 19\n",
      "\t\tsub: subj06 fetching condition trials in session: 20\n",
      "\t\tsub: subj06 fetching condition trials in session: 21\n",
      "\t\tsub: subj06 fetching condition trials in session: 22\n",
      "\t\tsub: subj06 fetching condition trials in session: 23\n",
      "\t\tsub: subj06 fetching condition trials in session: 24\n",
      "\t\tsub: subj06 fetching condition trials in session: 25\n",
      "\t\tsub: subj06 fetching condition trials in session: 26\n",
      "\t\tsub: subj06 fetching condition trials in session: 27\n",
      "\t\tsub: subj06 fetching condition trials in session: 28\n",
      "\t\tsub: subj06 fetching condition trials in session: 29\n",
      "\t\tsub: subj06 fetching condition trials in session: 30\n",
      "\t\tsub: subj06 fetching condition trials in session: 31\n",
      "\t\tsub: subj06 fetching condition trials in session: 32\n"
     ]
    }
   ],
   "source": [
    "conditions = get_conditions(nsd_dir, subs[5], n_sessions)"
   ]
  },
  {
   "cell_type": "code",
   "execution_count": 58,
   "id": "137089a1-eeeb-498b-9914-52da69c9d0f7",
   "metadata": {},
   "outputs": [
    {
     "ename": "AssertionError",
     "evalue": "",
     "output_type": "error",
     "traceback": [
      "\u001b[0;31m---------------------------------------------------------------------------\u001b[0m",
      "\u001b[0;31mAssertionError\u001b[0m                            Traceback (most recent call last)",
      "Cell \u001b[0;32mIn[58], line 9\u001b[0m\n\u001b[1;32m      7\u001b[0m \u001b[38;5;66;03m# find the subject's unique condition list (sample pool)\u001b[39;00m\n\u001b[1;32m      8\u001b[0m sample \u001b[38;5;241m=\u001b[39m np\u001b[38;5;241m.\u001b[39munique(conditions[conditions_bool])\n\u001b[0;32m----> 9\u001b[0m \u001b[38;5;28;01massert\u001b[39;00m sample\u001b[38;5;241m.\u001b[39mshape[\u001b[38;5;241m0\u001b[39m] \u001b[38;5;241m==\u001b[39m \u001b[38;5;241m10000\u001b[39m\n",
      "\u001b[0;31mAssertionError\u001b[0m: "
     ]
    }
   ],
   "source": [
    "conditions = np.asarray(conditions).ravel()\n",
    "conditions_bool = [\n",
    "    True if np.sum(conditions == x) == 3 else False for x in conditions]\n",
    "\n",
    "conditions_sampled = conditions[conditions_bool]\n",
    "\n",
    "# find the subject's unique condition list (sample pool)\n",
    "sample = np.unique(conditions[conditions_bool])\n",
    "assert sample.shape[0] == 10000"
   ]
  },
  {
   "cell_type": "code",
   "execution_count": null,
   "id": "341e8f38-a538-49da-ace6-6e4ed807ecce",
   "metadata": {},
   "outputs": [],
   "source": [
    "#nsda.read_betas('subj01', 1)"
   ]
  },
  {
   "cell_type": "code",
   "execution_count": 59,
   "id": "00cc5ada-6f32-46ba-b868-3de5da2dcf2f",
   "metadata": {},
   "outputs": [
    {
     "name": "stdout",
     "output_type": "stream",
     "text": [
      "\t\tsub: subj06 fetching betas for trials in session: 1\n",
      "\t\tsub: subj06 fetching betas for trials in session: 2\n",
      "\t\tsub: subj06 fetching betas for trials in session: 3\n",
      "\t\tsub: subj06 fetching betas for trials in session: 4\n",
      "\t\tsub: subj06 fetching betas for trials in session: 5\n",
      "\t\tsub: subj06 fetching betas for trials in session: 6\n",
      "\t\tsub: subj06 fetching betas for trials in session: 7\n",
      "\t\tsub: subj06 fetching betas for trials in session: 8\n",
      "\t\tsub: subj06 fetching betas for trials in session: 9\n",
      "\t\tsub: subj06 fetching betas for trials in session: 10\n",
      "\t\tsub: subj06 fetching betas for trials in session: 11\n",
      "\t\tsub: subj06 fetching betas for trials in session: 12\n",
      "\t\tsub: subj06 fetching betas for trials in session: 13\n",
      "\t\tsub: subj06 fetching betas for trials in session: 14\n",
      "\t\tsub: subj06 fetching betas for trials in session: 15\n",
      "\t\tsub: subj06 fetching betas for trials in session: 16\n",
      "\t\tsub: subj06 fetching betas for trials in session: 17\n",
      "\t\tsub: subj06 fetching betas for trials in session: 18\n",
      "\t\tsub: subj06 fetching betas for trials in session: 19\n",
      "\t\tsub: subj06 fetching betas for trials in session: 20\n",
      "\t\tsub: subj06 fetching betas for trials in session: 21\n",
      "\t\tsub: subj06 fetching betas for trials in session: 22\n",
      "\t\tsub: subj06 fetching betas for trials in session: 23\n",
      "\t\tsub: subj06 fetching betas for trials in session: 24\n",
      "\t\tsub: subj06 fetching betas for trials in session: 25\n",
      "\t\tsub: subj06 fetching betas for trials in session: 26\n",
      "\t\tsub: subj06 fetching betas for trials in session: 27\n",
      "\t\tsub: subj06 fetching betas for trials in session: 28\n",
      "\t\tsub: subj06 fetching betas for trials in session: 29\n",
      "\t\tsub: subj06 fetching betas for trials in session: 30\n",
      "\t\tsub: subj06 fetching betas for trials in session: 31\n",
      "\t\tsub: subj06 fetching betas for trials in session: 32\n",
      "concatenating betas for subj06\n",
      "Now averaging them\n"
     ]
    },
    {
     "name": "stderr",
     "output_type": "stream",
     "text": [
      "/media/harveylab/STORAGE1 nA/stan-thesis/src/nsddatapaper_rsa/utils/utils.py:144: RuntimeWarning: Mean of empty slice\n",
      "  avg_data[:,j] = np.nanmean(data[:, conditions_bool], axis=1)\n"
     ]
    },
    {
     "name": "stdout",
     "output_type": "stream",
     "text": [
      "Saving conditions averaged betas\n"
     ]
    }
   ],
   "source": [
    "for i in range(len(subs)):\n",
    "    \n",
    "    conditions = get_conditions(nsd_dir, subs[i], )\n",
    "    \n",
    "    betas_mean_file = os.path.join(outpath, f'{subs[i]}_betas_list_{targetspace}_averaged.npy') \n",
    "    if not os.path.exists(betas_mean_file):\n",
    "        betas_mean = get_betas(\n",
    "            nsd_dir, \n",
    "            subs[i],\n",
    "            n_sessions,\n",
    "            mask=maskdata_long_bool,\n",
    "            targetspace=targetspace\n",
    "        )\n",
    "        print(f'concatenating betas for {subs[i]}')\n",
    "        betas_mean = np.concatenate(betas_mean, axis=1).astype(np.float32)\n",
    "\n",
    "        print(f'Now averaging them')\n",
    "        betas_mean = average_over_conditions(\n",
    "            betas_mean,\n",
    "            conditions,\n",
    "            conditions_sampled\n",
    "        ).astype(np.float32)\n",
    "\n",
    "        print(f'Saving conditions averaged betas')\n",
    "        np.save(betas_mean_file, betas_mean)\n",
    "\n",
    "    else:\n",
    "        print(f'loading betas for {sub}')\n",
    "        betas_mean = np.load(betas_mean_file, allow_pickle=True)"
   ]
  },
  {
   "cell_type": "code",
   "execution_count": 62,
   "id": "bbfa3416-df8b-489f-a328-835b80f46b7b",
   "metadata": {},
   "outputs": [
    {
     "data": {
      "text/plain": [
       "(89106, 2)"
      ]
     },
     "execution_count": 62,
     "metadata": {},
     "output_type": "execute_result"
    }
   ],
   "source": [
    "np.argwhere(np.isnan(betas_mean)).shape"
   ]
  },
  {
   "cell_type": "code",
   "execution_count": 64,
   "id": "f4444d50-63e3-480e-8856-91f82f331363",
   "metadata": {},
   "outputs": [
    {
     "data": {
      "text/plain": [
       "244890222"
      ]
     },
     "execution_count": 64,
     "metadata": {},
     "output_type": "execute_result"
    }
   ],
   "source": [
    "betas_mean.shape[0] * betas_mean.shape[1]"
   ]
  },
  {
   "cell_type": "code",
   "execution_count": 66,
   "id": "3edcb165-7bf1-48dd-92ab-1cd8898cdefa",
   "metadata": {},
   "outputs": [
    {
     "data": {
      "text/plain": [
       "0.00036386099564236584"
      ]
     },
     "execution_count": 66,
     "metadata": {},
     "output_type": "execute_result"
    }
   ],
   "source": [
    "np.argwhere(np.isnan(betas_mean)).shape[0] / (betas_mean.shape[0] * betas_mean.shape[1]) \n",
    "\n",
    "# the Nan are only a few: take the average or the neighborhood average \n",
    "# Or just 0? "
   ]
  },
  {
   "cell_type": "code",
   "execution_count": 69,
   "id": "9015e22a-fb9d-4b74-9698-d2bac49d4ab6",
   "metadata": {},
   "outputs": [
    {
     "data": {
      "text/plain": [
       "array([[-0.5397611 , -0.6267728 ,  0.14586838, ...,  0.13083144,\n",
       "         0.05033267, -0.3350804 ],\n",
       "       [-0.46801904, -0.7175806 ,  0.0804089 , ...,  0.17787229,\n",
       "         0.02413489, -0.3903412 ],\n",
       "       [-0.328045  , -0.94727397,  0.01958225, ...,  0.35818616,\n",
       "        -0.16250841, -0.56853235],\n",
       "       ...,\n",
       "       [ 0.977516  , -0.36916164, -0.69474965, ...,  0.13993676,\n",
       "        -1.1705098 , -0.05297409],\n",
       "       [ 0.99956745, -0.34328994, -0.62765646, ...,  0.20189504,\n",
       "        -1.1134148 ,  0.00318841],\n",
       "       [ 0.02632034,  0.26901042, -0.71354944, ...,  0.13491644,\n",
       "         0.55581325,  0.9083274 ]], dtype=float32)"
      ]
     },
     "execution_count": 69,
     "metadata": {},
     "output_type": "execute_result"
    }
   ],
   "source": [
    "betas_mean"
   ]
  },
  {
   "cell_type": "code",
   "execution_count": null,
   "id": "3acca317-0753-4161-98f0-4ce397f5ee60",
   "metadata": {},
   "outputs": [],
   "source": [
    "# save full ROI\n",
    "betas_mean = np.load('subj01_betas_list_fsaverage_averaged.npy', allow_pickle=True)\n",
    "\n",
    "for roi in range(1, 6):\n",
    "    mask_name = rois[roi]\n",
    "    rdm_file = os.path.join(outpath, f'{subs[0]}_{mask_name}_fullrdm_correlation.npy'\n",
    "                           )\n",
    "\n",
    "    if not os.path.exists(rdm_file):\n",
    "\n",
    "        #array of mask vertices\n",
    "        vs_mask = maskdata == roi\n",
    "        print(f'working on ROI: {mask_name}')\n",
    "\n",
    "        masked_betas = betas_mean[vs_mask, :]\n",
    "\n",
    "        good_vox = [\n",
    "            True if np.sum(np.isnan(x)) == 0 else False for x in masked_betas]\n",
    "\n",
    "        if np.sum(good_vox) != len(good_vox):\n",
    "            print(f'found some NaN for ROI: {mask_name} - {subs[0]}')\n",
    "\n",
    "        # prepare for correlation distance\n",
    "        X = masked_betas.T\n",
    "\n",
    "        print(f'computing RDM for roi: {mask_name}')\n",
    "        rdm = pdist(X, metric='correlation')\n",
    "\n",
    "        if np.any(np.isnan(rdm)):\n",
    "            raise ValueError\n",
    "\n",
    "        print(f'saving full rdm for {mask_name} : {subs[0]}')\n",
    "        np.save(rdm_file, rdm)"
   ]
  },
  {
   "cell_type": "code",
   "execution_count": null,
   "id": "d2a7faea-fdf4-4d09-8cba-60cec016a4ba",
   "metadata": {},
   "outputs": [],
   "source": []
  },
  {
   "cell_type": "code",
   "execution_count": null,
   "id": "80b2901f-ebb9-43f3-97d8-ea51e08587af",
   "metadata": {},
   "outputs": [],
   "source": []
  }
 ],
 "metadata": {
  "kernelspec": {
   "display_name": "Python 3 (ipykernel)",
   "language": "python",
   "name": "python3"
  },
  "language_info": {
   "codemirror_mode": {
    "name": "ipython",
    "version": 3
   },
   "file_extension": ".py",
   "mimetype": "text/x-python",
   "name": "python",
   "nbconvert_exporter": "python",
   "pygments_lexer": "ipython3",
   "version": "3.10.13"
  }
 },
 "nbformat": 4,
 "nbformat_minor": 5
}
