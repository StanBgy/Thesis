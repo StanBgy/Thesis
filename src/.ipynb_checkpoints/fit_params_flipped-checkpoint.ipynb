{
 "cells": [
  {
   "cell_type": "code",
   "execution_count": 1,
   "id": "a9da5f58-c58b-495d-9ce7-a5a0875c90f2",
   "metadata": {},
   "outputs": [],
   "source": [
    "import numpy as np\n",
    "from scipy.optimize import curve_fit\n",
    "import pandas as pd\n",
    "import math\n",
    "import time\n",
    "from utils.utils import * \n",
    "from utils.rf_gaussians import gaussian_2d_curve"
   ]
  },
  {
   "cell_type": "code",
   "execution_count": 2,
   "id": "43e5e21e-7d4c-414f-a5c0-46ef97cbd188",
   "metadata": {},
   "outputs": [],
   "source": [
    "columns = [\"x0\", \"y0\", \"sigma\", \"slope\", \"intercept\"]"
   ]
  },
  {
   "cell_type": "code",
   "execution_count": null,
   "id": "203f6ca9-fe9f-4f00-83ea-2e214fbd50f3",
   "metadata": {},
   "outputs": [],
   "source": []
  }
 ],
 "metadata": {
  "kernelspec": {
   "display_name": "Python 3 (ipykernel)",
   "language": "python",
   "name": "python3"
  },
  "language_info": {
   "codemirror_mode": {
    "name": "ipython",
    "version": 3
   },
   "file_extension": ".py",
   "mimetype": "text/x-python",
   "name": "python",
   "nbconvert_exporter": "python",
   "pygments_lexer": "ipython3",
   "version": "3.10.13"
  }
 },
 "nbformat": 4,
 "nbformat_minor": 5
}
