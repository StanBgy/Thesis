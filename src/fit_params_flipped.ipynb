{
 "cells": [
  {
   "cell_type": "code",
   "execution_count": 1,
   "id": "a9da5f58-c58b-495d-9ce7-a5a0875c90f2",
   "metadata": {},
   "outputs": [],
   "source": [
    "import numpy as np\n",
    "from scipy.optimize import curve_fit\n",
    "import pandas as pd\n",
    "import math\n",
    "import time\n",
    "from utils.utils import * \n",
    "from utils.rf_gaussians import gaussian_2d_curve"
   ]
  },
  {
   "cell_type": "code",
   "execution_count": 2,
   "id": "43e5e21e-7d4c-414f-a5c0-46ef97cbd188",
   "metadata": {},
   "outputs": [],
   "source": [
    "columns = [\"x0\", \"y0\", \"sigma\", \"slope\", \"intercept\"]"
   ]
  },
  {
   "cell_type": "code",
   "execution_count": 3,
   "id": "203f6ca9-fe9f-4f00-83ea-2e214fbd50f3",
   "metadata": {},
   "outputs": [],
   "source": [
    "betas_file = os.path.join(proj_dir, 'betas', 'subj01', 'subj01_37_betas_train_nativesurface.npy')\n",
    "betas_01 = np.load(betas_file, allow_pickle=False).astype(np.float32).T\n",
    "n_betas, n_voxels = betas_01.shape"
   ]
  },
  {
   "cell_type": "code",
   "execution_count": 7,
   "id": "a9e37036-a198-4fb5-975a-730da08c1eb4",
   "metadata": {},
   "outputs": [],
   "source": [
    "# Luis ver1 \n",
    "params = {'random': True, \n",
    "                    'initial': (np.array([-0.4, -0.4, 0.01, 0.1, - 2]), np.array([0.4, 0.4, 2, 10, 2])), \n",
    "                    'bounds': (np.array([-1.05, -1.05, 0.01, 1e-08, - np.inf]),np.array([1.05, 1.05, np.inf, np.inf, np.inf])),\n",
    "                    'loss': 'linear',\n",
    "                    'method': 'trf'\n",
    "                   }\n",
    "\n",
    "initial = params['initial']\n",
    "bounds = params['bounds']"
   ]
  },
  {
   "cell_type": "code",
   "execution_count": 9,
   "id": "41c91b61-e3d4-481e-809c-4c9f11da6783",
   "metadata": {},
   "outputs": [
    {
     "name": "stdout",
     "output_type": "stream",
     "text": [
      "Rotated MDS loaded\n",
      "Starting fitting for ROI V1, on version 1\n",
      "\t\t\t\t\t[0.00%] elapsed time since V1 start:  00:00:00\n",
      "\t\t\t\t\t[2.96%] elapsed time since V1 start:  00:00:47\n"
     ]
    },
    {
     "ename": "NameError",
     "evalue": "name 'RunetimeError' is not defined",
     "output_type": "error",
     "traceback": [
      "\u001b[0;31m---------------------------------------------------------------------------\u001b[0m",
      "\u001b[0;31mKeyboardInterrupt\u001b[0m                         Traceback (most recent call last)",
      "Cell \u001b[0;32mIn[9], line 29\u001b[0m\n\u001b[1;32m     28\u001b[0m initial_guess \u001b[38;5;241m=\u001b[39m (initial[\u001b[38;5;241m1\u001b[39m] \u001b[38;5;241m-\u001b[39m initial[\u001b[38;5;241m0\u001b[39m]) \u001b[38;5;241m*\u001b[39m np\u001b[38;5;241m.\u001b[39mrandom\u001b[38;5;241m.\u001b[39mrandom(initial[\u001b[38;5;241m0\u001b[39m]\u001b[38;5;241m.\u001b[39mshape) \u001b[38;5;241m+\u001b[39m initial[\u001b[38;5;241m0\u001b[39m]\n\u001b[0;32m---> 29\u001b[0m voxel_fit \u001b[38;5;241m=\u001b[39m \u001b[43mcurve_fit\u001b[49m\u001b[43m(\u001b[49m\n\u001b[1;32m     30\u001b[0m \u001b[43m    \u001b[49m\u001b[43mgaussian_2d_curve\u001b[49m\u001b[43m,\u001b[49m\n\u001b[1;32m     31\u001b[0m \u001b[43m    \u001b[49m\u001b[43mmds\u001b[49m\u001b[43m,\u001b[49m\n\u001b[1;32m     32\u001b[0m \u001b[43m    \u001b[49m\u001b[43mvoxel_activity\u001b[49m\u001b[43m,\u001b[49m\n\u001b[1;32m     33\u001b[0m \u001b[43m    \u001b[49m\u001b[43mp0\u001b[49m\u001b[43m  \u001b[49m\u001b[38;5;241;43m=\u001b[39;49m\u001b[43m \u001b[49m\u001b[43minitial_guess\u001b[49m\u001b[43m,\u001b[49m\n\u001b[1;32m     34\u001b[0m \u001b[43m    \u001b[49m\u001b[43mbounds\u001b[49m\u001b[38;5;241;43m=\u001b[39;49m\u001b[43mparams\u001b[49m\u001b[43m[\u001b[49m\u001b[38;5;124;43m'\u001b[39;49m\u001b[38;5;124;43mbounds\u001b[39;49m\u001b[38;5;124;43m'\u001b[39;49m\u001b[43m]\u001b[49m\u001b[43m,\u001b[49m\n\u001b[1;32m     35\u001b[0m \u001b[43m    \u001b[49m\u001b[43mmethod\u001b[49m\u001b[43m \u001b[49m\u001b[38;5;241;43m=\u001b[39;49m\u001b[43m \u001b[49m\u001b[38;5;124;43m'\u001b[39;49m\u001b[38;5;124;43mtrf\u001b[39;49m\u001b[38;5;124;43m'\u001b[39;49m\u001b[43m,\u001b[49m\n\u001b[1;32m     36\u001b[0m \u001b[43m    \u001b[49m\u001b[43mftol\u001b[49m\u001b[43m \u001b[49m\u001b[38;5;241;43m=\u001b[39;49m\u001b[43m \u001b[49m\u001b[38;5;241;43m1e-06\u001b[39;49m\n\u001b[1;32m     37\u001b[0m \u001b[43m\u001b[49m\u001b[43m)\u001b[49m[\u001b[38;5;241m0\u001b[39m]\n\u001b[1;32m     38\u001b[0m solved \u001b[38;5;241m=\u001b[39m \u001b[38;5;28;01mTrue\u001b[39;00m\n",
      "File \u001b[0;32m~/miniconda3/envs/thesis/lib/python3.10/site-packages/scipy/optimize/_minpack_py.py:974\u001b[0m, in \u001b[0;36mcurve_fit\u001b[0;34m(f, xdata, ydata, p0, sigma, absolute_sigma, check_finite, bounds, method, jac, full_output, nan_policy, **kwargs)\u001b[0m\n\u001b[1;32m    972\u001b[0m     kwargs[\u001b[38;5;124m'\u001b[39m\u001b[38;5;124mmax_nfev\u001b[39m\u001b[38;5;124m'\u001b[39m] \u001b[38;5;241m=\u001b[39m kwargs\u001b[38;5;241m.\u001b[39mpop(\u001b[38;5;124m'\u001b[39m\u001b[38;5;124mmaxfev\u001b[39m\u001b[38;5;124m'\u001b[39m, \u001b[38;5;28;01mNone\u001b[39;00m)\n\u001b[0;32m--> 974\u001b[0m res \u001b[38;5;241m=\u001b[39m \u001b[43mleast_squares\u001b[49m\u001b[43m(\u001b[49m\u001b[43mfunc\u001b[49m\u001b[43m,\u001b[49m\u001b[43m \u001b[49m\u001b[43mp0\u001b[49m\u001b[43m,\u001b[49m\u001b[43m \u001b[49m\u001b[43mjac\u001b[49m\u001b[38;5;241;43m=\u001b[39;49m\u001b[43mjac\u001b[49m\u001b[43m,\u001b[49m\u001b[43m \u001b[49m\u001b[43mbounds\u001b[49m\u001b[38;5;241;43m=\u001b[39;49m\u001b[43mbounds\u001b[49m\u001b[43m,\u001b[49m\u001b[43m \u001b[49m\u001b[43mmethod\u001b[49m\u001b[38;5;241;43m=\u001b[39;49m\u001b[43mmethod\u001b[49m\u001b[43m,\u001b[49m\n\u001b[1;32m    975\u001b[0m \u001b[43m                    \u001b[49m\u001b[38;5;241;43m*\u001b[39;49m\u001b[38;5;241;43m*\u001b[39;49m\u001b[43mkwargs\u001b[49m\u001b[43m)\u001b[49m\n\u001b[1;32m    977\u001b[0m \u001b[38;5;28;01mif\u001b[39;00m \u001b[38;5;129;01mnot\u001b[39;00m res\u001b[38;5;241m.\u001b[39msuccess:\n",
      "File \u001b[0;32m~/miniconda3/envs/thesis/lib/python3.10/site-packages/scipy/optimize/_lsq/least_squares.py:940\u001b[0m, in \u001b[0;36mleast_squares\u001b[0;34m(fun, x0, jac, bounds, method, ftol, xtol, gtol, x_scale, loss, f_scale, diff_step, tr_solver, tr_options, jac_sparsity, max_nfev, verbose, args, kwargs)\u001b[0m\n\u001b[1;32m    939\u001b[0m \u001b[38;5;28;01melif\u001b[39;00m method \u001b[38;5;241m==\u001b[39m \u001b[38;5;124m'\u001b[39m\u001b[38;5;124mtrf\u001b[39m\u001b[38;5;124m'\u001b[39m:\n\u001b[0;32m--> 940\u001b[0m     result \u001b[38;5;241m=\u001b[39m \u001b[43mtrf\u001b[49m\u001b[43m(\u001b[49m\u001b[43mfun_wrapped\u001b[49m\u001b[43m,\u001b[49m\u001b[43m \u001b[49m\u001b[43mjac_wrapped\u001b[49m\u001b[43m,\u001b[49m\u001b[43m \u001b[49m\u001b[43mx0\u001b[49m\u001b[43m,\u001b[49m\u001b[43m \u001b[49m\u001b[43mf0\u001b[49m\u001b[43m,\u001b[49m\u001b[43m \u001b[49m\u001b[43mJ0\u001b[49m\u001b[43m,\u001b[49m\u001b[43m \u001b[49m\u001b[43mlb\u001b[49m\u001b[43m,\u001b[49m\u001b[43m \u001b[49m\u001b[43mub\u001b[49m\u001b[43m,\u001b[49m\u001b[43m \u001b[49m\u001b[43mftol\u001b[49m\u001b[43m,\u001b[49m\u001b[43m \u001b[49m\u001b[43mxtol\u001b[49m\u001b[43m,\u001b[49m\n\u001b[1;32m    941\u001b[0m \u001b[43m                 \u001b[49m\u001b[43mgtol\u001b[49m\u001b[43m,\u001b[49m\u001b[43m \u001b[49m\u001b[43mmax_nfev\u001b[49m\u001b[43m,\u001b[49m\u001b[43m \u001b[49m\u001b[43mx_scale\u001b[49m\u001b[43m,\u001b[49m\u001b[43m \u001b[49m\u001b[43mloss_function\u001b[49m\u001b[43m,\u001b[49m\u001b[43m \u001b[49m\u001b[43mtr_solver\u001b[49m\u001b[43m,\u001b[49m\n\u001b[1;32m    942\u001b[0m \u001b[43m                 \u001b[49m\u001b[43mtr_options\u001b[49m\u001b[38;5;241;43m.\u001b[39;49m\u001b[43mcopy\u001b[49m\u001b[43m(\u001b[49m\u001b[43m)\u001b[49m\u001b[43m,\u001b[49m\u001b[43m \u001b[49m\u001b[43mverbose\u001b[49m\u001b[43m)\u001b[49m\n\u001b[1;32m    944\u001b[0m \u001b[38;5;28;01melif\u001b[39;00m method \u001b[38;5;241m==\u001b[39m \u001b[38;5;124m'\u001b[39m\u001b[38;5;124mdogbox\u001b[39m\u001b[38;5;124m'\u001b[39m:\n",
      "File \u001b[0;32m~/miniconda3/envs/thesis/lib/python3.10/site-packages/scipy/optimize/_lsq/trf.py:123\u001b[0m, in \u001b[0;36mtrf\u001b[0;34m(fun, jac, x0, f0, J0, lb, ub, ftol, xtol, gtol, max_nfev, x_scale, loss_function, tr_solver, tr_options, verbose)\u001b[0m\n\u001b[1;32m    122\u001b[0m \u001b[38;5;28;01melse\u001b[39;00m:\n\u001b[0;32m--> 123\u001b[0m     \u001b[38;5;28;01mreturn\u001b[39;00m \u001b[43mtrf_bounds\u001b[49m\u001b[43m(\u001b[49m\n\u001b[1;32m    124\u001b[0m \u001b[43m        \u001b[49m\u001b[43mfun\u001b[49m\u001b[43m,\u001b[49m\u001b[43m \u001b[49m\u001b[43mjac\u001b[49m\u001b[43m,\u001b[49m\u001b[43m \u001b[49m\u001b[43mx0\u001b[49m\u001b[43m,\u001b[49m\u001b[43m \u001b[49m\u001b[43mf0\u001b[49m\u001b[43m,\u001b[49m\u001b[43m \u001b[49m\u001b[43mJ0\u001b[49m\u001b[43m,\u001b[49m\u001b[43m \u001b[49m\u001b[43mlb\u001b[49m\u001b[43m,\u001b[49m\u001b[43m \u001b[49m\u001b[43mub\u001b[49m\u001b[43m,\u001b[49m\u001b[43m \u001b[49m\u001b[43mftol\u001b[49m\u001b[43m,\u001b[49m\u001b[43m \u001b[49m\u001b[43mxtol\u001b[49m\u001b[43m,\u001b[49m\u001b[43m \u001b[49m\u001b[43mgtol\u001b[49m\u001b[43m,\u001b[49m\u001b[43m \u001b[49m\u001b[43mmax_nfev\u001b[49m\u001b[43m,\u001b[49m\u001b[43m \u001b[49m\u001b[43mx_scale\u001b[49m\u001b[43m,\u001b[49m\n\u001b[1;32m    125\u001b[0m \u001b[43m        \u001b[49m\u001b[43mloss_function\u001b[49m\u001b[43m,\u001b[49m\u001b[43m \u001b[49m\u001b[43mtr_solver\u001b[49m\u001b[43m,\u001b[49m\u001b[43m \u001b[49m\u001b[43mtr_options\u001b[49m\u001b[43m,\u001b[49m\u001b[43m \u001b[49m\u001b[43mverbose\u001b[49m\u001b[43m)\u001b[49m\n",
      "File \u001b[0;32m~/miniconda3/envs/thesis/lib/python3.10/site-packages/scipy/optimize/_lsq/trf.py:300\u001b[0m, in \u001b[0;36mtrf_bounds\u001b[0;34m(fun, jac, x0, f0, J0, lb, ub, ftol, xtol, gtol, max_nfev, x_scale, loss_function, tr_solver, tr_options, verbose)\u001b[0m\n\u001b[1;32m    299\u001b[0m J_h \u001b[38;5;241m=\u001b[39m J_augmented[:m]  \u001b[38;5;66;03m# Memory view.\u001b[39;00m\n\u001b[0;32m--> 300\u001b[0m J_augmented[m:] \u001b[38;5;241m=\u001b[39m \u001b[43mnp\u001b[49m\u001b[38;5;241;43m.\u001b[39;49m\u001b[43mdiag\u001b[49m\u001b[43m(\u001b[49m\u001b[43mdiag_h\u001b[49m\u001b[38;5;241;43m*\u001b[39;49m\u001b[38;5;241;43m*\u001b[39;49m\u001b[38;5;241;43m0.5\u001b[39;49m\u001b[43m)\u001b[49m\n\u001b[1;32m    301\u001b[0m U, s, V \u001b[38;5;241m=\u001b[39m svd(J_augmented, full_matrices\u001b[38;5;241m=\u001b[39m\u001b[38;5;28;01mFalse\u001b[39;00m)\n",
      "File \u001b[0;32m~/miniconda3/envs/thesis/lib/python3.10/site-packages/numpy/lib/twodim_base.py:230\u001b[0m, in \u001b[0;36m_diag_dispatcher\u001b[0;34m(v, k)\u001b[0m\n\u001b[1;32m    227\u001b[0m _eye_with_like \u001b[38;5;241m=\u001b[39m array_function_dispatch()(eye)\n\u001b[0;32m--> 230\u001b[0m \u001b[38;5;28;01mdef\u001b[39;00m \u001b[38;5;21m_diag_dispatcher\u001b[39m(v, k\u001b[38;5;241m=\u001b[39m\u001b[38;5;28;01mNone\u001b[39;00m):\n\u001b[1;32m    231\u001b[0m     \u001b[38;5;28;01mreturn\u001b[39;00m (v,)\n",
      "\u001b[0;31mKeyboardInterrupt\u001b[0m: ",
      "\nDuring handling of the above exception, another exception occurred:\n",
      "\u001b[0;31mNameError\u001b[0m                                 Traceback (most recent call last)",
      "Cell \u001b[0;32mIn[9], line 39\u001b[0m\n\u001b[1;32m     29\u001b[0m     voxel_fit \u001b[38;5;241m=\u001b[39m curve_fit(\n\u001b[1;32m     30\u001b[0m         gaussian_2d_curve,\n\u001b[1;32m     31\u001b[0m         mds,\n\u001b[0;32m   (...)\u001b[0m\n\u001b[1;32m     36\u001b[0m         ftol \u001b[38;5;241m=\u001b[39m \u001b[38;5;241m1e-06\u001b[39m\n\u001b[1;32m     37\u001b[0m     )[\u001b[38;5;241m0\u001b[39m]\n\u001b[1;32m     38\u001b[0m     solved \u001b[38;5;241m=\u001b[39m \u001b[38;5;28;01mTrue\u001b[39;00m\n\u001b[0;32m---> 39\u001b[0m \u001b[38;5;28;01mexcept\u001b[39;00m \u001b[43mRunetimeError\u001b[49m:\n\u001b[1;32m     40\u001b[0m     \u001b[38;5;28mprint\u001b[39m(\u001b[38;5;124mf\u001b[39m\u001b[38;5;124m'\u001b[39m\u001b[38;5;124mVOXEL \u001b[39m\u001b[38;5;132;01m{\u001b[39;00mvoxel\u001b[38;5;132;01m}\u001b[39;00m\u001b[38;5;124m: optimal params not found after \u001b[39m\u001b[38;5;132;01m{\u001b[39;00mattempt\u001b[38;5;132;01m}\u001b[39;00m\u001b[38;5;124m attempts\u001b[39m\u001b[38;5;124m'\u001b[39m)\n\u001b[1;32m     41\u001b[0m     attempt \u001b[38;5;241m+\u001b[39m\u001b[38;5;241m1\u001b[39m\n",
      "\u001b[0;31mNameError\u001b[0m: name 'RunetimeError' is not defined"
     ]
    }
   ],
   "source": [
    "for roi in rois.keys():\n",
    "    start = time.time()\n",
    "    mds_file = os.path.join(proj_dir, 'MDS_rotated', 'subj01', f'subj01_37_{roi}_mds_betas_train_rotated.npy')\n",
    "    mds = np.load(mds_file, allow_pickle=True).astype(np.float32).T\n",
    "    print('Rotated MDS loaded')\n",
    "    fit_file = os.path.join(proj_dir, 'fits_rotated', 'subj01')\n",
    "    if not os.path.exists(fit_file):\n",
    "        os.makedirs(fit_file)\n",
    "    fit_file = os.path.join(fit_file, f'fits_subj01_37_trains_version1_{roi}.npy')\n",
    "    if os.path.exists(fit_file):\n",
    "        print(f'\\t\\t\\ŧskipping {roi}, already exists')\n",
    "        continue\n",
    "    fits_roi = pd.DataFrame(columns=columns)\n",
    "\n",
    "    print(f'Starting fitting for ROI {roi}, on version 1')\n",
    "    for voxel in range(n_voxels):\n",
    "        if not voxel % 1000:\n",
    "            print(\n",
    "                f'\\t\\t\\t\\t\\t[{100*voxel/n_voxels:.2f}%] elapsed time since {roi} start: ',\n",
    "                            f'{time.strftime(\"%H:%M:%S\", time.gmtime(time.time() - start))}'\n",
    "                        )\n",
    "        voxel_activity = betas_01[:, voxel]\n",
    "        if params['random']:\n",
    "            attempt = 1\n",
    "            solved = False\n",
    "            while not solved and attempt <= 10:\n",
    "                try:\n",
    "                    initial_guess = (initial[1] - initial[0]) * np.random.random(initial[0].shape) + initial[0]\n",
    "                    voxel_fit = curve_fit(\n",
    "                        gaussian_2d_curve,\n",
    "                        mds,\n",
    "                        voxel_activity,\n",
    "                        p0  = initial_guess,\n",
    "                        bounds=params['bounds'],\n",
    "                        method = 'trf',\n",
    "                        ftol = 1e-06\n",
    "                    )[0]\n",
    "                    solved = True\n",
    "                except RunetimeError:\n",
    "                    print(f'VOXEL {voxel}: optimal params not found after {attempt} attempts')\n",
    "                    attempt +1\n",
    "    def gaus_roi(fits):\n",
    "        return gaussian_2d_curve(md, *fits)\n",
    "\n",
    "    pred_activity = fits_roi.apply(gaus_roi, axis = 1)\n",
    "    pred_activity = np.array([np.array(x) for x in pred_activity]).T\n",
    "    roi_res = np.sum((pred_activity - betas_01)**2, axis=0)\n",
    "    roi_tot = sum((betas- np.tile(betas_01.mean(axis=0), (n_betas, 1)))**2).T\n",
    "\n",
    "    ## Maybe include split here\n",
    "\n",
    "    fits_roi[\"var_explained\"] = 1 - roi_res / roi_tot\n",
    "    fits_roi[\"mds_ecc\"] = (fits_roi.x0 ** 2 + fits_roi.y0[1] ** 2) ** (1/2)\n",
    "    fits_roi[\"mds_ang\"] = np.arctan2(fits_roi.x0/bounds[1][0], fits_roi.y0/bounds[1][1])\n",
    "\n",
    "    np.save(fit_file, fits_roi)\n",
    "    print(f'\\t\\t\\tTime elapsed during {roi}: ',\n",
    "    f'{time.strftime(\"%H:%M:%S\", time.gmtime(time.time() - start))}'\n",
    "                )\n",
    "del betas_01\n",
    "                                     \n",
    "    "
   ]
  },
  {
   "cell_type": "code",
   "execution_count": null,
   "id": "d5f05a47-5e11-42cd-90bf-336efa03f05b",
   "metadata": {},
   "outputs": [],
   "source": []
  }
 ],
 "metadata": {
  "kernelspec": {
   "display_name": "Python 3 (ipykernel)",
   "language": "python",
   "name": "python3"
  },
  "language_info": {
   "codemirror_mode": {
    "name": "ipython",
    "version": 3
   },
   "file_extension": ".py",
   "mimetype": "text/x-python",
   "name": "python",
   "nbconvert_exporter": "python",
   "pygments_lexer": "ipython3",
   "version": "3.10.13"
  }
 },
 "nbformat": 4,
 "nbformat_minor": 5
}
