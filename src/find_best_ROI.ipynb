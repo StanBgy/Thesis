{
 "cells": [
  {
   "cell_type": "code",
   "execution_count": 1,
   "id": "2d8138f5-331b-492e-84fc-36289a071965",
   "metadata": {},
   "outputs": [],
   "source": [
    "import os \n",
    "import numpy\n",
    "from utils.utils import *"
   ]
  },
  {
   "cell_type": "code",
   "execution_count": 5,
   "id": "495689e2-7701-47a4-ade3-4fcc8dbc7c54",
   "metadata": {},
   "outputs": [
    {
     "data": {
      "text/plain": [
       "array([[0.37231990694999695, -0.6239036321640015, 5.088525772094727, ...,\n",
       "        2.603559970855713, 'V1', 'V1'],\n",
       "       [0.4182160496711731, -0.5949090123176575, 6.3715105056762695, ...,\n",
       "        2.5288617610931396, 'V1', 'V1'],\n",
       "       [0.5021801590919495, -0.5468025803565979, 5.603321552276611, ...,\n",
       "        2.398707628250122, 'V1', 'V1'],\n",
       "       ...,\n",
       "       [-0.2831939160823822, 0.28429538011550903, 5.647521495819092, ...,\n",
       "        -0.7834572196006775, 'V2', 'V2'],\n",
       "       [-0.19628265500068665, -0.8066052198410034, 3.4017443656921387,\n",
       "        ..., -2.902888059616089, 'V2', 'V2'],\n",
       "       [-0.31552836298942566, -0.14936405420303345, 4.732631683349609,\n",
       "        ..., -2.0129201412200928, 'V2', 'V2']], dtype=object)"
      ]
     },
     "execution_count": 5,
     "metadata": {},
     "output_type": "execute_result"
    }
   ],
   "source": [
    "model_path = os.path.join(models_dir, 'best_fits_oself_subj01_train_baseroi_rotated.npy')\n",
    "model = np.load(model_path, allow_pickle=True)\n",
    "model"
   ]
  },
  {
   "cell_type": "code",
   "execution_count": null,
   "id": "d1d9bda3-ece4-42d9-b82a-177b97015645",
   "metadata": {},
   "outputs": [],
   "source": [
    "models_subs = {}\n",
    "models = ['wself']\n",
    "columns = [\"x0\", \"y0\", \"sigma\", \"slope\", \"intercept\", \"test_var_explained\", \"var_explained\", \"mds_ecc\", \"mds_ang\", \"roi\", \"fit_with\"]\n",
    "\n",
    "# for all vo"
   ]
  }
 ],
 "metadata": {
  "kernelspec": {
   "display_name": "Python 3 (ipykernel)",
   "language": "python",
   "name": "python3"
  },
  "language_info": {
   "codemirror_mode": {
    "name": "ipython",
    "version": 3
   },
   "file_extension": ".py",
   "mimetype": "text/x-python",
   "name": "python",
   "nbconvert_exporter": "python",
   "pygments_lexer": "ipython3",
   "version": "3.10.13"
  }
 },
 "nbformat": 4,
 "nbformat_minor": 5
}
