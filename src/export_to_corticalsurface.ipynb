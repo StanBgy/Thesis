{
 "cells": [
  {
   "cell_type": "code",
   "execution_count": 2,
   "id": "003dace8-ee0d-4c78-9c20-ae96a3c5883c",
   "metadata": {},
   "outputs": [],
   "source": [
    "import numpy as np\n",
    "import nibabel as nib \n",
    "import os \n",
    "import pandas as pd\n",
    "from utils.utils import * \n",
    "from utils.flips import get_prefered_xy\n",
    "import math\n",
    "import matplotlib.pyplot as plt"
   ]
  },
  {
   "cell_type": "code",
   "execution_count": 3,
   "id": "a6d06143-02ee-4592-8e9e-7246bfd72c41",
   "metadata": {},
   "outputs": [],
   "source": [
    "rois_long = {'V1v': 1, 'V1d': 2, 'V2v': 3, 'V2d': 4, 'V3v': 5, 'V3d': 6, 'hV4': 7, 'VO-1': 8,\n",
    " 'VO-2': 9, 'PHC-1': 10, 'PHC-2': 11, 'LO-1': 12, 'LO-2': 13, 'TO-1': 14, 'TO-2': 15\n",
    "}\n",
    "sior_long = {v: k for k,v in rois_long.items()}\n",
    "to_reduce = {'V1v': 'V1', 'V1d': 'V1', 'V2v': 'V2', 'V2d': 'V2', 'V3v': 'V3', 'V3d': 'V3'}\n",
    "sior = {v: k for k,v in rois.items()}"
   ]
  },
  {
   "cell_type": "code",
   "execution_count": 4,
   "id": "4959d403-a359-44cf-9389-76160c1b35c1",
   "metadata": {},
   "outputs": [
    {
     "name": "stdout",
     "output_type": "stream",
     "text": [
      "(907,)\n"
     ]
    }
   ],
   "source": [
    "cos_sin = get_prefered_xy(subj_list, sessions, fetch_conds=False) # save that and open it matlab \n"
   ]
  },
  {
   "cell_type": "code",
   "execution_count": 5,
   "id": "834ff0ad-5bdf-4b1f-a4f6-fea7f49f8dea",
   "metadata": {},
   "outputs": [
    {
     "data": {
      "text/plain": [
       "array([[ 1.        ,  0.        ],\n",
       "       [ 0.6541633 ,  0.75635332],\n",
       "       [ 0.36456779,  0.93117684],\n",
       "       [ 0.53622597,  0.84407449],\n",
       "       [ 0.68344992, -0.72999746],\n",
       "       [ 0.72568947,  0.68802243],\n",
       "       [ 0.427239  ,  0.90413874],\n",
       "       [-0.29617682,  0.95513314]])"
      ]
     },
     "execution_count": 5,
     "metadata": {},
     "output_type": "execute_result"
    }
   ],
   "source": [
    "cos_sin  #Y's sould probably be flipped"
   ]
  },
  {
   "cell_type": "code",
   "execution_count": 18,
   "id": "ba0563bc-0503-468f-9247-e49290bfb551",
   "metadata": {},
   "outputs": [
    {
     "ename": "KeyError",
     "evalue": "'best_roi'",
     "output_type": "error",
     "traceback": [
      "\u001b[0;31m---------------------------------------------------------------------------\u001b[0m",
      "\u001b[0;31mKeyError\u001b[0m                                  Traceback (most recent call last)",
      "Cell \u001b[0;32mIn[18], line 35\u001b[0m\n\u001b[1;32m     32\u001b[0m         models_subs[sub][m][\u001b[38;5;124m'\u001b[39m\u001b[38;5;124my0_prefered\u001b[39m\u001b[38;5;124m'\u001b[39m] \u001b[38;5;241m=\u001b[39m models_subs[sub][m][\u001b[38;5;124m'\u001b[39m\u001b[38;5;124mx0\u001b[39m\u001b[38;5;124m'\u001b[39m] \u001b[38;5;241m*\u001b[39m cos_sin[i, \u001b[38;5;241m1\u001b[39m]\u001b[38;5;241m+\u001b[39mmodels_subs[sub][m][\u001b[38;5;124m'\u001b[39m\u001b[38;5;124my0\u001b[39m\u001b[38;5;124m'\u001b[39m] \u001b[38;5;241m*\u001b[39m cos_sin[i, \u001b[38;5;241m0\u001b[39m]\n\u001b[1;32m     33\u001b[0m        \u001b[38;5;66;03m# models_subs[sub][m]['distance'] = np.sqrt(models_subs[sub][m]['x0']**2 + models_subs[sub][m]['y0']**2)\u001b[39;00m\n\u001b[1;32m     34\u001b[0m    \u001b[38;5;66;03m#     models_subs[sub][m]['distance_prefered'] = np.sqrt(models_subs[sub][m]['x0_prefered']**2 + models_subs[sub][m]['y0_prefered']**2)\u001b[39;00m\n\u001b[0;32m---> 35\u001b[0m     sub_m_study \u001b[38;5;241m=\u001b[39m \u001b[43mmodels_subs\u001b[49m\u001b[43m[\u001b[49m\u001b[43msub\u001b[49m\u001b[43m]\u001b[49m\u001b[43m[\u001b[49m\u001b[43mmodel_study\u001b[49m\u001b[43m]\u001b[49m\n\u001b[1;32m     37\u001b[0m hier_index \u001b[38;5;241m=\u001b[39m pd\u001b[38;5;241m.\u001b[39mMultiIndex\u001b[38;5;241m.\u001b[39mfrom_arrays(\n\u001b[1;32m     38\u001b[0m     [\n\u001b[1;32m     39\u001b[0m         np\u001b[38;5;241m.\u001b[39mtile(\u001b[38;5;28mlist\u001b[39m(rois\u001b[38;5;241m.\u001b[39mkeys()), \u001b[38;5;28mlen\u001b[39m(models_subs)),\n\u001b[0;32m   (...)\u001b[0m\n\u001b[1;32m     42\u001b[0m     names \u001b[38;5;241m=\u001b[39m[\u001b[38;5;124m\"\u001b[39m\u001b[38;5;124mroi\u001b[39m\u001b[38;5;124m\"\u001b[39m, \u001b[38;5;124m\"\u001b[39m\u001b[38;5;124msub\u001b[39m\u001b[38;5;124m\"\u001b[39m]\n\u001b[1;32m     43\u001b[0m )\n\u001b[1;32m     44\u001b[0m models_subs[\u001b[38;5;124m\"\u001b[39m\u001b[38;5;124msubj01\u001b[39m\u001b[38;5;124m\"\u001b[39m][model_study][\u001b[38;5;124m\"\u001b[39m\u001b[38;5;124mtest_var_explained\u001b[39m\u001b[38;5;124m\"\u001b[39m]\n",
      "\u001b[0;31mKeyError\u001b[0m: 'best_roi'"
     ]
    }
   ],
   "source": [
    "\"\"\"\n",
    "the code is currently used to get the best roi on the cortical surface  ==== I should parameterize it \n",
    "\"\"\"\n",
    "models_subs = {}\n",
    "models = ['oself']\n",
    "columns = [\"x0\", \"y0\", \"sigma\", \"slope\", \"intercept\", \"test_var_explained\", \"var_explained\", \"mds_ecc\", \"mds_ang\", \"roi\", \"fit_with\"]\n",
    "columns = [\"x0\", \"y0\", \"sigma\", \"slope\", \"intercept\", \"test_var_explained\", \"var_explained\", \"mds_ecc\", \"mds_ang\" ,\"roi\", \"best_roi\"]\n",
    "model_study = 'woself'\n",
    "model_study = 'best_roi'\n",
    "mode = \"train\"\n",
    "rotated = True\n",
    "\n",
    "#cos_sin = get_prefered_xy(subj_list) # save that and open it matlab \n",
    "#print(cos_sin)\n",
    "\n",
    "\n",
    "for i, sub in enumerate(subj_list):\n",
    "    models_subs[sub] = {}\n",
    "    noise_ceilling_file = os.path.join(noise_dir, f'{sub}_noise_ceilling_all_vox.npy')\n",
    "    noise_ceilling = np.load(noise_ceilling_file, allow_pickle=True)\n",
    "    for m in models:\n",
    "        if m == 'best_roi':\n",
    "            m_file = os.path.join(models_dir, f'best_fits_{m}_{sub}_{mode}.npy')\n",
    "        else: \n",
    "            m_file = os.path.join(models_dir, f'best_fits_{m}_{sub}_{mode}.npy')\n",
    "        models_subs[sub][m] = pd.DataFrame(np.load(m_file, allow_pickle=True), columns=columns)\n",
    "        models_subs[sub][m][columns[:-2]] = models_subs[sub][m][columns[:-2]].astype(np.float32)\n",
    "        models_subs[sub][m]['noise_ceilling'] = noise_ceilling\n",
    "        models_subs[sub][m]['voxel_performance'] = models_subs[sub][m][\"test_var_explained\"] / models_subs[sub][m]['noise_ceilling']\n",
    "        # this should be okay \n",
    "        models_subs[sub][m]['x0_prefered'] = models_subs[sub][m]['x0'] * cos_sin[i, 0]-models_subs[sub][m]['y0'] * cos_sin[i, 1] # the mds have different dimension -> so problem \n",
    "        models_subs[sub][m]['y0_prefered'] = models_subs[sub][m]['x0'] * cos_sin[i, 1]+models_subs[sub][m]['y0'] * cos_sin[i, 0]\n",
    "       # models_subs[sub][m]['distance'] = np.sqrt(models_subs[sub][m]['x0']**2 + models_subs[sub][m]['y0']**2)\n",
    "   #     models_subs[sub][m]['distance_prefered'] = np.sqrt(models_subs[sub][m]['x0_prefered']**2 + models_subs[sub][m]['y0_prefered']**2)\n",
    "    sub_m_study = models_subs[sub][model_study]\n",
    "\n",
    "hier_index = pd.MultiIndex.from_arrays(\n",
    "    [\n",
    "        np.tile(list(rois.keys()), len(models_subs)),\n",
    "        np.repeat(list(models_subs.keys()), len(rois.keys())),\n",
    "    ],\n",
    "    names =[\"roi\", \"sub\"]\n",
    ")\n",
    "models_subs[\"subj01\"][model_study][\"test_var_explained\"]\n",
    "\n",
    "# check distribution of values in VO-1s for common conditions \n",
    "\n",
    "#plt.plot(models_subs[\"subj08\"][model_study][\"voxel_performance\"]) #? \n",
    "models_subs"
   ]
  },
  {
   "cell_type": "code",
   "execution_count": 19,
   "id": "4651cc3e-5ca3-433c-899b-3d471e95e3ff",
   "metadata": {},
   "outputs": [
    {
     "data": {
      "text/plain": [
       "{'subj01': {'oself':              x0        y0     sigma      slope  intercept  test_var_explained  \\\n",
       "  0      0.372320 -0.623904  5.088526  20.269579 -20.049505            0.000683   \n",
       "  1      0.418216 -0.594909  6.371511  27.195335 -26.994867           -0.000804   \n",
       "  2      0.502180 -0.546803  5.603322  17.069893 -16.888922           -0.002069   \n",
       "  3      0.349324 -0.618380  6.187158  30.486681 -30.267786           -0.001290   \n",
       "  4      0.331933 -0.591473  5.677624  26.163538 -25.946020           -0.002995   \n",
       "  ...         ...       ...       ...        ...        ...                 ...   \n",
       "  33792 -0.168001  1.050000  5.891155  61.754356 -61.342781            0.024231   \n",
       "  33793 -0.109479 -1.050000  4.638591  22.051933 -21.820461            0.005299   \n",
       "  33794 -0.283194  0.284295  5.647521  21.789379 -21.611290            0.008925   \n",
       "  33795 -0.196283 -0.806605  3.401744  10.854861 -10.626771            0.006272   \n",
       "  33796 -0.315528 -0.149364  4.732632  15.733027 -15.540269            0.006480   \n",
       "  \n",
       "         var_explained   mds_ecc   mds_ang roi best_roi  noise_ceilling  \\\n",
       "  0           0.039980  0.701811  2.603560  V1       V1        0.067551   \n",
       "  1           0.036265  0.727201  2.528862  V1       V1        0.057378   \n",
       "  2           0.032367  0.778525  2.398708  V1       V1        0.058493   \n",
       "  3           0.038280  0.689887  2.627380  V1       V1        0.059143   \n",
       "  4           0.036776  0.681246  2.630193  V1       V1        0.059520   \n",
       "  ...              ...       ...       ...  ..      ...             ...   \n",
       "  33792       0.071195  0.618176 -0.158657  V1       V1        0.157308   \n",
       "  33793       0.020490  1.055692 -3.037702  V2       V2        0.121935   \n",
       "  33794       0.019345  1.087520 -0.783457  V2       V2        0.149075   \n",
       "  33795       0.024541  1.068189 -2.902888  V2       V2        0.164070   \n",
       "  33796       0.024853  1.096384 -2.012920  V2       V2        0.165336   \n",
       "  \n",
       "         voxel_performance  x0_prefered  y0_prefered  \n",
       "  0               0.010108     0.372320    -0.623904  \n",
       "  1              -0.014020     0.418216    -0.594909  \n",
       "  2              -0.035374     0.502180    -0.546803  \n",
       "  3              -0.021815     0.349324    -0.618380  \n",
       "  4              -0.050322     0.331933    -0.591473  \n",
       "  ...                  ...          ...          ...  \n",
       "  33792           0.154034    -0.168001     1.050000  \n",
       "  33793           0.043455    -0.109479    -1.050000  \n",
       "  33794           0.059866    -0.283194     0.284295  \n",
       "  33795           0.038229    -0.196283    -0.806605  \n",
       "  33796           0.039192    -0.315528    -0.149364  \n",
       "  \n",
       "  [33797 rows x 15 columns]}}"
      ]
     },
     "execution_count": 19,
     "metadata": {},
     "output_type": "execute_result"
    }
   ],
   "source": [
    "models_subs"
   ]
  },
  {
   "cell_type": "code",
   "execution_count": 9,
   "id": "76072b0a-8988-4f95-ae86-48bfb60fab40",
   "metadata": {},
   "outputs": [
    {
     "data": {
      "image/png": "[encoded data removed]",
      "text/plain": [
       "<Figure size 640x480 with 1 Axes>"
      ]
     },
     "metadata": {},
     "output_type": "display_data"
    }
   ],
   "source": [
    "plt.plot(models_subs[\"subj08\"][model_study][\"test_var_explained\"])\n",
    "plt.plot(models_subs[\"subj08\"][model_study][\"noise_ceilling\"])\n",
    "plt.show()"
   ]
  },
  {
   "cell_type": "code",
   "execution_count": 12,
   "id": "f507c2d7-ac4e-42f2-abd2-d0873a493505",
   "metadata": {},
   "outputs": [
    {
     "data": {
      "text/plain": [
       "[<matplotlib.lines.Line2D at 0x7f98980536a0>]"
      ]
     },
     "execution_count": 12,
     "metadata": {},
     "output_type": "execute_result"
    },
    {
     "data": {
      "image/png": "[encoded data removed]",
      "text/plain": [
       "<Figure size 640x480 with 1 Axes>"
      ]
     },
     "metadata": {},
     "output_type": "display_data"
    }
   ],
   "source": [
    "plt.plot(models_subs[\"subj08\"][model_study][\"voxel_performance\"][models_subs[\"subj08\"][model_study][\"voxel_performance\"] > 1])"
   ]
  },
  {
   "cell_type": "code",
   "execution_count": 20,
   "id": "2959908e-3d7c-4a04-90eb-b8aa891165cd",
   "metadata": {
    "scrolled": true
   },
   "outputs": [
    {
     "name": "stdout",
     "output_type": "stream",
     "text": [
      "------ EXPORTING MODEL FOR subj01\n",
      "\tx0\n",
      "\t\tlh\n"
     ]
    },
    {
     "name": "stderr",
     "output_type": "stream",
     "text": [
      "/home/harveylab/miniconda3/envs/thesis/lib/python3.10/site-packages/nibabel/spatialimages.py:558: UserWarning: Using large vector Freesurfer hack; header will not be compatible with SPM or FSL\n",
      "  hdr.set_data_shape(shape)\n"
     ]
    },
    {
     "name": "stdout",
     "output_type": "stream",
     "text": [
      "\t\trh\n",
      "\ty0\n",
      "\t\tlh\n",
      "\t\trh\n",
      "\tsigma\n",
      "\t\tlh\n",
      "\t\trh\n",
      "\tslope\n",
      "\t\tlh\n",
      "\t\trh\n",
      "\tintercept\n",
      "\t\tlh\n",
      "\t\trh\n",
      "\ttest_var_explained\n",
      "\t\tlh\n",
      "\t\trh\n",
      "\tvar_explained\n",
      "\t\tlh\n",
      "\t\trh\n",
      "\tmds_ecc\n",
      "\t\tlh\n",
      "\t\trh\n",
      "\tmds_ang\n",
      "\t\tlh\n",
      "\t\trh\n",
      "\troi\n",
      "\t\tlh\n",
      "\t\trh\n",
      "\tbest_roi\n",
      "\t\tlh\n",
      "\t\trh\n",
      "\tx0_prefered\n",
      "\t\tlh\n",
      "\t\trh\n",
      "\ty0_prefered\n",
      "\t\tlh\n",
      "\t\trh\n",
      "\tnoise_ceilling\n",
      "\t\tlh\n",
      "\t\trh\n",
      "\tvoxel_performance\n",
      "\t\tlh\n",
      "\t\trh\n"
     ]
    },
    {
     "ename": "KeyError",
     "evalue": "'subj02'",
     "output_type": "error",
     "traceback": [
      "\u001b[0;31m---------------------------------------------------------------------------\u001b[0m",
      "\u001b[0;31mKeyError\u001b[0m                                  Traceback (most recent call last)",
      "Cell \u001b[0;32mIn[20], line 15\u001b[0m\n\u001b[1;32m     13\u001b[0m \u001b[38;5;28;01mfor\u001b[39;00m model \u001b[38;5;129;01min\u001b[39;00m models:\n\u001b[1;32m     14\u001b[0m     \u001b[38;5;28;01mfor\u001b[39;00m sub, sessions \u001b[38;5;129;01min\u001b[39;00m subjects_sessions\u001b[38;5;241m.\u001b[39mvalues():\n\u001b[0;32m---> 15\u001b[0m         m \u001b[38;5;241m=\u001b[39m \u001b[43mmodels_subs\u001b[49m\u001b[43m[\u001b[49m\u001b[43msub\u001b[49m\u001b[43m]\u001b[49m[model]\n\u001b[1;32m     16\u001b[0m         \u001b[38;5;28mprint\u001b[39m(\u001b[38;5;124mf\u001b[39m\u001b[38;5;124m'\u001b[39m\u001b[38;5;124m------ EXPORTING MODEL FOR \u001b[39m\u001b[38;5;132;01m{\u001b[39;00msub\u001b[38;5;132;01m}\u001b[39;00m\u001b[38;5;124m'\u001b[39m)\n\u001b[1;32m     17\u001b[0m         \u001b[38;5;28;01mfor\u001b[39;00m f \u001b[38;5;129;01min\u001b[39;00m fields:\n",
      "\u001b[0;31mKeyError\u001b[0m: 'subj02'"
     ]
    }
   ],
   "source": [
    "hemis = ['lh', 'rh']\n",
    "fields = columns\n",
    "fields.append('x0_prefered')\n",
    "fields.append('y0_prefered')\n",
    "fields.append('noise_ceilling')\n",
    "fields.append('voxel_performance')\n",
    "if rotated:\n",
    "    rotation = \"rotated\"\n",
    "if not rotated: \n",
    "    rotation = \"notrotated\"\n",
    "\n",
    "\n",
    "for model in models:\n",
    "    for sub, sessions in subjects_sessions.values():\n",
    "        m = models_subs[sub][model]\n",
    "        print(f'------ EXPORTING MODEL FOR {sub}')\n",
    "        for f in fields:\n",
    "            print(f'\\t{f}')\n",
    "            s = -1\n",
    "            for hemi in hemis:\n",
    "                print(f'\\t\\t{hemi}')\n",
    "                \n",
    "                if sub == 'subj06' or sub == 'subj08':\n",
    "                    maskdata_long_file = os.path.join(data_dir, 'mask', sub, f'{hemi}.{sub}.nans.testrois.mgz')\n",
    "                else:\n",
    "                    maskdata_long_file = os.path.join(data_dir, 'mask', sub, f'{hemi}.{sub}.testrois.mgz')\n",
    "                maskdata_long = nib.load(maskdata_long_file).get_fdata().squeeze()\n",
    "              #  print(maskdata_long.shape)\n",
    "        \n",
    "                maskdata_file = os.path.join(data_dir, 'mask', sub, f'{hemi}.short.reduced.{sub}.testrois.npy')\n",
    "                maskdata = np.load(maskdata_file, allow_pickle=True).astype(int)\n",
    "\n",
    "                data_out_file = os.path.join(results_dir, sub, f'{hemi}.{model}.{f}.{rotation}.mgz')\n",
    "                label_out_file = os.path.join(label_dir,'freesurfer', sub, 'label', f'{hemi}.{model}.{f}.{rotation}.mgz') # annoying but necessary for matlab output\n",
    "                if os.path.exists(data_out_file):\n",
    "                    pass\n",
    "                data_out = np.zeros(maskdata_long.shape)\n",
    "             \n",
    "                wrongs = []\n",
    "                for i in range(maskdata_long.shape[0]):\n",
    "                    voxel = int(maskdata_long[i])\n",
    "                    if voxel==0 or voxel > 15:\n",
    "                        continue\n",
    "                    s += 1\n",
    "                    if sior_long[voxel] in to_reduce.keys():\n",
    "                        roi = rois[to_reduce[sior_long[voxel]]]\n",
    "                    else:\n",
    "                        roi = rois[sior_long[voxel]]\n",
    "                  #  roi = rois[sior[voxel]]\n",
    "                    # prove that the order is maintained\n",
    "                    if roi != rois[m.iloc[s].roi]:\n",
    "                        print(f'{i}: {roi} != {rois[m.iloc[s].roi]}')\n",
    "                        wrongs.append(i)\n",
    "                    if f in ['roi', 'best_roi']:\n",
    "                        data_out[i] = rois[m.iloc[s][f]]\n",
    "                    elif f == 'mds_ang':\n",
    "                        data_out[i] = math.degrees(m.iloc[s][f]) + 180\n",
    "                    elif f == 'intercept':\n",
    "                        data_out[i] = m.iloc[s][f] + abs(m[f].min()) + 1e-08\n",
    "                    elif f in ['x0', 'y0', 'x0_prefered', 'y0_prefered']:\n",
    "                        data_out[i] = m.iloc[s][f] + 1.1\n",
    "                    elif f in ['var_explained', 'test_var_explained']:\n",
    "                        data_out[i] = m.iloc[s][f] + 1 # Add 1 for the variance explain, so we can still mask the non relevant value and plot the \"negative\" variance\n",
    "                    elif f == 'voxel_performance':\n",
    "                        data_out[i] = m.iloc[s][f] + 1\n",
    "                    else:\n",
    "                        data_out[i] = m.iloc[s][f]  \n",
    "                img = nib.Nifti1Image(np.expand_dims(data_out, axis=(1, 2)), np.eye(4))\n",
    "\n",
    "                nib.loadsave.save(img, data_out_file)\n",
    "                nib.loadsave.save(img, label_out_file)\n",
    "                if f == 'mds_ang':\n",
    "                    for ang in [45, 90, 135, 180, 225, 270, 305]:\n",
    "                        data_out_file = os.path.join(results_dir, sub, f'{hemi}.{model}.f.{str(ang)}.{rotation}.mgz')\n",
    "                        label_out_file = os.path.join(label_dir, 'freesurfer', sub, 'label', f'{hemi}.{model}.{f}.{str(ang)}.{rotation}.mgz')\n",
    "                        data_out_ang = np.copy(data_out)\n",
    "                        data_out_ang[data_out != 0] += ang\n",
    "                        data_out_ang = data_out_ang % 360\n",
    "                        img = nib.Nifti1Image(np.expand_dims(data_out_ang, axis = (1, 2)), np.eye(4))\n",
    "                        nib.loadsave.save(img, data_out_file)\n",
    "                        nib.loadsave.save(img, label_out_file)\n",
    "\n",
    "\n",
    "print('end')\n",
    "                        \n",
    "            "
   ]
  },
  {
   "cell_type": "code",
   "execution_count": null,
   "id": "adde547a-341a-4875-97aa-429185ea6e71",
   "metadata": {},
   "outputs": [],
   "source": []
  },
  {
   "cell_type": "code",
   "execution_count": null,
   "id": "59aa57a6-6920-4d13-9596-c9f89f1a1a35",
   "metadata": {},
   "outputs": [],
   "source": []
  },
  {
   "cell_type": "code",
   "execution_count": null,
   "id": "062edafd-ebfe-4c2a-8df7-8c915d477456",
   "metadata": {},
   "outputs": [],
   "source": []
  }
 ],
 "metadata": {
  "kernelspec": {
   "display_name": "Python 3 (ipykernel)",
   "language": "python",
   "name": "python3"
  },
  "language_info": {
   "codemirror_mode": {
    "name": "ipython",
    "version": 3
   },
   "file_extension": ".py",
   "mimetype": "text/x-python",
   "name": "python",
   "nbconvert_exporter": "python",
   "pygments_lexer": "ipython3",
   "version": "3.10.13"
  }
 },
 "nbformat": 4,
 "nbformat_minor": 5
}
