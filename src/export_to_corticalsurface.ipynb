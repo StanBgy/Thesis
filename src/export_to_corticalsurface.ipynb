{
 "cells": [
  {
   "cell_type": "code",
   "execution_count": 1,
   "id": "003dace8-ee0d-4c78-9c20-ae96a3c5883c",
   "metadata": {},
   "outputs": [],
   "source": [
    "import numpy as np\n",
    "import nibabel as nib \n",
    "import os \n",
    "import pandas as pd\n",
    "from utils.utils import * \n",
    "import math"
   ]
  },
  {
   "cell_type": "code",
   "execution_count": 2,
   "id": "a6d06143-02ee-4592-8e9e-7246bfd72c41",
   "metadata": {},
   "outputs": [],
   "source": [
    "rois_long = {'V1v': 1, 'V1d': 2, 'V2v': 3, 'V2d': 4, 'V3v': 5, 'V3d': 6, 'hV4': 7, 'VO-1': 8,\n",
    " 'VO-2': 9, 'PHC-1': 10, 'PHC-2': 11, 'LO-1': 12, 'LO-2': 13, 'TO-1': 14, 'TO-2': 15\n",
    "}\n",
    "sior_long = {v: k for k,v in rois_long.items()}\n",
    "to_reduce = {'V1v': 'V1', 'V1d': 'V1', 'V2v': 'V2', 'V2d': 'V2', 'V3v': 'V3', 'V3d': 'V3'}\n",
    "sior = {v: k for k,v in rois.items()}"
   ]
  },
  {
   "cell_type": "code",
   "execution_count": 3,
   "id": "2f513ca0-8cb8-4ab2-b397-ad1bd6f0eb18",
   "metadata": {},
   "outputs": [
    {
     "ename": "FileNotFoundError",
     "evalue": "[Errno 2] No such file or directory: '/home/stan/thesis-repo/projects/NSD/models/subj02/best_fits_oself_subj02_40_NR.npy'",
     "output_type": "error",
     "traceback": [
      "\u001b[0;31m---------------------------------------------------------------------------\u001b[0m",
      "\u001b[0;31mFileNotFoundError\u001b[0m                         Traceback (most recent call last)",
      "Cell \u001b[0;32mIn[3], line 10\u001b[0m\n\u001b[1;32m      8\u001b[0m \u001b[38;5;28;01mfor\u001b[39;00m m \u001b[38;5;129;01min\u001b[39;00m models:\n\u001b[1;32m      9\u001b[0m     m_file \u001b[38;5;241m=\u001b[39m os\u001b[38;5;241m.\u001b[39mpath\u001b[38;5;241m.\u001b[39mjoin(proj_dir, \u001b[38;5;124m'\u001b[39m\u001b[38;5;124mmodels\u001b[39m\u001b[38;5;124m'\u001b[39m, sub, \u001b[38;5;124mf\u001b[39m\u001b[38;5;124m'\u001b[39m\u001b[38;5;124mbest_fits_\u001b[39m\u001b[38;5;132;01m{\u001b[39;00mm\u001b[38;5;132;01m}\u001b[39;00m\u001b[38;5;124m_\u001b[39m\u001b[38;5;132;01m{\u001b[39;00msub\u001b[38;5;132;01m}\u001b[39;00m\u001b[38;5;124m_\u001b[39m\u001b[38;5;132;01m{\u001b[39;00mn_sessions\u001b[38;5;132;01m}\u001b[39;00m\u001b[38;5;124m_NR.npy\u001b[39m\u001b[38;5;124m'\u001b[39m)\n\u001b[0;32m---> 10\u001b[0m     models_subs[sub][m] \u001b[38;5;241m=\u001b[39m pd\u001b[38;5;241m.\u001b[39mDataFrame(\u001b[43mnp\u001b[49m\u001b[38;5;241;43m.\u001b[39;49m\u001b[43mload\u001b[49m\u001b[43m(\u001b[49m\u001b[43mm_file\u001b[49m\u001b[43m,\u001b[49m\u001b[43m \u001b[49m\u001b[43mallow_pickle\u001b[49m\u001b[38;5;241;43m=\u001b[39;49m\u001b[38;5;28;43;01mTrue\u001b[39;49;00m\u001b[43m)\u001b[49m, columns\u001b[38;5;241m=\u001b[39mcolumns)\n\u001b[1;32m     11\u001b[0m     models_subs[sub][m][columns[:\u001b[38;5;241m-\u001b[39m\u001b[38;5;241m2\u001b[39m]] \u001b[38;5;241m=\u001b[39m models_subs[sub][m][columns[:\u001b[38;5;241m-\u001b[39m\u001b[38;5;241m2\u001b[39m]]\u001b[38;5;241m.\u001b[39mastype(np\u001b[38;5;241m.\u001b[39mfloat32)\n\u001b[1;32m     12\u001b[0m sub_m_study \u001b[38;5;241m=\u001b[39m models_subs[sub][model_study]\n",
      "File \u001b[0;32m~/miniconda3/envs/thesis/lib/python3.10/site-packages/numpy/lib/npyio.py:427\u001b[0m, in \u001b[0;36mload\u001b[0;34m(file, mmap_mode, allow_pickle, fix_imports, encoding, max_header_size)\u001b[0m\n\u001b[1;32m    425\u001b[0m     own_fid \u001b[38;5;241m=\u001b[39m \u001b[38;5;28;01mFalse\u001b[39;00m\n\u001b[1;32m    426\u001b[0m \u001b[38;5;28;01melse\u001b[39;00m:\n\u001b[0;32m--> 427\u001b[0m     fid \u001b[38;5;241m=\u001b[39m stack\u001b[38;5;241m.\u001b[39menter_context(\u001b[38;5;28;43mopen\u001b[39;49m\u001b[43m(\u001b[49m\u001b[43mos_fspath\u001b[49m\u001b[43m(\u001b[49m\u001b[43mfile\u001b[49m\u001b[43m)\u001b[49m\u001b[43m,\u001b[49m\u001b[43m \u001b[49m\u001b[38;5;124;43m\"\u001b[39;49m\u001b[38;5;124;43mrb\u001b[39;49m\u001b[38;5;124;43m\"\u001b[39;49m\u001b[43m)\u001b[49m)\n\u001b[1;32m    428\u001b[0m     own_fid \u001b[38;5;241m=\u001b[39m \u001b[38;5;28;01mTrue\u001b[39;00m\n\u001b[1;32m    430\u001b[0m \u001b[38;5;66;03m# Code to distinguish from NumPy binary files and pickles.\u001b[39;00m\n",
      "\u001b[0;31mFileNotFoundError\u001b[0m: [Errno 2] No such file or directory: '/home/stan/thesis-repo/projects/NSD/models/subj02/best_fits_oself_subj02_40_NR.npy'"
     ]
    }
   ],
   "source": [
    "models_subs = {}\n",
    "models = ['oself']\n",
    "columns = [\"x0\", \"y0\", \"sigma\", \"slope\", \"intercept\",  \"var_explained\", \"mds_ecc\", \"mds_ang\", \"roi\", \"fit_with\"]\n",
    "model_study = 'oself'\n",
    "\n",
    "for sub, n_sessions in subjects_sessions.values():\n",
    "    models_subs[sub] = {}\n",
    "    for m in models:\n",
    "        m_file = os.path.join(proj_dir, 'models', sub, f'best_fits_{m}_{sub}_{n_sessions}_NR.npy')\n",
    "        models_subs[sub][m] = pd.DataFrame(np.load(m_file, allow_pickle=True), columns=columns)\n",
    "        models_subs[sub][m][columns[:-2]] = models_subs[sub][m][columns[:-2]].astype(np.float32)\n",
    "    sub_m_study = models_subs[sub][model_study]\n",
    "\n",
    "hier_index = pd.MultiIndex.from_arrays(\n",
    "    [\n",
    "        np.tile(list(rois.keys()), len(models_subs)),\n",
    "        np.repeat(list(models_subs.keys()), len(roi.keys())),\n",
    "    ],\n",
    "    names =[\"roi\", \"sub\"]\n",
    ")\n",
    "models_subs"
   ]
  },
  {
   "cell_type": "code",
   "execution_count": 4,
   "id": "bb1dda03-7c20-4291-84df-de06e7db0d53",
   "metadata": {},
   "outputs": [
    {
     "data": {
      "text/plain": [
       "{'subj01': {'oself':              x0        y0     sigma      slope  intercept  var_explained  \\\n",
       "  0      0.380577 -0.684969  6.695032  28.010561 -27.825483       0.033850   \n",
       "  1      0.440444 -0.646169  6.927041  25.040047 -24.872763       0.030827   \n",
       "  2      0.557979 -0.588672  6.817106  18.652100 -18.500206       0.027525   \n",
       "  3      0.358346  0.325810  0.010035  12.314314  -0.000359       0.000618   \n",
       "  4      0.365889 -0.626864  5.443463  17.316534 -17.147028       0.028198   \n",
       "  ...         ...       ...       ...        ...        ...            ...   \n",
       "  33792 -0.252317  1.050000  7.850662  81.860420 -81.519997       0.071867   \n",
       "  33793 -0.174751 -0.953210  3.659806  10.413570 -10.227592       0.019183   \n",
       "  33794 -0.346183  0.436767  6.513120  27.577259 -27.391813       0.027816   \n",
       "  33795 -0.314958 -0.909629  3.327075   7.510156  -7.325987       0.026303   \n",
       "  33796 -0.368551 -0.050746  5.348899  16.697830 -16.527172       0.025332   \n",
       "  \n",
       "          mds_ecc   mds_ang roi fit_with  \n",
       "  0      0.749916  2.634451  V1       V1  \n",
       "  1      0.782001  2.543307  V1       V1  \n",
       "  2      0.853742  2.382955  V1       V1  \n",
       "  3      0.738882  0.832920  V1       V1  \n",
       "  4      0.742570  2.613258  V1       V1  \n",
       "  ...         ...       ...  ..      ...  \n",
       "  33792  0.693685 -0.235831  V1       V1  \n",
       "  33793  0.708182 -2.960277  V2       V2  \n",
       "  33794  0.768653 -0.670215  V2       V2  \n",
       "  33795  0.755105 -2.808263  V2       V2  \n",
       "  33796  0.778983 -1.707626  V2       V2  \n",
       "  \n",
       "  [33797 rows x 10 columns]},\n",
       " 'subj02': {}}"
      ]
     },
     "execution_count": 4,
     "metadata": {},
     "output_type": "execute_result"
    }
   ],
   "source": [
    "models_subs"
   ]
  },
  {
   "cell_type": "code",
   "execution_count": 5,
   "id": "2959908e-3d7c-4a04-90eb-b8aa891165cd",
   "metadata": {
    "scrolled": true
   },
   "outputs": [
    {
     "name": "stdout",
     "output_type": "stream",
     "text": [
      "\tx0\n",
      "\t\tlh\n"
     ]
    },
    {
     "name": "stderr",
     "output_type": "stream",
     "text": [
      "/home/stan/miniconda3/envs/thesis/lib/python3.10/site-packages/nibabel-5.1.0-py3.10.egg/nibabel/spatialimages.py:558: UserWarning: Using large vector Freesurfer hack; header will not be compatible with SPM or FSL\n",
      "  hdr.set_data_shape(shape)\n"
     ]
    },
    {
     "name": "stdout",
     "output_type": "stream",
     "text": [
      "\t\trh\n",
      "\ty0\n",
      "\t\tlh\n",
      "\t\trh\n",
      "\tsigma\n",
      "\t\tlh\n",
      "\t\trh\n",
      "\tslope\n",
      "\t\tlh\n",
      "\t\trh\n",
      "\tintercept\n",
      "\t\tlh\n",
      "\t\trh\n",
      "\tvar_explained\n",
      "\t\tlh\n",
      "\t\trh\n",
      "\tmds_ecc\n",
      "\t\tlh\n",
      "\t\trh\n",
      "\tmds_ang\n",
      "\t\tlh\n",
      "\t\trh\n",
      "\troi\n",
      "\t\tlh\n",
      "\t\trh\n",
      "\tfit_with\n",
      "\t\tlh\n",
      "\t\trh\n"
     ]
    },
    {
     "ename": "KeyError",
     "evalue": "'oself'",
     "output_type": "error",
     "traceback": [
      "\u001b[0;31m---------------------------------------------------------------------------\u001b[0m",
      "\u001b[0;31mKeyError\u001b[0m                                  Traceback (most recent call last)",
      "Cell \u001b[0;32mIn[5], line 7\u001b[0m\n\u001b[1;32m      5\u001b[0m \u001b[38;5;28;01mfor\u001b[39;00m model \u001b[38;5;129;01min\u001b[39;00m models:\n\u001b[1;32m      6\u001b[0m     \u001b[38;5;28;01mfor\u001b[39;00m sub, sessions \u001b[38;5;129;01min\u001b[39;00m subjects_sessions\u001b[38;5;241m.\u001b[39mvalues():\n\u001b[0;32m----> 7\u001b[0m         m \u001b[38;5;241m=\u001b[39m \u001b[43mmodels_subs\u001b[49m\u001b[43m[\u001b[49m\u001b[43msub\u001b[49m\u001b[43m]\u001b[49m\u001b[43m[\u001b[49m\u001b[43mmodel\u001b[49m\u001b[43m]\u001b[49m\n\u001b[1;32m      8\u001b[0m         \u001b[38;5;28;01mfor\u001b[39;00m f \u001b[38;5;129;01min\u001b[39;00m fields:\n\u001b[1;32m      9\u001b[0m             \u001b[38;5;28mprint\u001b[39m(\u001b[38;5;124mf\u001b[39m\u001b[38;5;124m'\u001b[39m\u001b[38;5;130;01m\\t\u001b[39;00m\u001b[38;5;132;01m{\u001b[39;00mf\u001b[38;5;132;01m}\u001b[39;00m\u001b[38;5;124m'\u001b[39m)\n",
      "\u001b[0;31mKeyError\u001b[0m: 'oself'"
     ]
    }
   ],
   "source": [
    "models = ['oself']\n",
    "hemis = ['lh', 'rh']\n",
    "fields = columns\n",
    "\n",
    "for model in models:\n",
    "    for sub, sessions in subjects_sessions.values():\n",
    "        m = models_subs[sub][model]\n",
    "        for f in fields:\n",
    "            print(f'\\t{f}')\n",
    "            s = -1\n",
    "            for hemi in hemis:\n",
    "                print(f'\\t\\t{hemi}')\n",
    "                maskdata_long_file = os.path.join(data_dir, 'mask', sub, f'{hemi}.{sub}.testrois.mgz')\n",
    "                maskdata_long = nib.load(maskdata_long_file).get_fdata().squeeze()\n",
    "                maskdata_file = os.path.join(data_dir, 'mask', sub, f'{hemi}.short.reduced.{sub}.testrois.npy')\n",
    "                maskdata = np.load(maskdata_file, allow_pickle=True).astype(int)\n",
    "\n",
    "                data_out_file = os.path.join(proj_dir, 'results_out', sub, f'{hemi}.{model}.{f}.mgz')\n",
    "                if os.path.exists(data_out_file):\n",
    "                    continue\n",
    "                data_out = np.zeros(maskdata_long.shape)\n",
    "                wrongs = []\n",
    "                for i in range(maskdata_long.shape[0]):\n",
    "                    voxel = int(maskdata_long[i])\n",
    "                    if voxel==0 or voxel > 15:\n",
    "                        continue\n",
    "                    s += 1\n",
    "                    if sior_long[voxel] in to_reduce.keys():\n",
    "                        roi = rois[to_reduce[sior_long[voxel]]]\n",
    "                    else:\n",
    "                        roi = rois[sior_long[voxel]]\n",
    "                  #  roi = rois[sior[voxel]]\n",
    "                    # prove that the order is maintained\n",
    "                    if roi != rois[m.iloc[s].roi]:\n",
    "                        print(f'{i}: {roi} != {rois[m.iloc[s].roi]}')\n",
    "                        wrongs.append(i)\n",
    "                    if f in ['roi', 'fit_with']:\n",
    "                        data_out[i] = rois[m.iloc[s][f]]\n",
    "                    elif f == 'mds_ang':\n",
    "                        data_out[i] = math.degrees(m.iloc[s][f]) + 180\n",
    "                    elif f == 'intercept':\n",
    "                        data_out[i] = m.iloc[s][f] + abs(m[f].min()) + 1e-08\n",
    "                    elif f in ['x0', 'y0']:\n",
    "                        data_out[i] = m.iloc[s][f] + 1.1\n",
    "                    else:\n",
    "                        data_out[i] = m.iloc[s][f]\n",
    "                img = nib.Nifti1Image(np.expand_dims(data_out, axis=(1, 2)), np.eye(4))\n",
    "\n",
    "                nib.loadsave.save(img, data_out_file)\n",
    "                if f == 'mds_ang':\n",
    "                    for ang in [45, 90, 135, 180, 225, 270, 305]:\n",
    "                        data_out_file = os.path.join(proj_dir, 'results_out', sub, f'{hemi}.{model}.f.{str(ang)}.mgz')\n",
    "                        data_out_ang = np.copy(data_out)\n",
    "                        data_out_ang[data_out != 0] += ang\n",
    "                        data_out_ang = data_out_ang % 360\n",
    "                        img = nib.Nifti1Image(np.expand_dims(data_out_ang, axis = (1, 2)), np.eye(4))\n",
    "                        nib.loadsave.save(img, data_out_file)\n",
    "\n",
    "\n",
    "print('end')\n",
    "                        \n",
    "            "
   ]
  },
  {
   "cell_type": "code",
   "execution_count": null,
   "id": "7d95f206-4994-436e-a282-2b7ff224a125",
   "metadata": {},
   "outputs": [],
   "source": [
    "### m = models_subs['subj01']['oself']\n",
    "m"
   ]
  },
  {
   "cell_type": "code",
   "execution_count": 46,
   "id": "20574d2a-9590-4826-8702-01d8eaef59b3",
   "metadata": {},
   "outputs": [],
   "source": [
    "maskdata_long_file = os.path.join(data_dir,'mask', 'subj01', 'lh.short.reduced.subj01.testrois.npy')\n",
    "#maskdata_long = nib.load(maskdata_long_file).get_fdata().squeeze()\n",
    "maskdata_long = np.load(maskdata_long_file, allow_pickle=True)"
   ]
  },
  {
   "cell_type": "code",
   "execution_count": 42,
   "id": "3be75b1e-eacf-4d70-a855-0219d6044506",
   "metadata": {},
   "outputs": [
    {
     "name": "stdout",
     "output_type": "stream",
     "text": [
      "(17901,)\n"
     ]
    }
   ],
   "source": [
    "print(maskdata_long.shape)"
   ]
  },
  {
   "cell_type": "code",
   "execution_count": 43,
   "id": "fd1488ee-8014-48eb-b618-16dbede1b6a8",
   "metadata": {},
   "outputs": [],
   "source": [
    "maskdata_long_file = os.path.join(data_dir,'mask', 'subj01', 'rh.short.reduced.subj01.testrois.npy')\n",
    "#maskdata_long = nib.load(maskdata_long_file).get_fdata().squeeze()\n",
    "maskdata_long = np.load(maskdata_long_file, allow_pickle=True)"
   ]
  },
  {
   "cell_type": "code",
   "execution_count": 44,
   "id": "af4ca9bb-cb17-4fc1-8195-e32f199bc03b",
   "metadata": {},
   "outputs": [
    {
     "name": "stdout",
     "output_type": "stream",
     "text": [
      "(15896,)\n"
     ]
    }
   ],
   "source": [
    "print(maskdata_long.shape)"
   ]
  },
  {
   "cell_type": "code",
   "execution_count": 52,
   "id": "55699ed5-1d51-400b-9cc3-41dc01b0cc7e",
   "metadata": {},
   "outputs": [
    {
     "data": {
      "text/plain": [
       "array([1., 1., 1., ..., 2., 2., 2.])"
      ]
     },
     "execution_count": 52,
     "metadata": {},
     "output_type": "execute_result"
    }
   ],
   "source": [
    "mask1 = os.path.join(data_dir, 'mask', 'subj01', 'short.reduced.subj01.testrois.npy')\n",
    "mask1 = np.load(mask1, allow_pickle=True)\n",
    "mask1"
   ]
  },
  {
   "cell_type": "code",
   "execution_count": 63,
   "id": "54a3ae1f-3b83-4408-a86a-45b94299c08a",
   "metadata": {},
   "outputs": [
    {
     "data": {
      "text/plain": [
       "array([ 1.,  2.,  3.,  4.,  5.,  6.,  7.,  8.,  9., 10., 11., 12.])"
      ]
     },
     "execution_count": 63,
     "metadata": {},
     "output_type": "execute_result"
    }
   ],
   "source": [
    "np.unique(mask1)"
   ]
  },
  {
   "cell_type": "code",
   "execution_count": null,
   "id": "b0e31e9f-ddeb-4974-bc5e-446ae3ba66fb",
   "metadata": {},
   "outputs": [],
   "source": []
  }
 ],
 "metadata": {
  "kernelspec": {
   "display_name": "Python 3 (ipykernel)",
   "language": "python",
   "name": "python3"
  },
  "language_info": {
   "codemirror_mode": {
    "name": "ipython",
    "version": 3
   },
   "file_extension": ".py",
   "mimetype": "text/x-python",
   "name": "python",
   "nbconvert_exporter": "python",
   "pygments_lexer": "ipython3",
   "version": "3.10.13"
  }
 },
 "nbformat": 4,
 "nbformat_minor": 5
}
