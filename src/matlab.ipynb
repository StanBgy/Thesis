{
 "cells": [
  {
   "cell_type": "code",
   "execution_count": 1,
   "id": "9621f05d-32c0-430b-b61b-6bdf744e1aed",
   "metadata": {},
   "outputs": [],
   "source": [
    "import os \n",
    "import pandas as pd\n",
    "import numpy as np\n",
    "from scipy.io import savemat\n",
    "from utils.utils import *\n",
    "from utils.flips import get_prefered_xy"
   ]
  },
  {
   "cell_type": "markdown",
   "id": "383787f8-350d-4f35-9e61-e5457add7e67",
   "metadata": {},
   "source": [
    "### Matlab export notebook\n",
    "This notebook contains cells that extract data from the models and export them in both matlab and csv format; which are then used for statistical anaylsis \n",
    "\n",
    "Current format is a bit messy, so things might be broken down the line \n",
    "\n",
    "If I wasnt lazy I would send all these directly to the right folder, but I am lazy "
   ]
  },
  {
   "cell_type": "code",
   "execution_count": 2,
   "id": "d7f0cecc-99b9-4149-a1f0-3d74d806d45c",
   "metadata": {},
   "outputs": [
    {
     "data": {
      "text/plain": [
       "[17901, 19290, 17885, 13606, 14050, 19115, 13976, 15588]"
      ]
     },
     "execution_count": 2,
     "metadata": {},
     "output_type": "execute_result"
    }
   ],
   "source": [
    "\"\"\"\n",
    "Threshold is used to determine which data is from the lh, and which is from the rh, since we want to check if hemis is a varible with a satstically significant impact \n",
    "\"\"\"\n",
    "import nibabel as nib\n",
    "threshold = []\n",
    "for sub in subj_list:\n",
    "    maskdata_lh_path = os.path.join(mask_dir, sub , f'lh.{sub}.testrois.mgz')\n",
    "    maskdata_lh = nib.load(maskdata_lh_path).get_fdata().squeeze()\n",
    "    lh_indices = np.where((maskdata_lh >= 1) & (maskdata_lh <= 15))[0] \n",
    "    threshold.append(lh_indices.shape[0])\n",
    "\n",
    "threshold  # used for lh - rh differentiation \n",
    "    "
   ]
  },
  {
   "cell_type": "code",
   "execution_count": 3,
   "id": "533bef6c-0af5-49bb-b1f1-ea5a0189ac31",
   "metadata": {},
   "outputs": [
    {
     "name": "stdout",
     "output_type": "stream",
     "text": [
      "(907,)\n"
     ]
    }
   ],
   "source": [
    "# get the models\n",
    "\n",
    "cos_sin = get_prefered_xy(subj_list, sessions, fetch_conds=False) \n",
    "models_subs = {}\n",
    "models = ['best_roi', 'oself']\n",
    "columns = [\"x0\", \"y0\", \"sigma\", \"slope\", \"intercept\", \"test_var_explained\", \"var_explained\", \"mds_ecc\", \"mds_ang\", \"roi\", \"best_roi\"]\n",
    "model_study = 'oself'\n",
    "mode = \"train\"\n",
    "rotated = True\n",
    "\n",
    "for i, sub in enumerate(subj_list):\n",
    "    models_subs[sub] = {}\n",
    "    noise_ceilling_file = os.path.join(noise_dir, f'{sub}_noise_ceilling_all_vox.npy')\n",
    "    noise_ceilling = np.load(noise_ceilling_file, allow_pickle=True)\n",
    "    for m in models:\n",
    "        if rotated:\n",
    "            m_file = os.path.join(models_dir, f'best_fits_{m}_{sub}_{mode}.npy')\n",
    "        if not rotated:\n",
    "            m_file = os.path.join(models_dir, f'best_fits_{m}_{sub}_{mode}_basevoxel_notrotated.npy')\n",
    "        models_subs[sub][m] = pd.DataFrame(np.load(m_file, allow_pickle=True), columns=columns)\n",
    "        models_subs[sub][m][columns[:-2]] = models_subs[sub][m][columns[:-2]].astype(np.float32)\n",
    "        models_subs[sub][m]['noise_ceilling'] = noise_ceilling\n",
    "        models_subs[sub][m]['voxel_performance'] = models_subs[sub][m][\"test_var_explained\"] / models_subs[sub][m]['noise_ceilling']\n",
    "        # this should be okay \n",
    "\n",
    "models_subs_bestroi = models_subs\n",
    "#savemat('models_subs_notrotated.mat', models_subs_notrotated)\n",
    "#savemat('models_subs_bestroi.mat', models_subs_bestroi)\n"
   ]
  },
  {
   "cell_type": "code",
   "execution_count": 9,
   "id": "67531e56-c341-41db-8939-a83a96fe118f",
   "metadata": {},
   "outputs": [],
   "source": [
    "def save_to_matlab(subj_lists, rois, model, variable, m, median=False):\n",
    "    \"\"\"\n",
    "    Save a .csv of a variable for a model, export it to CSV to be used in matlab later)\n",
    "\n",
    "    IMPORTANT NOTE: this slightly changed the way I name things; this should be adapted in the matlab script\n",
    "\n",
    "    Also, I did not include saving the unrotated data since we do not use it \n",
    "\n",
    "    Inputs\n",
    "    -----------\n",
    "    subj_list: list of subjects\n",
    "\n",
    "    rois: dict, ROIs and their value \n",
    "    \n",
    "    model: dict, the model containing all the data\n",
    "\n",
    "    variable: string, the variable of choice\n",
    "\n",
    "    m: string, oself or best roi model\n",
    "\n",
    "    median: False for mean, True for Median\n",
    "    \"\"\"\n",
    "    \n",
    "    lh = np.zeros((len(subj_list), len(rois.keys())))\n",
    "    for i , sub in enumerate(subj_list):\n",
    "        for j, roi in enumerate(rois.keys()):\n",
    "            if median:\n",
    "                lh[i, j] = model[sub][m][\"lh\"].groupby('roi')[variable].median()[roi]\n",
    "            else:\n",
    "                lh[i, j] = model[sub][m][\"lh\"].groupby('roi')[variable].mean()[roi]\n",
    "\n",
    "    lh_df = pd.DataFrame(lh, index=subj_list, columns=rois.keys())\n",
    "    lh_df.to_csv(f'matlab/{variable}_{m}_rotated_lh.csv', index=True)\n",
    "\n",
    "    rh = np.zeros((len(subj_list), len(rois.keys())))\n",
    "    for i , sub in enumerate(subj_list):\n",
    "        for j, roi in enumerate(rois.keys()):\n",
    "            if median:\n",
    "                rh[i, j] = model[sub][m][\"lh\"].groupby('roi')[variable].median()[roi]\n",
    "            else:\n",
    "                rh[i, j] = model[sub][m][\"lh\"].groupby('roi')[variable].mean()[roi]\n",
    "\n",
    "    rh_df = pd.DataFrame(lh, index=subj_list, columns=rois.keys())\n",
    "    rh_df.to_csv(f'matlab/{variable}_{m}_rotated_rh.csv', index=True)"
   ]
  },
  {
   "cell_type": "code",
   "execution_count": 10,
   "id": "bcf00931-37a7-4d1a-9760-f7de5fa0ca6a",
   "metadata": {},
   "outputs": [],
   "source": [
    "rotated = True\n",
    "models = ['best_roi', 'oself']\n",
    "columns = [\"x0\", \"y0\", \"sigma\", \"slope\", \"intercept\", \"test_var_explained\", \"var_explained\", \"mds_ecc\", \"mds_ang\",  \"roi\", \"best_roi\"]\n",
    "for i, sub in enumerate(subj_list):\n",
    "    models_subs[sub] = {}\n",
    "    noise_ceilling_file = os.path.join(noise_dir, f'{sub}_noise_ceilling_all_vox.npy')\n",
    "    noise_ceilling = np.load(noise_ceilling_file, allow_pickle=True)\n",
    "    for m in models:\n",
    "        if rotated:\n",
    "            m_file = os.path.join(models_dir, f'best_fits_{m}_{sub}_{mode}.npy')\n",
    "        if not rotated:\n",
    "            m_file = os.path.join(models_dir, f'best_fits_{m}_{sub}_{mode}_basevoxel_notrotated.npy')\n",
    "\n",
    "        model = np.load(m_file, allow_pickle=True)\n",
    "        models_subs[sub][m] = {}\n",
    "        for hemi in hemis:\n",
    "            \n",
    "            if hemi == \"lh\":\n",
    "                models_subs[sub][m][hemi] = pd.DataFrame(model[:threshold[i]], columns=columns)\n",
    "            if hemi == \"rh\":\n",
    "                models_subs[sub][m][hemi] = pd.DataFrame(model[threshold[i]:], columns=columns)\n",
    "            models_subs[sub][m][hemi][columns[:-2]] = models_subs[sub][m][hemi][columns[:-2]].astype(np.float32)\n",
    "            if hemi == 'lh': \n",
    "                models_subs[sub][m][hemi]['noise_ceilling'] = noise_ceilling[:threshold[i]]\n",
    "                models_subs[sub][m][hemi]['voxel_performance'] = models_subs[sub][m][hemi][\"test_var_explained\"] / models_subs[sub][m][hemi]['noise_ceilling']\n",
    "            if hemi == 'rh': \n",
    "                models_subs[sub][m][hemi]['noise_ceilling'] = noise_ceilling[threshold[i]:]\n",
    "                models_subs[sub][m][hemi]['voxel_performance'] = models_subs[sub][m][hemi][\"test_var_explained\"] / models_subs[sub][m][hemi]['noise_ceilling']\n",
    "# no need to get noise ceilling here)\n",
    "\n",
    "\n",
    "for m in models:\n",
    "    save_to_matlab(subj_list, rois, models_subs, 'test_var_explained', m)\n",
    "    save_to_matlab(subj_list, rois, models_subs, 'sigma', m)\n",
    "    save_to_matlab(subj_list, rois, models_subs, 'noise_ceilling', m)\n",
    "    save_to_matlab(subj_list, rois, models_subs, 'voxel_performance', m, median=True)"
   ]
  },
  {
   "cell_type": "code",
   "execution_count": null,
   "id": "11635f1c-7254-46c5-b1a5-fd86ca790ac0",
   "metadata": {},
   "outputs": [],
   "source": []
  }
 ],
 "metadata": {
  "kernelspec": {
   "display_name": "Python 3 (ipykernel)",
   "language": "python",
   "name": "python3"
  },
  "language_info": {
   "codemirror_mode": {
    "name": "ipython",
    "version": 3
   },
   "file_extension": ".py",
   "mimetype": "text/x-python",
   "name": "python",
   "nbconvert_exporter": "python",
   "pygments_lexer": "ipython3",
   "version": "3.10.13"
  }
 },
 "nbformat": 4,
 "nbformat_minor": 5
}
