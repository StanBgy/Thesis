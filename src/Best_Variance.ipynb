{
 "cells": [
  {
   "cell_type": "code",
   "execution_count": 3,
   "id": "a9aa2934-3546-4370-8b63-9318e0e49752",
   "metadata": {},
   "outputs": [],
   "source": [
    "import os \n",
    "import numpy as np\n",
    "from utils.utils import *"
   ]
  },
  {
   "cell_type": "code",
   "execution_count": 15,
   "id": "ead53627-dae2-42d6-8020-b500fd35cd5f",
   "metadata": {},
   "outputs": [
    {
     "data": {
      "text/plain": [
       "-0.013673286085337313"
      ]
     },
     "execution_count": 15,
     "metadata": {},
     "output_type": "execute_result"
    }
   ],
   "source": [
    "fits_1 = np.load(os.path.join(fits_dir, 'fits_inversed', 'subj01', 'fits_subj01_train_V1_inversed.npy'))\n",
    "np.mean(fits_1[:,5])"
   ]
  },
  {
   "cell_type": "code",
   "execution_count": 14,
   "id": "77a4227b-0b18-4b46-a16b-9616aa07abfb",
   "metadata": {},
   "outputs": [
    {
     "data": {
      "text/plain": [
       "-0.02898912394078881"
      ]
     },
     "execution_count": 14,
     "metadata": {},
     "output_type": "execute_result"
    }
   ],
   "source": [
    "fits_1 = np.load(os.path.join(fits_dir, 'fits_inversed', 'subj01', 'fits_subj01_train_hV4_inversed.npy'))\n",
    "np.mean(fits_1[:,5])"
   ]
  },
  {
   "cell_type": "markdown",
   "id": "215123b7-0ad1-410b-9ed1-a8cccb8a2c20",
   "metadata": {},
   "source": [
    "#### Ben' spseudo code \n",
    "%First, calcualte the best fit a model could ever do.\n",
    "\n",
    "rss=sum((betas_train - betas_test).^2);\n",
    "\n",
    "%Next, calculate the residual if we explained NO variance\n",
    "\n",
    "variance=sum((betas_test-mean(betas_test)).^2);\n",
    "\n",
    "ve_test=1-rss/variance\n"
   ]
  },
  {
   "cell_type": "code",
   "execution_count": 3,
   "id": "c6b4b30d-2b86-4cd0-a802-82cd77006586",
   "metadata": {},
   "outputs": [
    {
     "ename": "FileNotFoundError",
     "evalue": "[Errno 2] No such file or directory: '/home/stan/thesis-repo/projects/betas/subj01_betas_list_nativesurface_train_test_mask.npy'",
     "output_type": "error",
     "traceback": [
      "\u001b[0;31m---------------------------------------------------------------------------\u001b[0m",
      "\u001b[0;31mFileNotFoundError\u001b[0m                         Traceback (most recent call last)",
      "Cell \u001b[0;32mIn[3], line 6\u001b[0m\n\u001b[1;32m      4\u001b[0m train_path \u001b[38;5;241m=\u001b[39m os\u001b[38;5;241m.\u001b[39mpath\u001b[38;5;241m.\u001b[39mjoin(betas_dir, \u001b[38;5;124mf\u001b[39m\u001b[38;5;124m'\u001b[39m\u001b[38;5;132;01m{\u001b[39;00msubj\u001b[38;5;132;01m}\u001b[39;00m\u001b[38;5;124m_betas_list_nativesurface_train.npy\u001b[39m\u001b[38;5;124m'\u001b[39m)\n\u001b[1;32m      5\u001b[0m test_path \u001b[38;5;241m=\u001b[39m os\u001b[38;5;241m.\u001b[39mpath\u001b[38;5;241m.\u001b[39mjoin(betas_dir, \u001b[38;5;124mf\u001b[39m\u001b[38;5;124m'\u001b[39m\u001b[38;5;132;01m{\u001b[39;00msubj\u001b[38;5;132;01m}\u001b[39;00m\u001b[38;5;124m_betas_list_nativesurface_test.npy\u001b[39m\u001b[38;5;124m'\u001b[39m)\n\u001b[0;32m----> 6\u001b[0m betas_mask \u001b[38;5;241m=\u001b[39m \u001b[43mnp\u001b[49m\u001b[38;5;241;43m.\u001b[39;49m\u001b[43mload\u001b[49m\u001b[43m(\u001b[49m\u001b[43mos\u001b[49m\u001b[38;5;241;43m.\u001b[39;49m\u001b[43mpath\u001b[49m\u001b[38;5;241;43m.\u001b[39;49m\u001b[43mjoin\u001b[49m\u001b[43m(\u001b[49m\u001b[43mbetas_dir\u001b[49m\u001b[43m,\u001b[49m\u001b[43m \u001b[49m\u001b[38;5;124;43mf\u001b[39;49m\u001b[38;5;124;43m'\u001b[39;49m\u001b[38;5;132;43;01m{\u001b[39;49;00m\u001b[43msubj\u001b[49m\u001b[38;5;132;43;01m}\u001b[39;49;00m\u001b[38;5;124;43m_betas_list_nativesurface_train_test_mask.npy\u001b[39;49m\u001b[38;5;124;43m'\u001b[39;49m\u001b[43m)\u001b[49m\u001b[43m,\u001b[49m\u001b[43m \u001b[49m\u001b[43mallow_pickle\u001b[49m\u001b[38;5;241;43m=\u001b[39;49m\u001b[38;5;28;43;01mTrue\u001b[39;49;00m\u001b[43m)\u001b[49m\n\u001b[1;32m      7\u001b[0m \u001b[38;5;28;01mif\u001b[39;00m subj \u001b[38;5;241m==\u001b[39m \u001b[38;5;124m'\u001b[39m\u001b[38;5;124msubj06\u001b[39m\u001b[38;5;124m'\u001b[39m \u001b[38;5;129;01mor\u001b[39;00m subj \u001b[38;5;241m==\u001b[39m \u001b[38;5;124m'\u001b[39m\u001b[38;5;124msubj08\u001b[39m\u001b[38;5;124m'\u001b[39m:\n\u001b[1;32m      8\u001b[0m     roi_mask \u001b[38;5;241m=\u001b[39m os\u001b[38;5;241m.\u001b[39mpath\u001b[38;5;241m.\u001b[39mjoin(mask_dir, subj, \u001b[38;5;124mf\u001b[39m\u001b[38;5;124m'\u001b[39m\u001b[38;5;124mshort.reduced.nans.\u001b[39m\u001b[38;5;132;01m{\u001b[39;00msubj\u001b[38;5;132;01m}\u001b[39;00m\u001b[38;5;124m.testrois.npy\u001b[39m\u001b[38;5;124m'\u001b[39m)\n",
      "File \u001b[0;32m~/miniconda3/envs/thesis/lib/python3.10/site-packages/numpy/lib/npyio.py:427\u001b[0m, in \u001b[0;36mload\u001b[0;34m(file, mmap_mode, allow_pickle, fix_imports, encoding, max_header_size)\u001b[0m\n\u001b[1;32m    425\u001b[0m     own_fid \u001b[38;5;241m=\u001b[39m \u001b[38;5;28;01mFalse\u001b[39;00m\n\u001b[1;32m    426\u001b[0m \u001b[38;5;28;01melse\u001b[39;00m:\n\u001b[0;32m--> 427\u001b[0m     fid \u001b[38;5;241m=\u001b[39m stack\u001b[38;5;241m.\u001b[39menter_context(\u001b[38;5;28;43mopen\u001b[39;49m\u001b[43m(\u001b[49m\u001b[43mos_fspath\u001b[49m\u001b[43m(\u001b[49m\u001b[43mfile\u001b[49m\u001b[43m)\u001b[49m\u001b[43m,\u001b[49m\u001b[43m \u001b[49m\u001b[38;5;124;43m\"\u001b[39;49m\u001b[38;5;124;43mrb\u001b[39;49m\u001b[38;5;124;43m\"\u001b[39;49m\u001b[43m)\u001b[49m)\n\u001b[1;32m    428\u001b[0m     own_fid \u001b[38;5;241m=\u001b[39m \u001b[38;5;28;01mTrue\u001b[39;00m\n\u001b[1;32m    430\u001b[0m \u001b[38;5;66;03m# Code to distinguish from NumPy binary files and pickles.\u001b[39;00m\n",
      "\u001b[0;31mFileNotFoundError\u001b[0m: [Errno 2] No such file or directory: '/home/stan/thesis-repo/projects/betas/subj01_betas_list_nativesurface_train_test_mask.npy'"
     ]
    }
   ],
   "source": [
    "best_variance = np.zeros((len(subj_list), len(rois.keys())))\n",
    "\n",
    "for i, subj in enumerate(subj_list):\n",
    "    train_path = os.path.join(betas_dir, f'{subj}_betas_list_nativesurface_train.npy')\n",
    "    test_path = os.path.join(betas_dir, f'{subj}_betas_list_nativesurface_test.npy')\n",
    "    betas_mask = np.load(os.path.join(betas_dir, f'{subj}_betas_list_nativesurface_train_test_mask.npy'), allow_pickle=True)\n",
    "    if subj == 'subj06' or subj == 'subj08':\n",
    "        roi_mask = os.path.join(mask_dir, subj, f'short.reduced.nans.{subj}.testrois.npy')\n",
    "    else:\n",
    "        roi_mask = os.path.join(mask_dir, subj, f'short.reduced.{subj}.testrois.npy')\n",
    "    betas_train = np.load(train_path, allow_pickle=True)\n",
    "    betas_test = np.load(test_path, allow_pickle=True)\n",
    "    mask = np.load(roi_mask, allow_pickle=True)\n",
    "    \n",
    "    betas_train = betas_train[:, betas_mask]\n",
    "    for j, roi in enumerate(rois.keys()):\n",
    "    \n",
    "        rss = np.sum((betas_train[mask == j+1] - betas_test[mask == j+1])**2)\n",
    "    \n",
    "       # best_variance[i, j] = np.mean(rss)\n",
    "\n",
    "        variance = np.sum((betas_test[mask == j+1] - np.mean(betas_test[mask == j+1]))**2) \n",
    "        ve_test = 1-rss/variance\n",
    "        \n",
    "  \n",
    "        best_variance[i, j] = ve_test\n",
    "print(best_variance)                "
   ]
  },
  {
   "cell_type": "code",
   "execution_count": 9,
   "id": "2584bf63-14ff-4751-b2cc-f7a56c9f1b17",
   "metadata": {},
   "outputs": [
    {
     "data": {
      "text/plain": [
       "(9411,)"
      ]
     },
     "execution_count": 9,
     "metadata": {},
     "output_type": "execute_result"
    }
   ],
   "source": [
    "path = os.path.join(betas_dir, 'subj03_betas_list_nativesurface_train_test_mask.npy')\n",
    "mask = np.load(path)\n",
    "mask.shape\n"
   ]
  },
  {
   "cell_type": "code",
   "execution_count": null,
   "id": "ca151f33-0905-4a17-b326-596361ba299a",
   "metadata": {},
   "outputs": [],
   "source": []
  }
 ],
 "metadata": {
  "kernelspec": {
   "display_name": "Python 3 (ipykernel)",
   "language": "python",
   "name": "python3"
  },
  "language_info": {
   "codemirror_mode": {
    "name": "ipython",
    "version": 3
   },
   "file_extension": ".py",
   "mimetype": "text/x-python",
   "name": "python",
   "nbconvert_exporter": "python",
   "pygments_lexer": "ipython3",
   "version": "3.10.13"
  }
 },
 "nbformat": 4,
 "nbformat_minor": 5
}
