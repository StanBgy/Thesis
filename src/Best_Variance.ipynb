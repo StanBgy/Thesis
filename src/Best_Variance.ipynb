{
 "cells": [
  {
   "cell_type": "code",
   "execution_count": 1,
   "id": "a9aa2934-3546-4370-8b63-9318e0e49752",
   "metadata": {},
   "outputs": [],
   "source": [
    "import os \n",
    "import numpy as np\n",
    "from utils.utils import *"
   ]
  },
  {
   "cell_type": "code",
   "execution_count": 10,
   "id": "6caf1a9d-bc56-4c58-9828-627411038b39",
   "metadata": {},
   "outputs": [
    {
     "data": {
      "text/plain": [
       "array([[-3.22538835e-01, -2.50801802e-01,  4.75584835e+00, ...,\n",
       "        -3.33786011e-06,  3.74755377e-01, -2.23172022e+00],\n",
       "       [-1.04870893e+00, -1.90814812e-01,  1.09153668e+01, ...,\n",
       "         1.48057938e-04,  1.06592716e+00, -1.75077947e+00],\n",
       "       [-3.99650638e-01, -3.03729602e-01,  3.91968059e-01, ...,\n",
       "         2.19047070e-04,  4.42866712e-01, -2.22065903e+00],\n",
       "       ...,\n",
       "       [ 8.73933034e-01, -1.04999999e+00,  3.62233920e-01, ...,\n",
       "         6.33835793e-04,  8.94521794e-01,  2.44745437e+00],\n",
       "       [ 1.04974099e+00,  1.79335639e-01,  4.70739379e+00, ...,\n",
       "         2.54988670e-04,  1.06694257e+00,  1.40159183e+00],\n",
       "       [ 1.04997256e+00, -1.04992195e+00,  4.26242796e-01, ...,\n",
       "         3.23355198e-04,  1.06717041e+00,  2.35617039e+00]])"
      ]
     },
     "execution_count": 10,
     "metadata": {},
     "output_type": "execute_result"
    }
   ],
   "source": [
    "np.load(os.path.join(fits_dir, 'fits_inversed', 'subj01', 'fits_subj01_train_V1_full_1.npy'))"
   ]
  },
  {
   "cell_type": "code",
   "execution_count": 5,
   "id": "d24ae060-08f7-41d5-89ab-484a2402b706",
   "metadata": {},
   "outputs": [
    {
     "name": "stdout",
     "output_type": "stream",
     "text": [
      "0\n",
      "1\n",
      "2\n",
      "3\n",
      "4\n"
     ]
    }
   ],
   "source": [
    "for i in range(5):\n",
    "    print(i)"
   ]
  },
  {
   "cell_type": "code",
   "execution_count": 31,
   "id": "b9666dcf-78f6-48c9-80c4-362f433516e7",
   "metadata": {},
   "outputs": [
    {
     "name": "stdout",
     "output_type": "stream",
     "text": [
      "(96771, 9411)\n",
      "(96771, 6234)\n"
     ]
    },
    {
     "data": {
      "text/plain": [
       "(9411,)"
      ]
     },
     "execution_count": 31,
     "metadata": {},
     "output_type": "execute_result"
    }
   ],
   "source": [
    "train_path = os.path.join(nsd_dir, \"full_brain\", \"subj03\",  f'subj03_betas_list_nativesurface_train_full_0.npy')\n",
    "test_path = os.path.join(nsd_dir, \"full_brain\", \"subj03\",  f'subj03_betas_list_nativesurface_test_full_0.npy')\n",
    "betas_mask = np.load(os.path.join(nsd_dir, \"full_brain\", \"subj03\",  f'subj03_betas_list_nativesurface_train_test_mask_full_4.npy'), allow_pickle=True, mmap_mode='r')\n",
    "betas_train = np.load(train_path, allow_pickle=True, mmap_mode='r')\n",
    "betas_test = np.load(test_path, allow_pickle=True, mmap_mode='r')\n",
    "print(betas_train.shape)\n",
    "print(betas_test.shape)\n",
    "betas_mask.shape"
   ]
  },
  {
   "cell_type": "code",
   "execution_count": 33,
   "id": "0e074dff-1af6-41a7-a73b-565635592775",
   "metadata": {},
   "outputs": [
    {
     "name": "stdout",
     "output_type": "stream",
     "text": [
      "(35914, 9411)\n",
      "(35914, 6234)\n"
     ]
    },
    {
     "data": {
      "text/plain": [
       "(9411,)"
      ]
     },
     "execution_count": 33,
     "metadata": {},
     "output_type": "execute_result"
    }
   ],
   "source": [
    "train_path = os.path.join(betas_dir, f'subj03_betas_list_nativesurface_train.npy')\n",
    "test_path = os.path.join(betas_dir,  f'subj03_betas_list_nativesurface_test.npy')\n",
    "betas_mask = np.load(os.path.join(betas_dir,  f'subj03_betas_list_nativesurface_train_test_mask.npy'), allow_pickle=True, mmap_mode='r')\n",
    "betas_train = np.load(train_path, allow_pickle=True, mmap_mode='r')\n",
    "betas_test = np.load(test_path, allow_pickle=True, mmap_mode='r')\n",
    "print(betas_train.shape)\n",
    "print(betas_test.shape)\n",
    "betas_mask.shape"
   ]
  },
  {
   "cell_type": "code",
   "execution_count": 36,
   "id": "1ca9c18f-1eb9-443f-9d76-45c66f5ba4b1",
   "metadata": {},
   "outputs": [
    {
     "data": {
      "text/plain": [
       "array([[ 0.37231991, -0.6239036 ,  5.08852568, ...,  0.03644979,\n",
       "         0.70181114,  2.60355987],\n",
       "       [ 0.41821606, -0.59490903,  6.37151063, ...,  0.03710508,\n",
       "         0.7272011 ,  2.52886171],\n",
       "       [ 0.50218017, -0.54680258,  5.6033217 , ...,  0.03313172,\n",
       "         0.77852532,  2.39870761],\n",
       "       ...,\n",
       "       [-0.59113927,  0.18451905,  9.54365055, ..., -0.08575714,\n",
       "         0.83866704, -1.26823818],\n",
       "       [-0.56073665, -0.16390155,  9.99575001, ..., -0.02401721,\n",
       "         0.81752208, -1.8551711 ],\n",
       "       [-0.67776862,  0.02496036, 10.34656595, ..., -0.05834866,\n",
       "         0.90182429, -1.5339857 ]])"
      ]
     },
     "execution_count": 36,
     "metadata": {},
     "output_type": "execute_result"
    }
   ],
   "source": [
    "np.load(os.path.join(fits_dir, 'fits_inversed', 'subj01', 'fits_subj01_train_V1_inversed.npy'))"
   ]
  },
  {
   "cell_type": "code",
   "execution_count": 22,
   "id": "0a35ad86-f31a-4b43-aad7-107a4c88bb58",
   "metadata": {},
   "outputs": [
    {
     "data": {
      "text/plain": [
       "(10000,)"
      ]
     },
     "execution_count": 22,
     "metadata": {},
     "output_type": "execute_result"
    }
   ],
   "source": [
    "betas_mask.shape"
   ]
  },
  {
   "cell_type": "markdown",
   "id": "215123b7-0ad1-410b-9ed1-a8cccb8a2c20",
   "metadata": {},
   "source": [
    "#### Ben' spseudo code \n",
    "%First, calcualte the best fit a model could ever do.\n",
    "\n",
    "rss=sum((betas_train - betas_test).^2);\n",
    "\n",
    "%Next, calculate the residual if we explained NO variance\n",
    "\n",
    "variance=sum((betas_test-mean(betas_test)).^2);\n",
    "\n",
    "ve_test=1-rss/variance\n"
   ]
  },
  {
   "cell_type": "code",
   "execution_count": 46,
   "id": "c6b4b30d-2b86-4cd0-a802-82cd77006586",
   "metadata": {},
   "outputs": [
    {
     "name": "stdout",
     "output_type": "stream",
     "text": [
      "()\n",
      "()\n",
      "()\n",
      "()\n",
      "()\n",
      "()\n",
      "()\n",
      "()\n",
      "()\n",
      "()\n",
      "()\n",
      "()\n",
      "()\n",
      "()\n",
      "()\n",
      "()\n",
      "()\n",
      "()\n",
      "()\n",
      "()\n",
      "()\n",
      "()\n",
      "()\n",
      "()\n",
      "()\n",
      "()\n",
      "()\n",
      "()\n",
      "()\n",
      "()\n",
      "()\n",
      "()\n",
      "()\n",
      "()\n",
      "()\n",
      "()\n",
      "()\n",
      "()\n",
      "()\n",
      "()\n",
      "()\n",
      "()\n",
      "()\n",
      "()\n",
      "()\n",
      "()\n",
      "()\n",
      "()\n",
      "()\n",
      "()\n",
      "()\n",
      "()\n",
      "()\n",
      "()\n",
      "()\n",
      "()\n",
      "()\n",
      "()\n",
      "()\n",
      "()\n",
      "()\n",
      "()\n",
      "()\n",
      "()\n",
      "()\n",
      "()\n",
      "()\n",
      "()\n",
      "()\n",
      "()\n",
      "()\n",
      "()\n",
      "()\n",
      "()\n",
      "()\n",
      "()\n",
      "()\n",
      "()\n",
      "()\n",
      "()\n",
      "()\n",
      "()\n",
      "()\n",
      "()\n",
      "()\n",
      "()\n",
      "()\n",
      "()\n",
      "()\n",
      "()\n",
      "()\n",
      "()\n",
      "()\n",
      "()\n",
      "()\n",
      "()\n",
      "()\n",
      "()\n",
      "()\n",
      "()\n",
      "()\n",
      "()\n",
      "()\n",
      "()\n",
      "()\n",
      "()\n",
      "()\n",
      "()\n",
      "()\n",
      "()\n",
      "()\n",
      "()\n",
      "()\n",
      "()\n",
      "()\n",
      "()\n",
      "()\n",
      "()\n",
      "()\n",
      "()\n",
      "()\n",
      "()\n",
      "()\n",
      "()\n",
      "()\n",
      "()\n",
      "()\n",
      "()\n",
      "()\n",
      "()\n",
      "()\n",
      "()\n",
      "()\n",
      "()\n",
      "()\n",
      "()\n",
      "()\n",
      "()\n",
      "()\n",
      "()\n",
      "()\n",
      "()\n",
      "()\n",
      "()\n",
      "()\n",
      "()\n",
      "()\n",
      "()\n",
      "()\n",
      "()\n",
      "()\n",
      "()\n",
      "()\n",
      "()\n",
      "()\n",
      "()\n",
      "()\n",
      "()\n",
      "()\n",
      "()\n",
      "()\n",
      "()\n",
      "()\n",
      "()\n",
      "()\n",
      "()\n",
      "()\n",
      "()\n",
      "()\n",
      "()\n",
      "()\n",
      "()\n",
      "()\n",
      "()\n",
      "()\n",
      "()\n",
      "()\n",
      "()\n",
      "()\n",
      "()\n",
      "()\n",
      "()\n",
      "()\n",
      "()\n",
      "()\n",
      "()\n",
      "()\n",
      "()\n",
      "()\n",
      "()\n",
      "()\n",
      "()\n",
      "[[-0.03448963 -0.06181324 -0.10216272 -0.17300737 -0.16567516 -0.17079556\n",
      "  -0.17788923 -0.17636597 -0.21460748 -0.20562375  0.00491673 -0.09029114]\n",
      " [ 0.00903153 -0.13262546 -0.11150718 -0.0707922  -0.12834942 -0.15172374\n",
      "  -0.17125499 -0.14599991 -0.16741943 -0.16575265 -0.07876277 -0.14381754]\n",
      " [-0.18467832 -0.22631693 -0.26961887 -0.28681815 -0.22504842 -0.2514205\n",
      "  -0.25025797 -0.18820858 -0.32271123 -0.29238236 -0.12407506 -0.23132348]\n",
      " [-0.17813432 -0.17488968 -0.27409959 -0.29091978 -0.22423983 -0.24581361\n",
      "  -0.21972454 -0.22400367 -0.35561025 -0.25691235 -0.26337039 -0.1506381 ]\n",
      " [-0.11250544 -0.12972581 -0.18324339 -0.16294241 -0.13235474 -0.17213714\n",
      "  -0.11632752 -0.04999983 -0.20172083 -0.10794318 -0.11676323 -0.11350965]\n",
      " [-0.13960636 -0.16425228 -0.23973382 -0.26336932 -0.21442378 -0.18827939\n",
      "  -0.18407273 -0.15466022 -0.31512892 -0.20635939 -0.16057467 -0.30420244]\n",
      " [-0.27959359 -0.2917521  -0.3010962  -0.32232869 -0.24320662 -0.31569648\n",
      "  -0.34549999 -0.31225312 -0.35849464 -0.25298858 -0.23103166 -0.19158626]\n",
      " [-0.2579391  -0.26187134 -0.30098307 -0.27495086 -0.28929198 -0.31971097\n",
      "  -0.30499089 -0.30199766 -0.34881592 -0.33817124 -0.33287561 -0.333992  ]]\n"
     ]
    }
   ],
   "source": [
    "best_variance = np.zeros((len(subj_list), len(rois.keys())))\n",
    "\n",
    "for i, subj in enumerate(subj_list):\n",
    "    train_path = os.path.join(betas_dir, f'{subj}_betas_list_nativesurface_train.npy')\n",
    "    test_path = os.path.join(betas_dir, f'{subj}_betas_list_nativesurface_test.npy')\n",
    "    betas_mask = np.load(os.path.join(betas_dir, f'{subj}_betas_list_nativesurface_train_test_mask.npy'), allow_pickle=True)\n",
    "    if subj == 'subj06' or subj == 'subj08':\n",
    "        roi_mask = os.path.join(mask_dir, subj, f'short.reduced.nans.{subj}.testrois.npy')\n",
    "    else:\n",
    "        roi_mask = os.path.join(mask_dir, subj, f'short.reduced.{subj}.testrois.npy')\n",
    "    betas_train = np.load(train_path, allow_pickle=True)\n",
    "    betas_test = np.load(test_path, allow_pickle=True)\n",
    "    mask = np.load(roi_mask, allow_pickle=True)\n",
    "    \n",
    "    betas_train = betas_train[:, betas_mask]\n",
    "    for j, roi in enumerate(rois.keys()):\n",
    "    \n",
    "        rss = np.sum((betas_train[mask == j+1] - betas_test[mask == j+1])**2)\n",
    "    \n",
    "       # best_variance[i, j] = np.mean(rss)\n",
    "\n",
    "        variance = np.sum((betas_test[mask == j+1] - np.mean(betas_test[mask == j+1]))**2) \n",
    "        ve_test = 1-rss/variance\n",
    "        \n",
    "  \n",
    "        best_variance[i, j] = ve_test\n",
    "print(best_variance)                "
   ]
  },
  {
   "cell_type": "code",
   "execution_count": 9,
   "id": "2584bf63-14ff-4751-b2cc-f7a56c9f1b17",
   "metadata": {},
   "outputs": [
    {
     "data": {
      "text/plain": [
       "(9411,)"
      ]
     },
     "execution_count": 9,
     "metadata": {},
     "output_type": "execute_result"
    }
   ],
   "source": [
    "path = os.path.join(betas_dir, 'subj03_betas_list_nativesurface_train_test_mask.npy')\n",
    "mask = np.load(path)\n",
    "mask.shape\n"
   ]
  },
  {
   "cell_type": "code",
   "execution_count": null,
   "id": "ca151f33-0905-4a17-b326-596361ba299a",
   "metadata": {},
   "outputs": [],
   "source": []
  }
 ],
 "metadata": {
  "kernelspec": {
   "display_name": "Python 3 (ipykernel)",
   "language": "python",
   "name": "python3"
  },
  "language_info": {
   "codemirror_mode": {
    "name": "ipython",
    "version": 3
   },
   "file_extension": ".py",
   "mimetype": "text/x-python",
   "name": "python",
   "nbconvert_exporter": "python",
   "pygments_lexer": "ipython3",
   "version": "3.10.13"
  }
 },
 "nbformat": 4,
 "nbformat_minor": 5
}
