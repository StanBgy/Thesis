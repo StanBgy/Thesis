{
 "cells": [
  {
   "cell_type": "code",
   "execution_count": 1,
   "id": "77e14cc4-dc7e-4e64-995a-c0ee3d42be33",
   "metadata": {},
   "outputs": [
    {
     "name": "stdout",
     "output_type": "stream",
     "text": [
      "True\n"
     ]
    }
   ],
   "source": [
    "import os \n",
    "import time \n",
    "import numpy as np\n",
    "import nibabel as nib\n",
    "from nsddatapaper_rsa.utils.utils import mds\n",
    "from utils.utils import *\n",
    "from scipy.spatial.distance import pdist"
   ]
  },
  {
   "cell_type": "code",
   "execution_count": 2,
   "id": "cdbb34c5-dd1a-4def-a638-e144c4eb6ae7",
   "metadata": {},
   "outputs": [],
   "source": [
    "outpath = os.path.join(proj_dir, 'rsa', 'roi_analyses')\n"
   ]
  },
  {
   "cell_type": "code",
   "execution_count": 3,
   "id": "ce9c74b0-5c68-4b9f-bd92-490ae18e284b",
   "metadata": {},
   "outputs": [
    {
     "data": {
      "text/plain": [
       "{1: ('subj01', 40),\n",
       " 2: ('subj02', 40),\n",
       " 3: ('subj03', 32),\n",
       " 4: ('subj04', 30),\n",
       " 5: ('subj05', 40),\n",
       " 6: ('subj06', 32),\n",
       " 7: ('subj07', 40),\n",
       " 8: ('subj08', 30)}"
      ]
     },
     "execution_count": 3,
     "metadata": {},
     "output_type": "execute_result"
    }
   ],
   "source": [
    "subjects_sessions = {i: (f'subj0{i}',sessions[i-1]) for i in range(1,9)}\n",
    "subjects_sessions"
   ]
  },
  {
   "cell_type": "code",
   "execution_count": 30,
   "id": "a4cf8e33-4de6-40cd-93a0-82e78827a51a",
   "metadata": {},
   "outputs": [
    {
     "data": {
      "text/plain": [
       "(33797, 9489)"
      ]
     },
     "execution_count": 30,
     "metadata": {},
     "output_type": "execute_result"
    }
   ],
   "source": [
    "a  = np.load('/media/harveylab/STORAGE1 nA/luis-thesis/spatial_neural_responses/data/spatial_responses/subj01/37sessions/activity/betas_split/subj01_37_betas_test_nativesurface.npy', allow_pickle=True)\n",
    "a.shape"
   ]
  },
  {
   "cell_type": "code",
   "execution_count": 4,
   "id": "441184b6-2840-4c7f-918c-801bc65a7d63",
   "metadata": {},
   "outputs": [
    {
     "name": "stdout",
     "output_type": "stream",
     "text": [
      "Enter subj01 at 21:46:01\n",
      "/media/harveylab/STORAGE1_NA/luis-thesis/spatial_neural_responses/data/nsddata/freesurfer/subj01/label/customrois/short.subj01.testrois.npy\n",
      "\tEnter ROI V1 at: 21:46:01\n",
      "(33797, 10000)\n",
      "(33797,)\n",
      "\t\t\tcomputing RDM for roi: V1\n",
      "elapsed time:  00:01:23\n",
      "\t\t\tsaving full rdm for V1 : subj01\n",
      "\t\tTime elapsed during V1:  00:01:40\n",
      "\tEnter ROI V2 at: 21:47:42\n",
      "(33797, 10000)\n",
      "(33797,)\n",
      "\t\t\tcomputing RDM for roi: V2\n",
      "elapsed time:  00:02:09\n",
      "\t\t\tsaving full rdm for V2 : subj01\n",
      "\t\tTime elapsed during V2:  00:02:14\n",
      "\tEnter ROI V3 at: 21:49:56\n",
      "(33797, 10000)\n",
      "(33797,)\n",
      "\t\t\tcomputing RDM for roi: V3\n",
      "elapsed time:  00:01:51\n",
      "\t\t\tsaving full rdm for V3 : subj01\n",
      "\t\tTime elapsed during V3:  00:01:56\n",
      "\tEnter ROI hV4 at: 21:51:52\n",
      "(33797, 10000)\n",
      "(33797,)\n",
      "\t\t\tcomputing RDM for roi: hV4\n",
      "elapsed time:  00:01:35\n",
      "\t\t\tsaving full rdm for hV4 : subj01\n",
      "\t\tTime elapsed during hV4:  00:01:41\n",
      "\tEnter ROI VO-1 at: 21:53:33\n",
      "(33797, 10000)\n",
      "(33797,)\n",
      "\t\t\tcomputing RDM for roi: VO-1\n",
      "elapsed time:  00:01:26\n",
      "\t\t\tsaving full rdm for VO-1 : subj01\n",
      "\t\tTime elapsed during VO-1:  00:01:31\n",
      "\tEnter ROI VO-2 at: 21:55:04\n",
      "(33797, 10000)\n",
      "(33797,)\n",
      "\t\t\tcomputing RDM for roi: VO-2\n",
      "elapsed time:  00:01:16\n",
      "\t\t\tsaving full rdm for VO-2 : subj01\n",
      "\t\tTime elapsed during VO-2:  00:01:22\n",
      "\tEnter ROI PHC-1 at: 21:56:27\n",
      "(33797, 10000)\n",
      "(33797,)\n",
      "\t\t\tcomputing RDM for roi: PHC-1\n",
      "elapsed time:  00:01:16\n",
      "\t\t\tsaving full rdm for PHC-1 : subj01\n",
      "\t\tTime elapsed during PHC-1:  00:01:21\n",
      "\tEnter ROI PHC-2 at: 21:57:48\n",
      "(33797, 10000)\n",
      "(33797,)\n",
      "\t\t\tcomputing RDM for roi: PHC-2\n",
      "elapsed time:  00:01:00\n",
      "\t\t\tsaving full rdm for PHC-2 : subj01\n",
      "\t\tTime elapsed during PHC-2:  00:01:05\n",
      "\tEnter ROI LO-1 at: 21:58:54\n",
      "(33797, 10000)\n",
      "(33797,)\n",
      "\t\t\tcomputing RDM for roi: LO-1\n",
      "elapsed time:  00:00:35\n",
      "\t\t\tsaving full rdm for LO-1 : subj01\n",
      "\t\tTime elapsed during LO-1:  00:00:40\n",
      "\tEnter ROI LO-2 at: 21:59:34\n",
      "(33797, 10000)\n",
      "(33797,)\n",
      "\t\t\tcomputing RDM for roi: LO-2\n",
      "elapsed time:  00:00:26\n",
      "\t\t\tsaving full rdm for LO-2 : subj01\n",
      "\t\tTime elapsed during LO-2:  00:00:31\n",
      "\tEnter ROI TO-1 at: 22:00:06\n",
      "(33797, 10000)\n",
      "(33797,)\n",
      "\t\t\tcomputing RDM for roi: TO-1\n",
      "elapsed time:  00:00:22\n",
      "\t\t\tsaving full rdm for TO-1 : subj01\n",
      "\t\tTime elapsed during TO-1:  00:00:27\n",
      "\tEnter ROI TO-2 at: 22:00:34\n",
      "(33797, 10000)\n",
      "(33797,)\n",
      "\t\t\tcomputing RDM for roi: TO-2\n",
      "elapsed time:  00:00:51\n",
      "\t\t\tsaving full rdm for TO-2 : subj01\n",
      "\t\tTime elapsed during TO-2:  00:00:56\n",
      "\t\tTime elapsed during subj01:  00:15:29\n",
      "Enter subj02 at 22:01:31\n",
      "/media/harveylab/STORAGE1_NA/luis-thesis/spatial_neural_responses/data/nsddata/freesurfer/subj02/label/customrois/short.subj02.testrois.npy\n",
      "\tEnter ROI V1 at: 22:01:31\n",
      "\t\tTime elapsed during V1:  00:00:00\n",
      "\tEnter ROI V2 at: 22:01:31\n",
      "\t\tTime elapsed during V2:  00:00:00\n",
      "\tEnter ROI V3 at: 22:01:31\n",
      "\t\tTime elapsed during V3:  00:00:00\n",
      "\tEnter ROI hV4 at: 22:01:31\n",
      "\t\tTime elapsed during hV4:  00:00:00\n",
      "\tEnter ROI VO-1 at: 22:01:31\n",
      "\t\tTime elapsed during VO-1:  00:00:00\n",
      "\tEnter ROI VO-2 at: 22:01:31\n",
      "\t\tTime elapsed during VO-2:  00:00:00\n",
      "\tEnter ROI PHC-1 at: 22:01:31\n",
      "\t\tTime elapsed during PHC-1:  00:00:00\n",
      "\tEnter ROI PHC-2 at: 22:01:31\n",
      "\t\tTime elapsed during PHC-2:  00:00:00\n",
      "\tEnter ROI LO-1 at: 22:01:31\n",
      "\t\tTime elapsed during LO-1:  00:00:00\n",
      "\tEnter ROI LO-2 at: 22:01:31\n",
      "\t\tTime elapsed during LO-2:  00:00:00\n",
      "\tEnter ROI TO-1 at: 22:01:31\n",
      "\t\tTime elapsed during TO-1:  00:00:00\n",
      "\tEnter ROI TO-2 at: 22:01:31\n",
      "\t\tTime elapsed during TO-2:  00:00:00\n",
      "\t\tTime elapsed during subj02:  00:00:00\n",
      "Enter subj03 at 22:01:31\n",
      "/media/harveylab/STORAGE1_NA/luis-thesis/spatial_neural_responses/data/nsddata/freesurfer/subj03/label/customrois/short.subj03.testrois.npy\n",
      "\tEnter ROI V1 at: 22:01:31\n",
      "\t\tTime elapsed during V1:  00:00:00\n",
      "\tEnter ROI V2 at: 22:01:31\n",
      "\t\tTime elapsed during V2:  00:00:00\n",
      "\tEnter ROI V3 at: 22:01:31\n",
      "\t\tTime elapsed during V3:  00:00:00\n",
      "\tEnter ROI hV4 at: 22:01:31\n",
      "\t\tTime elapsed during hV4:  00:00:00\n",
      "\tEnter ROI VO-1 at: 22:01:31\n",
      "\t\tTime elapsed during VO-1:  00:00:00\n",
      "\tEnter ROI VO-2 at: 22:01:31\n",
      "\t\tTime elapsed during VO-2:  00:00:00\n",
      "\tEnter ROI PHC-1 at: 22:01:31\n",
      "\t\tTime elapsed during PHC-1:  00:00:00\n",
      "\tEnter ROI PHC-2 at: 22:01:31\n",
      "\t\tTime elapsed during PHC-2:  00:00:00\n",
      "\tEnter ROI LO-1 at: 22:01:31\n",
      "\t\tTime elapsed during LO-1:  00:00:00\n",
      "\tEnter ROI LO-2 at: 22:01:31\n",
      "\t\tTime elapsed during LO-2:  00:00:00\n",
      "\tEnter ROI TO-1 at: 22:01:31\n",
      "\t\tTime elapsed during TO-1:  00:00:00\n",
      "\tEnter ROI TO-2 at: 22:01:31\n",
      "\t\tTime elapsed during TO-2:  00:00:00\n",
      "\t\tTime elapsed during subj03:  00:00:00\n",
      "Enter subj04 at 22:01:31\n",
      "/media/harveylab/STORAGE1_NA/luis-thesis/spatial_neural_responses/data/nsddata/freesurfer/subj04/label/customrois/short.subj04.testrois.npy\n",
      "\tEnter ROI V1 at: 22:01:31\n",
      "\t\tTime elapsed during V1:  00:00:00\n",
      "\tEnter ROI V2 at: 22:01:31\n",
      "\t\tTime elapsed during V2:  00:00:00\n",
      "\tEnter ROI V3 at: 22:01:31\n",
      "\t\tTime elapsed during V3:  00:00:00\n",
      "\tEnter ROI hV4 at: 22:01:31\n",
      "\t\tTime elapsed during hV4:  00:00:00\n",
      "\tEnter ROI VO-1 at: 22:01:31\n",
      "\t\tTime elapsed during VO-1:  00:00:00\n",
      "\tEnter ROI VO-2 at: 22:01:31\n",
      "\t\tTime elapsed during VO-2:  00:00:00\n",
      "\tEnter ROI PHC-1 at: 22:01:31\n",
      "\t\tTime elapsed during PHC-1:  00:00:00\n",
      "\tEnter ROI PHC-2 at: 22:01:31\n",
      "\t\tTime elapsed during PHC-2:  00:00:00\n",
      "\tEnter ROI LO-1 at: 22:01:31\n",
      "\t\tTime elapsed during LO-1:  00:00:00\n",
      "\tEnter ROI LO-2 at: 22:01:31\n",
      "\t\tTime elapsed during LO-2:  00:00:00\n",
      "\tEnter ROI TO-1 at: 22:01:31\n",
      "\t\tTime elapsed during TO-1:  00:00:00\n",
      "\tEnter ROI TO-2 at: 22:01:31\n",
      "\t\tTime elapsed during TO-2:  00:00:00\n",
      "\t\tTime elapsed during subj04:  00:00:00\n",
      "Enter subj05 at 22:01:31\n",
      "/media/harveylab/STORAGE1_NA/luis-thesis/spatial_neural_responses/data/nsddata/freesurfer/subj05/label/customrois/short.subj05.testrois.npy\n",
      "\tEnter ROI V1 at: 22:01:31\n",
      "\t\tTime elapsed during V1:  00:00:00\n",
      "\tEnter ROI V2 at: 22:01:31\n",
      "\t\tTime elapsed during V2:  00:00:00\n",
      "\tEnter ROI V3 at: 22:01:31\n",
      "\t\tTime elapsed during V3:  00:00:00\n",
      "\tEnter ROI hV4 at: 22:01:31\n",
      "\t\tTime elapsed during hV4:  00:00:00\n",
      "\tEnter ROI VO-1 at: 22:01:31\n",
      "\t\tTime elapsed during VO-1:  00:00:00\n",
      "\tEnter ROI VO-2 at: 22:01:31\n",
      "\t\tTime elapsed during VO-2:  00:00:00\n",
      "\tEnter ROI PHC-1 at: 22:01:31\n",
      "\t\tTime elapsed during PHC-1:  00:00:00\n",
      "\tEnter ROI PHC-2 at: 22:01:31\n",
      "\t\tTime elapsed during PHC-2:  00:00:00\n",
      "\tEnter ROI LO-1 at: 22:01:31\n",
      "\t\tTime elapsed during LO-1:  00:00:00\n",
      "\tEnter ROI LO-2 at: 22:01:31\n",
      "\t\tTime elapsed during LO-2:  00:00:00\n",
      "\tEnter ROI TO-1 at: 22:01:31\n",
      "\t\tTime elapsed during TO-1:  00:00:00\n",
      "\tEnter ROI TO-2 at: 22:01:31\n",
      "\t\tTime elapsed during TO-2:  00:00:00\n",
      "\t\tTime elapsed during subj05:  00:00:00\n",
      "Enter subj06 at 22:01:31\n",
      "/media/harveylab/STORAGE1_NA/luis-thesis/spatial_neural_responses/data/nsddata/freesurfer/subj06/label/customrois/short.subj06.testrois.npy\n",
      "\tEnter ROI V1 at: 22:01:31\n",
      "(39283, 6234)\n",
      "(39283,)\n",
      "\t\t\tcomputing RDM for roi: V1\n",
      "elapsed time:  00:00:23\n",
      "\t\t\tsaving full rdm for V1 : subj06\n",
      "\t\t\tComputing MDS for V1\n"
     ]
    },
    {
     "name": "stderr",
     "output_type": "stream",
     "text": [
      "/home/harveylab/miniconda3/envs/thesis/lib/python3.10/site-packages/sklearn/manifold/_mds.py:298: FutureWarning: The default value of `normalized_stress` will change to `'auto'` in version 1.4. To suppress this warning, manually set the value of `normalized_stress`.\n",
      "  warnings.warn(\n"
     ]
    },
    {
     "name": "stdout",
     "output_type": "stream",
     "text": [
      "elapsedtime:  00:05:39\n",
      "\t\t\tsaving MDS for V1 : subj06\n",
      "\t\tTime elapsed during V1:  00:06:15\n",
      "\tEnter ROI V2 at: 22:07:46\n",
      "(39283, 6234)\n",
      "(39283,)\n",
      "\t\t\tcomputing RDM for roi: V2\n",
      "elapsed time:  00:00:44\n",
      "\t\t\tsaving full rdm for V2 : subj06\n",
      "\t\t\tComputing MDS for V2\n"
     ]
    },
    {
     "name": "stderr",
     "output_type": "stream",
     "text": [
      "/home/harveylab/miniconda3/envs/thesis/lib/python3.10/site-packages/sklearn/manifold/_mds.py:298: FutureWarning: The default value of `normalized_stress` will change to `'auto'` in version 1.4. To suppress this warning, manually set the value of `normalized_stress`.\n",
      "  warnings.warn(\n"
     ]
    },
    {
     "name": "stdout",
     "output_type": "stream",
     "text": [
      "elapsedtime:  00:05:40\n",
      "\t\t\tsaving MDS for V2 : subj06\n",
      "\t\tTime elapsed during V2:  00:06:26\n",
      "\tEnter ROI V3 at: 22:14:13\n",
      "(39283, 6234)\n",
      "(39283,)\n",
      "\t\t\tcomputing RDM for roi: V3\n",
      "elapsed time:  00:00:33\n",
      "\t\t\tsaving full rdm for V3 : subj06\n",
      "\t\t\tComputing MDS for V3\n"
     ]
    },
    {
     "name": "stderr",
     "output_type": "stream",
     "text": [
      "/home/harveylab/miniconda3/envs/thesis/lib/python3.10/site-packages/sklearn/manifold/_mds.py:298: FutureWarning: The default value of `normalized_stress` will change to `'auto'` in version 1.4. To suppress this warning, manually set the value of `normalized_stress`.\n",
      "  warnings.warn(\n"
     ]
    },
    {
     "name": "stdout",
     "output_type": "stream",
     "text": [
      "elapsedtime:  00:05:40\n",
      "\t\t\tsaving MDS for V3 : subj06\n",
      "\t\tTime elapsed during V3:  00:06:15\n",
      "\tEnter ROI hV4 at: 22:20:29\n",
      "(39283, 6234)\n",
      "(39283,)\n",
      "\t\t\tcomputing RDM for roi: hV4\n",
      "elapsed time:  00:00:31\n",
      "\t\t\tsaving full rdm for hV4 : subj06\n",
      "\t\t\tComputing MDS for hV4\n"
     ]
    },
    {
     "name": "stderr",
     "output_type": "stream",
     "text": [
      "/home/harveylab/miniconda3/envs/thesis/lib/python3.10/site-packages/sklearn/manifold/_mds.py:298: FutureWarning: The default value of `normalized_stress` will change to `'auto'` in version 1.4. To suppress this warning, manually set the value of `normalized_stress`.\n",
      "  warnings.warn(\n"
     ]
    },
    {
     "name": "stdout",
     "output_type": "stream",
     "text": [
      "elapsedtime:  00:05:39\n",
      "\t\t\tsaving MDS for hV4 : subj06\n",
      "\t\tTime elapsed during hV4:  00:06:13\n",
      "\tEnter ROI VO-1 at: 22:26:42\n",
      "(39283, 6234)\n",
      "(39283,)\n",
      "\t\t\tcomputing RDM for roi: VO-1\n",
      "elapsed time:  00:00:30\n",
      "\t\t\tsaving full rdm for VO-1 : subj06\n",
      "\t\t\tComputing MDS for VO-1\n"
     ]
    },
    {
     "name": "stderr",
     "output_type": "stream",
     "text": [
      "/home/harveylab/miniconda3/envs/thesis/lib/python3.10/site-packages/sklearn/manifold/_mds.py:298: FutureWarning: The default value of `normalized_stress` will change to `'auto'` in version 1.4. To suppress this warning, manually set the value of `normalized_stress`.\n",
      "  warnings.warn(\n"
     ]
    },
    {
     "name": "stdout",
     "output_type": "stream",
     "text": [
      "elapsedtime:  00:05:39\n",
      "\t\t\tsaving MDS for VO-1 : subj06\n",
      "\t\tTime elapsed during VO-1:  00:06:12\n",
      "\tEnter ROI VO-2 at: 22:32:55\n",
      "(39283, 6234)\n",
      "(39283,)\n",
      "\t\t\tcomputing RDM for roi: VO-2\n",
      "elapsed time:  00:00:34\n",
      "\t\t\tsaving full rdm for VO-2 : subj06\n",
      "\t\t\tComputing MDS for VO-2\n"
     ]
    },
    {
     "name": "stderr",
     "output_type": "stream",
     "text": [
      "/home/harveylab/miniconda3/envs/thesis/lib/python3.10/site-packages/sklearn/manifold/_mds.py:298: FutureWarning: The default value of `normalized_stress` will change to `'auto'` in version 1.4. To suppress this warning, manually set the value of `normalized_stress`.\n",
      "  warnings.warn(\n"
     ]
    },
    {
     "name": "stdout",
     "output_type": "stream",
     "text": [
      "elapsedtime:  00:05:40\n",
      "\t\t\tsaving MDS for VO-2 : subj06\n",
      "\t\tTime elapsed during VO-2:  00:06:16\n",
      "\tEnter ROI PHC-1 at: 22:39:11\n",
      "(39283, 6234)\n",
      "(39283,)\n",
      "\t\t\tcomputing RDM for roi: PHC-1\n",
      "elapsed time:  00:00:25\n",
      "\t\t\tsaving full rdm for PHC-1 : subj06\n",
      "\t\t\tComputing MDS for PHC-1\n"
     ]
    },
    {
     "name": "stderr",
     "output_type": "stream",
     "text": [
      "/home/harveylab/miniconda3/envs/thesis/lib/python3.10/site-packages/sklearn/manifold/_mds.py:298: FutureWarning: The default value of `normalized_stress` will change to `'auto'` in version 1.4. To suppress this warning, manually set the value of `normalized_stress`.\n",
      "  warnings.warn(\n"
     ]
    },
    {
     "name": "stdout",
     "output_type": "stream",
     "text": [
      "elapsedtime:  00:05:39\n",
      "\t\t\tsaving MDS for PHC-1 : subj06\n",
      "\t\tTime elapsed during PHC-1:  00:06:07\n",
      "\tEnter ROI PHC-2 at: 22:45:19\n",
      "(39283, 6234)\n",
      "(39283,)\n",
      "\t\t\tcomputing RDM for roi: PHC-2\n",
      "elapsed time:  00:00:25\n",
      "\t\t\tsaving full rdm for PHC-2 : subj06\n",
      "\t\t\tComputing MDS for PHC-2\n"
     ]
    },
    {
     "name": "stderr",
     "output_type": "stream",
     "text": [
      "/home/harveylab/miniconda3/envs/thesis/lib/python3.10/site-packages/sklearn/manifold/_mds.py:298: FutureWarning: The default value of `normalized_stress` will change to `'auto'` in version 1.4. To suppress this warning, manually set the value of `normalized_stress`.\n",
      "  warnings.warn(\n"
     ]
    },
    {
     "name": "stdout",
     "output_type": "stream",
     "text": [
      "elapsedtime:  00:05:39\n",
      "\t\t\tsaving MDS for PHC-2 : subj06\n",
      "\t\tTime elapsed during PHC-2:  00:06:08\n",
      "\tEnter ROI LO-1 at: 22:51:27\n",
      "(39283, 6234)\n",
      "(39283,)\n",
      "\t\t\tcomputing RDM for roi: LO-1\n",
      "elapsed time:  00:00:35\n",
      "\t\t\tsaving full rdm for LO-1 : subj06\n",
      "\t\t\tComputing MDS for LO-1\n"
     ]
    },
    {
     "name": "stderr",
     "output_type": "stream",
     "text": [
      "/home/harveylab/miniconda3/envs/thesis/lib/python3.10/site-packages/sklearn/manifold/_mds.py:298: FutureWarning: The default value of `normalized_stress` will change to `'auto'` in version 1.4. To suppress this warning, manually set the value of `normalized_stress`.\n",
      "  warnings.warn(\n"
     ]
    },
    {
     "name": "stdout",
     "output_type": "stream",
     "text": [
      "elapsedtime:  00:05:40\n",
      "\t\t\tsaving MDS for LO-1 : subj06\n",
      "\t\tTime elapsed during LO-1:  00:06:18\n",
      "\tEnter ROI LO-2 at: 22:57:45\n",
      "(39283, 6234)\n",
      "(39283,)\n",
      "\t\t\tcomputing RDM for roi: LO-2\n",
      "elapsed time:  00:00:26\n",
      "\t\t\tsaving full rdm for LO-2 : subj06\n",
      "\t\t\tComputing MDS for LO-2\n"
     ]
    },
    {
     "name": "stderr",
     "output_type": "stream",
     "text": [
      "/home/harveylab/miniconda3/envs/thesis/lib/python3.10/site-packages/sklearn/manifold/_mds.py:298: FutureWarning: The default value of `normalized_stress` will change to `'auto'` in version 1.4. To suppress this warning, manually set the value of `normalized_stress`.\n",
      "  warnings.warn(\n"
     ]
    },
    {
     "name": "stdout",
     "output_type": "stream",
     "text": [
      "elapsedtime:  00:05:40\n",
      "\t\t\tsaving MDS for LO-2 : subj06\n",
      "\t\tTime elapsed during LO-2:  00:06:09\n",
      "\tEnter ROI TO-1 at: 23:03:55\n",
      "(39283, 6234)\n",
      "(39283,)\n",
      "\t\t\tcomputing RDM for roi: TO-1\n",
      "elapsed time:  00:00:19\n",
      "\t\t\tsaving full rdm for TO-1 : subj06\n",
      "\t\t\tComputing MDS for TO-1\n"
     ]
    },
    {
     "name": "stderr",
     "output_type": "stream",
     "text": [
      "/home/harveylab/miniconda3/envs/thesis/lib/python3.10/site-packages/sklearn/manifold/_mds.py:298: FutureWarning: The default value of `normalized_stress` will change to `'auto'` in version 1.4. To suppress this warning, manually set the value of `normalized_stress`.\n",
      "  warnings.warn(\n"
     ]
    },
    {
     "name": "stdout",
     "output_type": "stream",
     "text": [
      "elapsedtime:  00:05:39\n",
      "\t\t\tsaving MDS for TO-1 : subj06\n",
      "\t\tTime elapsed during TO-1:  00:06:02\n",
      "\tEnter ROI TO-2 at: 23:09:57\n",
      "(39283, 6234)\n",
      "(39283,)\n",
      "\t\t\tcomputing RDM for roi: TO-2\n",
      "elapsed time:  00:00:30\n",
      "\t\t\tsaving full rdm for TO-2 : subj06\n",
      "\t\t\tComputing MDS for TO-2\n"
     ]
    },
    {
     "name": "stderr",
     "output_type": "stream",
     "text": [
      "/home/harveylab/miniconda3/envs/thesis/lib/python3.10/site-packages/sklearn/manifold/_mds.py:298: FutureWarning: The default value of `normalized_stress` will change to `'auto'` in version 1.4. To suppress this warning, manually set the value of `normalized_stress`.\n",
      "  warnings.warn(\n"
     ]
    },
    {
     "name": "stdout",
     "output_type": "stream",
     "text": [
      "elapsedtime:  00:05:40\n",
      "\t\t\tsaving MDS for TO-2 : subj06\n",
      "\t\tTime elapsed during TO-2:  00:06:13\n",
      "\t\tTime elapsed during subj06:  01:14:39\n",
      "Enter subj07 at 23:16:11\n",
      "/media/harveylab/STORAGE1_NA/luis-thesis/spatial_neural_responses/data/nsddata/freesurfer/subj07/label/customrois/short.subj07.testrois.npy\n",
      "\tEnter ROI V1 at: 23:16:11\n",
      "\t\tTime elapsed during V1:  00:00:00\n",
      "\tEnter ROI V2 at: 23:16:11\n",
      "\t\tTime elapsed during V2:  00:00:00\n",
      "\tEnter ROI V3 at: 23:16:11\n",
      "\t\tTime elapsed during V3:  00:00:00\n",
      "\tEnter ROI hV4 at: 23:16:11\n",
      "\t\tTime elapsed during hV4:  00:00:00\n",
      "\tEnter ROI VO-1 at: 23:16:11\n",
      "\t\tTime elapsed during VO-1:  00:00:00\n",
      "\tEnter ROI VO-2 at: 23:16:11\n",
      "\t\tTime elapsed during VO-2:  00:00:00\n",
      "\tEnter ROI PHC-1 at: 23:16:11\n",
      "\t\tTime elapsed during PHC-1:  00:00:00\n",
      "\tEnter ROI PHC-2 at: 23:16:11\n",
      "\t\tTime elapsed during PHC-2:  00:00:00\n",
      "\tEnter ROI LO-1 at: 23:16:11\n",
      "\t\tTime elapsed during LO-1:  00:00:00\n",
      "\tEnter ROI LO-2 at: 23:16:11\n",
      "\t\tTime elapsed during LO-2:  00:00:00\n",
      "\tEnter ROI TO-1 at: 23:16:11\n",
      "\t\tTime elapsed during TO-1:  00:00:00\n",
      "\tEnter ROI TO-2 at: 23:16:11\n",
      "\t\tTime elapsed during TO-2:  00:00:00\n",
      "\t\tTime elapsed during subj07:  00:00:00\n",
      "Enter subj08 at 23:16:11\n",
      "/media/harveylab/STORAGE1_NA/luis-thesis/spatial_neural_responses/data/nsddata/freesurfer/subj08/label/customrois/short.subj08.testrois.npy\n",
      "\tEnter ROI V1 at: 23:16:11\n",
      "\t\tTime elapsed during V1:  00:00:00\n",
      "\tEnter ROI V2 at: 23:16:11\n",
      "\t\tTime elapsed during V2:  00:00:00\n",
      "\tEnter ROI V3 at: 23:16:11\n",
      "\t\tTime elapsed during V3:  00:00:00\n",
      "\tEnter ROI hV4 at: 23:16:11\n",
      "\t\tTime elapsed during hV4:  00:00:00\n",
      "\tEnter ROI VO-1 at: 23:16:11\n",
      "\t\tTime elapsed during VO-1:  00:00:00\n",
      "\tEnter ROI VO-2 at: 23:16:11\n",
      "\t\tTime elapsed during VO-2:  00:00:00\n",
      "\tEnter ROI PHC-1 at: 23:16:11\n",
      "\t\tTime elapsed during PHC-1:  00:00:00\n",
      "\tEnter ROI PHC-2 at: 23:16:11\n",
      "\t\tTime elapsed during PHC-2:  00:00:00\n",
      "\tEnter ROI LO-1 at: 23:16:11\n",
      "\t\tTime elapsed during LO-1:  00:00:00\n",
      "\tEnter ROI LO-2 at: 23:16:11\n",
      "\t\tTime elapsed during LO-2:  00:00:00\n",
      "\tEnter ROI TO-1 at: 23:16:11\n",
      "\t\tTime elapsed during TO-1:  00:00:00\n",
      "\tEnter ROI TO-2 at: 23:16:11\n",
      "\t\tTime elapsed during TO-2:  00:00:00\n",
      "\t\tTime elapsed during subj08:  00:00:00\n"
     ]
    }
   ],
   "source": [
    "for i, (sub, n_sessions) in subjects_sessions.items():\n",
    "    start_sub = time.time()\n",
    "    print(f'Enter {sub} at {time.strftime(\"%H:%M:%S\", time.gmtime(start_sub))}')\n",
    "\n",
    "    maskdata_file = os.path.join(mask_dir +  f'/{sub}' + f'/label/customrois/'  + f'short.{sub}.testrois.npy')  # Luis if you ever read this: there's an error in your repo here\n",
    "    print(maskdata_file)\n",
    "    maskdata = np.load(maskdata_file, allow_pickle=True).astype(int)\n",
    "\n",
    "\n",
    "    for mask_name in rois.keys():\n",
    "        start_mask_name = time.time()\n",
    "        print(\n",
    "            f'\\tEnter ROI {mask_name} at: {time.strftime(\"%H:%M:%S\", time.gmtime(start_mask_name))}'\n",
    "        ) \n",
    "        betas_file = os.path.join(outpath, f'{sub}_betas_list_{targetspace}_averaged.npy')\n",
    "\n",
    "        rdm_file = os.path.join(proj_dir, 'rsa' + '/rdm' + f'/{sub}', f'{sub}_{n_sessions}_{mask_name}_fullrdm_correlation.npy'\n",
    "                               )\n",
    "        mds_file = os.path.join(proj_dir, 'rsa' + '/mds' + f'/{sub}', f'{sub}_{n_sessions}_{mask_name}_mds.npy'\n",
    "                               )\n",
    "\n",
    "        if not os.path.exists(rdm_file):\n",
    "            roi = [rois[mask_name]]\n",
    "            vs_mask = np.array([e in roi for e in maskdata])\n",
    "            betas = np.load(betas_file, allow_pickle=True).astype(np.float32)\n",
    "            print(betas.shape)\n",
    "            print(vs_mask.shape)\n",
    "            masked_betas = betas[vs_mask, :]\n",
    "            good_vox = [np.sum(np.isnan(x)) == 0 for x in masked_betas]\n",
    "            masked_betas = masked_betas[good_vox, :]\n",
    "\n",
    "            X = masked_betas.T\n",
    "\n",
    "            print(f'\\t\\t\\tcomputing RDM for roi: {mask_name}')\n",
    "            start_time = time.time()\n",
    "            rdm = pdist(X, metric='correlation')\n",
    "\n",
    "\n",
    "            if np.any(np.isnan(rdm)):\n",
    "                raise ValueError\n",
    "    \n",
    "            elapsed_time = time.time() - start_time\n",
    "            print(\n",
    "                'elapsed time: ',\n",
    "                    f'{time.strftime(\"%H:%M:%S\", time.gmtime(elapsed_time))}'\n",
    "                )\n",
    "            print(f'\\t\\t\\tsaving full rdm for {mask_name} : {sub}')\n",
    "            np.save(\n",
    "                rdm_file,\n",
    "                rdm\n",
    "            )\n",
    "        \n",
    "        \n",
    "        if not os.path.exists(mds_file):\n",
    "            \n",
    "            rdm = np.load(rdm_file, allow_pickle=True).astype(np.float32)\n",
    "            print(f'\\t\\t\\tComputing MDS for {mask_name}')\n",
    "            start_mds = time.time()\n",
    "            \n",
    "            mds_out = mds(rdm).astype(np.float32)\n",
    "            \n",
    "            elapsed_time = time.time() - start_mds\n",
    "            \n",
    "            print('elapsedtime: ',\n",
    "                    f'{time.strftime(\"%H:%M:%S\", time.gmtime(elapsed_time))}'\n",
    "            )\n",
    "            \n",
    "            print(f'\\t\\t\\tsaving MDS for {mask_name} : {sub}')\n",
    "            np.save(mds_file, mds_out)\n",
    "\n",
    "        print(\n",
    "            f'\\t\\tTime elapsed during {mask_name}: ',\n",
    "            f'{time.strftime(\"%H:%M:%S\", time.gmtime(time.time() - start_mask_name))}'\n",
    "        )\n",
    "\n",
    "    print(\n",
    "        f'\\t\\tTime elapsed during {sub}: ',\n",
    "        f'{time.strftime(\"%H:%M:%S\", time.gmtime(time.time() - start_sub))}'\n",
    "    )\n",
    "            \n",
    "\n",
    "    "
   ]
  },
  {
   "cell_type": "code",
   "execution_count": null,
   "id": "f5a2a8d1-ef9e-487e-9bef-2bbefcc374e6",
   "metadata": {},
   "outputs": [],
   "source": []
  }
 ],
 "metadata": {
  "kernelspec": {
   "display_name": "Python 3 (ipykernel)",
   "language": "python",
   "name": "python3"
  },
  "language_info": {
   "codemirror_mode": {
    "name": "ipython",
    "version": 3
   },
   "file_extension": ".py",
   "mimetype": "text/x-python",
   "name": "python",
   "nbconvert_exporter": "python",
   "pygments_lexer": "ipython3",
   "version": "3.10.13"
  }
 },
 "nbformat": 4,
 "nbformat_minor": 5
}
