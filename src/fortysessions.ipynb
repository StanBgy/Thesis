{
 "cells": [
  {
   "cell_type": "code",
   "execution_count": 8,
   "id": "78742449-4009-4ea0-bcdd-58da48a0836d",
   "metadata": {},
   "outputs": [],
   "source": [
    "import os \n",
    "import numpy as np\n",
    "import pandas as pd\n",
    "from numpy import ndarray\n",
    "from nsddatapaper_rsa.utils.nsd_get_data import get_conditions, get_labels, get_betas\n",
    "from nsddatapaper_rsa.utils.utils import category_dict, mds, average_over_conditions\n",
    "from utils.utils import *\n",
    "from utils.kabsch2D import *\n",
    "from nsd_access import NSDAccess \n",
    "from matplotlib import cm \n",
    "import scprep\n",
    "import matplotlib.pyplot as plt\n",
    "import nibabel as nib\n",
    "from scipy.spatial.distance import pdist"
   ]
  },
  {
   "cell_type": "code",
   "execution_count": 2,
   "id": "46d3c08e-7537-4a18-8127-0a94df0f13d0",
   "metadata": {},
   "outputs": [],
   "source": [
    "# Check MDS for 40 sessions"
   ]
  },
  {
   "cell_type": "code",
   "execution_count": 3,
   "id": "57d83437-0023-43f7-b2e9-76a5093bea7a",
   "metadata": {},
   "outputs": [],
   "source": [
    "n_jobs = 2 # Local machine, don't go too crazy\n",
    "n_sessions = 40\n",
    "n_subjects = 1 # only try sub 1 here\n",
    "\n",
    "nsda = NSDAccess(nsd_dir)\n",
    "\n",
    "outpath = os.path.join(betas_dir, 'roi_analyses')\n",
    "if not os.path.exists(outpath):\n",
    "    os.makedirs(outpath)\n",
    "\n",
    "targetspace = 'fsaverage'\n",
    "\n",
    "# I found this in the paper repo -> mainfigures -> SCIENCE.RSA\n",
    "lh_file = os.path.join(proj_dir, 'lh.highlevelvisual.mgz')\n",
    "rh_file = os.path.join(proj_dir, 'rh.highlevelvisual.mgz')\n",
    "\n",
    "\n",
    "# load them\n",
    "maskdata_lh = nib.load(lh_file).get_fdata().squeeze()\n",
    "maskdata_rh = nib.load(rh_file).get_fdata().squeeze()\n",
    "\n",
    "maskdata = np.hstack((maskdata_lh, maskdata_rh))\n",
    "\n",
    "ROIS = {1: 'pVTC', 2: 'aVTC', 3: 'v1', 4: 'v2', 5: 'v3'}\n",
    "\n",
    "roi_names = ['pVTC', 'aVTC', 'v1', 'v2', 'v3']\n",
    "\n",
    "# sessions\n",
    "n_sessions = 40\n",
    "\n",
    "# subjects\n",
    "subs = ['subj0{}'.format(x+1) for x in range(n_subjects)]"
   ]
  },
  {
   "cell_type": "code",
   "execution_count": 6,
   "id": "3b324767-3947-4446-bd13-35667d5c561c",
   "metadata": {},
   "outputs": [],
   "source": [
    "outpath = os.path.join(proj_dir, 'roi_analyses')"
   ]
  },
  {
   "cell_type": "code",
   "execution_count": 4,
   "id": "fef54719-c31e-4c79-9545-97d95e8b30b9",
   "metadata": {},
   "outputs": [
    {
     "name": "stdout",
     "output_type": "stream",
     "text": [
      "\t\tsub: subj01 fetching condition trials in session: 1\n",
      "\t\tsub: subj01 fetching condition trials in session: 2\n",
      "\t\tsub: subj01 fetching condition trials in session: 3\n",
      "\t\tsub: subj01 fetching condition trials in session: 4\n",
      "\t\tsub: subj01 fetching condition trials in session: 5\n",
      "\t\tsub: subj01 fetching condition trials in session: 6\n",
      "\t\tsub: subj01 fetching condition trials in session: 7\n",
      "\t\tsub: subj01 fetching condition trials in session: 8\n",
      "\t\tsub: subj01 fetching condition trials in session: 9\n",
      "\t\tsub: subj01 fetching condition trials in session: 10\n",
      "\t\tsub: subj01 fetching condition trials in session: 11\n",
      "\t\tsub: subj01 fetching condition trials in session: 12\n",
      "\t\tsub: subj01 fetching condition trials in session: 13\n",
      "\t\tsub: subj01 fetching condition trials in session: 14\n",
      "\t\tsub: subj01 fetching condition trials in session: 15\n",
      "\t\tsub: subj01 fetching condition trials in session: 16\n",
      "\t\tsub: subj01 fetching condition trials in session: 17\n",
      "\t\tsub: subj01 fetching condition trials in session: 18\n",
      "\t\tsub: subj01 fetching condition trials in session: 19\n",
      "\t\tsub: subj01 fetching condition trials in session: 20\n",
      "\t\tsub: subj01 fetching condition trials in session: 21\n",
      "\t\tsub: subj01 fetching condition trials in session: 22\n",
      "\t\tsub: subj01 fetching condition trials in session: 23\n",
      "\t\tsub: subj01 fetching condition trials in session: 24\n",
      "\t\tsub: subj01 fetching condition trials in session: 25\n",
      "\t\tsub: subj01 fetching condition trials in session: 26\n",
      "\t\tsub: subj01 fetching condition trials in session: 27\n",
      "\t\tsub: subj01 fetching condition trials in session: 28\n",
      "\t\tsub: subj01 fetching condition trials in session: 29\n",
      "\t\tsub: subj01 fetching condition trials in session: 30\n",
      "\t\tsub: subj01 fetching condition trials in session: 31\n",
      "\t\tsub: subj01 fetching condition trials in session: 32\n",
      "\t\tsub: subj01 fetching condition trials in session: 33\n",
      "\t\tsub: subj01 fetching condition trials in session: 34\n",
      "\t\tsub: subj01 fetching condition trials in session: 35\n",
      "\t\tsub: subj01 fetching condition trials in session: 36\n",
      "\t\tsub: subj01 fetching condition trials in session: 37\n",
      "\t\tsub: subj01 fetching condition trials in session: 38\n",
      "\t\tsub: subj01 fetching condition trials in session: 39\n",
      "\t\tsub: subj01 fetching condition trials in session: 40\n"
     ]
    }
   ],
   "source": [
    "conditions = get_conditions(nsd_dir, subs[0], n_sessions)"
   ]
  },
  {
   "cell_type": "code",
   "execution_count": 5,
   "id": "137089a1-eeeb-498b-9914-52da69c9d0f7",
   "metadata": {},
   "outputs": [],
   "source": [
    "conditions = np.asarray(conditions).ravel()\n",
    "conditions_bool = [\n",
    "    True if np.sum(conditions == x) == 3 else False for x in conditions]\n",
    "\n",
    "conditions_sampled = conditions[conditions_bool]\n",
    "\n",
    "# find the subject's unique condition list (sample pool)\n",
    "sample = np.unique(conditions[conditions_bool])\n",
    "assert sample.shape[0] == 10000"
   ]
  },
  {
   "cell_type": "code",
   "execution_count": 11,
   "id": "3acca317-0753-4161-98f0-4ce397f5ee60",
   "metadata": {},
   "outputs": [
    {
     "ename": "ValueError",
     "evalue": "cannot reshape array of size 1073741791 into shape (327684,10000)",
     "output_type": "error",
     "traceback": [
      "\u001b[0;31m---------------------------------------------------------------------------\u001b[0m",
      "\u001b[0;31mValueError\u001b[0m                                Traceback (most recent call last)",
      "Cell \u001b[0;32mIn[11], line 2\u001b[0m\n\u001b[1;32m      1\u001b[0m \u001b[38;5;66;03m# save full ROI\u001b[39;00m\n\u001b[0;32m----> 2\u001b[0m betas_mean \u001b[38;5;241m=\u001b[39m \u001b[43mnp\u001b[49m\u001b[38;5;241;43m.\u001b[39;49m\u001b[43mload\u001b[49m\u001b[43m(\u001b[49m\u001b[38;5;124;43m'\u001b[39;49m\u001b[38;5;124;43msubj01_betas_list_fsaverage_averaged.npy\u001b[39;49m\u001b[38;5;124;43m'\u001b[39;49m\u001b[43m,\u001b[49m\u001b[43m \u001b[49m\u001b[43mallow_pickle\u001b[49m\u001b[38;5;241;43m=\u001b[39;49m\u001b[38;5;28;43;01mTrue\u001b[39;49;00m\u001b[43m)\u001b[49m\n\u001b[1;32m      4\u001b[0m \u001b[38;5;28;01mfor\u001b[39;00m roi \u001b[38;5;129;01min\u001b[39;00m \u001b[38;5;28mrange\u001b[39m(\u001b[38;5;241m1\u001b[39m, \u001b[38;5;241m6\u001b[39m):\n\u001b[1;32m      5\u001b[0m     mask_name \u001b[38;5;241m=\u001b[39m ROIS[roi]\n",
      "File \u001b[0;32m~/miniconda3/envs/thesis/lib/python3.10/site-packages/numpy/lib/npyio.py:456\u001b[0m, in \u001b[0;36mload\u001b[0;34m(file, mmap_mode, allow_pickle, fix_imports, encoding, max_header_size)\u001b[0m\n\u001b[1;32m    453\u001b[0m         \u001b[38;5;28;01mreturn\u001b[39;00m \u001b[38;5;28mformat\u001b[39m\u001b[38;5;241m.\u001b[39mopen_memmap(file, mode\u001b[38;5;241m=\u001b[39mmmap_mode,\n\u001b[1;32m    454\u001b[0m                                   max_header_size\u001b[38;5;241m=\u001b[39mmax_header_size)\n\u001b[1;32m    455\u001b[0m     \u001b[38;5;28;01melse\u001b[39;00m:\n\u001b[0;32m--> 456\u001b[0m         \u001b[38;5;28;01mreturn\u001b[39;00m \u001b[38;5;28;43mformat\u001b[39;49m\u001b[38;5;241;43m.\u001b[39;49m\u001b[43mread_array\u001b[49m\u001b[43m(\u001b[49m\u001b[43mfid\u001b[49m\u001b[43m,\u001b[49m\u001b[43m \u001b[49m\u001b[43mallow_pickle\u001b[49m\u001b[38;5;241;43m=\u001b[39;49m\u001b[43mallow_pickle\u001b[49m\u001b[43m,\u001b[49m\n\u001b[1;32m    457\u001b[0m \u001b[43m                                 \u001b[49m\u001b[43mpickle_kwargs\u001b[49m\u001b[38;5;241;43m=\u001b[39;49m\u001b[43mpickle_kwargs\u001b[49m\u001b[43m,\u001b[49m\n\u001b[1;32m    458\u001b[0m \u001b[43m                                 \u001b[49m\u001b[43mmax_header_size\u001b[49m\u001b[38;5;241;43m=\u001b[39;49m\u001b[43mmax_header_size\u001b[49m\u001b[43m)\u001b[49m\n\u001b[1;32m    459\u001b[0m \u001b[38;5;28;01melse\u001b[39;00m:\n\u001b[1;32m    460\u001b[0m     \u001b[38;5;66;03m# Try a pickle\u001b[39;00m\n\u001b[1;32m    461\u001b[0m     \u001b[38;5;28;01mif\u001b[39;00m \u001b[38;5;129;01mnot\u001b[39;00m allow_pickle:\n",
      "File \u001b[0;32m~/miniconda3/envs/thesis/lib/python3.10/site-packages/numpy/lib/format.py:839\u001b[0m, in \u001b[0;36mread_array\u001b[0;34m(fp, allow_pickle, pickle_kwargs, max_header_size)\u001b[0m\n\u001b[1;32m    837\u001b[0m         array \u001b[38;5;241m=\u001b[39m array\u001b[38;5;241m.\u001b[39mtranspose()\n\u001b[1;32m    838\u001b[0m     \u001b[38;5;28;01melse\u001b[39;00m:\n\u001b[0;32m--> 839\u001b[0m         array\u001b[38;5;241m.\u001b[39mshape \u001b[38;5;241m=\u001b[39m shape\n\u001b[1;32m    841\u001b[0m \u001b[38;5;28;01mreturn\u001b[39;00m array\n",
      "\u001b[0;31mValueError\u001b[0m: cannot reshape array of size 1073741791 into shape (327684,10000)"
     ]
    }
   ],
   "source": [
    "# save full ROI\n",
    "betas_mean = np.load('subj01_betas_list_fsaverage_averaged.npy', allow_pickle=True)\n",
    "\n",
    "for roi in range(1, 6):\n",
    "    mask_name = ROIS[roi]\n",
    "    rdm_file = os.path.join(outpath, f'{subs[0]}_{mask_name}_fullrdm_correlation.npy'\n",
    "                           )\n",
    "\n",
    "    if not os.path.exists(rdm_file):\n",
    "\n",
    "        #array of mask vertices\n",
    "        vs_mask = maskdata == roi\n",
    "        print(f'working on ROI: {mask_name}')\n",
    "\n",
    "        masked_betas = betas_mean[vs_mask, :]\n",
    "\n",
    "        good_vox = [\n",
    "            True if np.sum(np.isnan(x)) == 0 else False for x in masked_betas]\n",
    "\n",
    "        if np.sum(good_vox) != len(good_vox):\n",
    "            print(f'found some NaN for ROI: {mask_name} - {subs[0]}')\n",
    "\n",
    "        # prepare for correlation distance\n",
    "        X = masked_betas.T\n",
    "\n",
    "        print(f'computing RDM for roi: {mask_name}')\n",
    "        rdm = pdist(X, metric='correlation')\n",
    "\n",
    "        if np.any(np.isnan(rdm)):\n",
    "            raise ValueError\n",
    "\n",
    "        print(f'saving full rdm for {mask_name} : {subs[0]}')\n",
    "        np.save(rdm_file, rdm)"
   ]
  },
  {
   "cell_type": "code",
   "execution_count": null,
   "id": "00cc5ada-6f32-46ba-b868-3de5da2dcf2f",
   "metadata": {},
   "outputs": [
    {
     "name": "stdout",
     "output_type": "stream",
     "text": [
      "\t\tsub: subj01 fetching betas for trials in session: 1\n",
      "\t\tsub: subj01 fetching betas for trials in session: 2\n",
      "\t\tsub: subj01 fetching betas for trials in session: 3\n",
      "\t\tsub: subj01 fetching betas for trials in session: 4\n",
      "\t\tsub: subj01 fetching betas for trials in session: 5\n",
      "\t\tsub: subj01 fetching betas for trials in session: 6\n",
      "\t\tsub: subj01 fetching betas for trials in session: 7\n",
      "\t\tsub: subj01 fetching betas for trials in session: 8\n",
      "\t\tsub: subj01 fetching betas for trials in session: 9\n",
      "\t\tsub: subj01 fetching betas for trials in session: 10\n",
      "\t\tsub: subj01 fetching betas for trials in session: 11\n",
      "\t\tsub: subj01 fetching betas for trials in session: 12\n",
      "\t\tsub: subj01 fetching betas for trials in session: 13\n",
      "\t\tsub: subj01 fetching betas for trials in session: 14\n"
     ]
    }
   ],
   "source": [
    "betas_mean_file = os.path.join(outpath, f'{subs[0]}_betas_list_{targetspace}_averaged.npy') \n",
    "if not os.path.exists(betas_mean_file):\n",
    "    betas_mean = get_betas(\n",
    "        nsd_dir, \n",
    "        subs[0],\n",
    "        n_sessions,\n",
    "        targetspace=targetspace\n",
    "    )\n",
    "    print(f'concatenating betas for {subs[0]}')\n",
    "    betas_mean = np.concatenate(betas_mean, axis=1).astype(np.float32)\n",
    "\n",
    "    print(f'Now averaging them')\n",
    "    betas_mean = average_over_conditions(\n",
    "        betas_mean,\n",
    "        conditions,\n",
    "        conditions_sampled\n",
    "    ).astype(np.float32)\n",
    "\n",
    "    print(f'Saving conditions averaged betas')\n",
    "    np.save(betas_mean_file, betas_mean)\n",
    "\n",
    "else:\n",
    "    print(f'loading betas for {sub}')\n",
    "    betas_mean = np.load(betas_mean_file, allow_pickle=True)"
   ]
  },
  {
   "cell_type": "code",
   "execution_count": null,
   "id": "d2a7faea-fdf4-4d09-8cba-60cec016a4ba",
   "metadata": {},
   "outputs": [],
   "source": []
  },
  {
   "cell_type": "code",
   "execution_count": null,
   "id": "80b2901f-ebb9-43f3-97d8-ea51e08587af",
   "metadata": {},
   "outputs": [],
   "source": []
  }
 ],
 "metadata": {
  "kernelspec": {
   "display_name": "Python 3 (ipykernel)",
   "language": "python",
   "name": "python3"
  },
  "language_info": {
   "codemirror_mode": {
    "name": "ipython",
    "version": 3
   },
   "file_extension": ".py",
   "mimetype": "text/x-python",
   "name": "python",
   "nbconvert_exporter": "python",
   "pygments_lexer": "ipython3",
   "version": "3.10.13"
  }
 },
 "nbformat": 4,
 "nbformat_minor": 5
}
