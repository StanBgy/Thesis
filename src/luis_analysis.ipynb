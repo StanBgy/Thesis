{
 "cells": [
  {
   "cell_type": "code",
   "execution_count": 1,
   "id": "6f1edf3b-ec43-4f13-9590-2ba653206334",
   "metadata": {},
   "outputs": [],
   "source": [
    "import os\n",
    "import numpy as np\n",
    "import pandas as pd\n",
    "from numpy import ndarray\n",
    "from nsddatapaper_rsa.utils.nsd_get_data import get_conditions, get_labels, get_betas\n",
    "from nsddatapaper_rsa.utils.utils import category_dict, mds, average_over_conditions\n",
    "from utils.utils import *\n",
    "from utils.kabsch2D import *\n",
    "from nsd_access import NSDAccess \n",
    "from matplotlib import cm \n",
    "import scprep\n",
    "import matplotlib.pyplot as plt\n",
    "import nibabel as nib"
   ]
  },
  {
   "cell_type": "code",
   "execution_count": null,
   "id": "8325fff2-78e5-4aa2-a40d-3586bbc77ced",
   "metadata": {},
   "outputs": [],
   "source": []
  },
  {
   "cell_type": "code",
   "execution_count": 2,
   "id": "c78de8ee-b72e-4b28-b2c7-ffbad1ba2fd2",
   "metadata": {},
   "outputs": [],
   "source": [
    "## My goal here is to redo luis' anaylsis, do understand what he did, and maybe \"fix\" the issue of the session/subjects being incomplete\n",
    "## Then replicate it with flipped MDS\n",
    "## but first I need to get the bloody MDS \n",
    "\n",
    "n_jobs = 2 # Local machine, don't go too crazy\n",
    "n_sessions = 40\n",
    "n_subjects = 1 # only try sub 1 here\n",
    "\n",
    "nsda = NSDAccess(nsd_dir)\n",
    "\n",
    "outpath = os.path.join(betas_dir, 'roi_analyses')\n",
    "if not os.path.exists(outpath):\n",
    "    os.makedirs(outpath)\n",
    "\n",
    "targetspace = 'nativesurface'\n",
    "\n",
    "# I found this in the paper repo -> mainfigures -> SCIENCE.RSA\n",
    "lh_file = os.path.join(proj_dir, 'lh.highlevelvisual.mgz')\n",
    "rh_file = os.path.join(proj_dir, 'rh.highlevelvisual.mgz')\n",
    "\n",
    "\n",
    "# load them\n",
    "maskdata_lh = nib.load(lh_file).get_fdata().squeeze()\n",
    "maskdata_rh = nib.load(rh_file).get_fdata().squeeze()\n",
    "\n",
    "maskdata = np.hstack((maskdata_lh, maskdata_rh))\n",
    "\n",
    "#ROIS = {1: 'pVTC', 2: 'aVTC', 3: 'v1', 4: 'v2', 5: 'v3'}\n",
    "\n",
    "#roi_names = ['pVTC', 'aVTC', 'v1', 'v2', 'v3']\n",
    "\n",
    "# sessions\n",
    "n_sessions = 40\n",
    "\n",
    "# subjects\n",
    "subs = ['subj0{}'.format(x+1) for x in range(n_subjects)]"
   ]
  },
  {
   "cell_type": "code",
   "execution_count": 3,
   "id": "34f57199-dfb9-4f63-a7b0-be84870ea57c",
   "metadata": {},
   "outputs": [
    {
     "name": "stdout",
     "output_type": "stream",
     "text": [
      "\t\tsub: subj01 fetching condition trials in session: 1\n",
      "\t\tsub: subj01 fetching condition trials in session: 2\n",
      "\t\tsub: subj01 fetching condition trials in session: 3\n",
      "\t\tsub: subj01 fetching condition trials in session: 4\n",
      "\t\tsub: subj01 fetching condition trials in session: 5\n",
      "\t\tsub: subj01 fetching condition trials in session: 6\n",
      "\t\tsub: subj01 fetching condition trials in session: 7\n",
      "\t\tsub: subj01 fetching condition trials in session: 8\n",
      "\t\tsub: subj01 fetching condition trials in session: 9\n",
      "\t\tsub: subj01 fetching condition trials in session: 10\n",
      "\t\tsub: subj01 fetching condition trials in session: 11\n",
      "\t\tsub: subj01 fetching condition trials in session: 12\n",
      "\t\tsub: subj01 fetching condition trials in session: 13\n",
      "\t\tsub: subj01 fetching condition trials in session: 14\n",
      "\t\tsub: subj01 fetching condition trials in session: 15\n",
      "\t\tsub: subj01 fetching condition trials in session: 16\n",
      "\t\tsub: subj01 fetching condition trials in session: 17\n",
      "\t\tsub: subj01 fetching condition trials in session: 18\n",
      "\t\tsub: subj01 fetching condition trials in session: 19\n",
      "\t\tsub: subj01 fetching condition trials in session: 20\n",
      "\t\tsub: subj01 fetching condition trials in session: 21\n",
      "\t\tsub: subj01 fetching condition trials in session: 22\n",
      "\t\tsub: subj01 fetching condition trials in session: 23\n",
      "\t\tsub: subj01 fetching condition trials in session: 24\n",
      "\t\tsub: subj01 fetching condition trials in session: 25\n",
      "\t\tsub: subj01 fetching condition trials in session: 26\n",
      "\t\tsub: subj01 fetching condition trials in session: 27\n",
      "\t\tsub: subj01 fetching condition trials in session: 28\n",
      "\t\tsub: subj01 fetching condition trials in session: 29\n",
      "\t\tsub: subj01 fetching condition trials in session: 30\n",
      "\t\tsub: subj01 fetching condition trials in session: 31\n",
      "\t\tsub: subj01 fetching condition trials in session: 32\n",
      "\t\tsub: subj01 fetching condition trials in session: 33\n",
      "\t\tsub: subj01 fetching condition trials in session: 34\n",
      "\t\tsub: subj01 fetching condition trials in session: 35\n",
      "\t\tsub: subj01 fetching condition trials in session: 36\n",
      "\t\tsub: subj01 fetching condition trials in session: 37\n",
      "\t\tsub: subj01 fetching condition trials in session: 38\n",
      "\t\tsub: subj01 fetching condition trials in session: 39\n",
      "\t\tsub: subj01 fetching condition trials in session: 40\n"
     ]
    }
   ],
   "source": [
    "outpath = os.path.join(proj_dir, 'roi_analyses')\n",
    "\n",
    "conditions = get_conditions(nsd_dir, subs[0], n_sessions)\n",
    "\n",
    "conditions = np.asarray(conditions).ravel()\n",
    "conditions_bool = [\n",
    "    True if np.sum(conditions == x) == 3 else False for x in conditions]\n",
    "\n",
    "conditions_sampled = conditions[conditions_bool]\n",
    "\n",
    "# find the subject's unique condition list (sample pool)\n",
    "sample = np.unique(conditions[conditions_bool])\n",
    "assert sample.shape[0] == 10000"
   ]
  },
  {
   "cell_type": "code",
   "execution_count": null,
   "id": "bafa1fae-0c38-4955-a46a-f0401020b9fb",
   "metadata": {},
   "outputs": [
    {
     "name": "stdout",
     "output_type": "stream",
     "text": [
      "\t\tsub: subj01 fetching betas for trials in session: 1\n",
      "\t\tsub: subj01 fetching betas for trials in session: 2\n",
      "\t\tsub: subj01 fetching betas for trials in session: 3\n",
      "\t\tsub: subj01 fetching betas for trials in session: 4\n",
      "\t\tsub: subj01 fetching betas for trials in session: 5\n",
      "\t\tsub: subj01 fetching betas for trials in session: 6\n",
      "\t\tsub: subj01 fetching betas for trials in session: 7\n",
      "\t\tsub: subj01 fetching betas for trials in session: 8\n"
     ]
    }
   ],
   "source": [
    "## Trying to get the betas\n",
    "\n",
    "betas_mean_file = os.path.join(outpath, f'{subs[0]}_betas_list_{targetspace}_averaged.npy') \n",
    "if not os.path.exists(betas_mean_file):\n",
    "    betas_mean = get_betas(\n",
    "        nsd_dir, \n",
    "        subs[0],\n",
    "        n_sessions,\n",
    "        targetspace=targetspace\n",
    "    )\n",
    "    print(f'concatenating betas for {subs[0]}')\n",
    "    betas_mean = np.concatenate(betas_mean, axis=1).astype(np.float32)\n",
    "\n",
    "    print(f'Now averaging them')\n",
    "    betas_mean = average_over_conditions(\n",
    "        betas_mean,\n",
    "        conditions,\n",
    "        conditions_sampled\n",
    "    ).astype(np.float32)\n",
    "\n",
    "    print(f'Saving conditions averaged betas')\n",
    "    np.save(betas_mean_file, betas_mean)\n",
    "\n",
    "else:\n",
    "    print(f'loading betas for {sub}')\n",
    "    betas_mean = np.load(betas_mean_file, allow_pickle=True)"
   ]
  },
  {
   "cell_type": "code",
   "execution_count": null,
   "id": "aece01e1-35aa-4540-bf04-93be6cc27540",
   "metadata": {},
   "outputs": [],
   "source": []
  }
 ],
 "metadata": {
  "kernelspec": {
   "display_name": "Python 3 (ipykernel)",
   "language": "python",
   "name": "python3"
  },
  "language_info": {
   "codemirror_mode": {
    "name": "ipython",
    "version": 3
   },
   "file_extension": ".py",
   "mimetype": "text/x-python",
   "name": "python",
   "nbconvert_exporter": "python",
   "pygments_lexer": "ipython3",
   "version": "3.10.13"
  }
 },
 "nbformat": 4,
 "nbformat_minor": 5
}
