{
 "cells": [
  {
   "cell_type": "code",
   "execution_count": 1,
   "id": "e924ba96-37ea-4c82-8090-485496fa00fc",
   "metadata": {},
   "outputs": [],
   "source": [
    "import os\n",
    "import numpy as np\n",
    "import pandas as pd\n",
    "from utils.utils import *\n",
    "from utils.kabsch2D import * \n",
    "from scipy import stats"
   ]
  },
  {
   "cell_type": "code",
   "execution_count": 3,
   "id": "9aa1326e-db5c-48f1-9214-b04a91f31aca",
   "metadata": {},
   "outputs": [],
   "source": [
    "def create_rotation_df(subj, rois, sess):\n",
    "    cols = ['source', 'base', 'target', 'U', 'distance']\n",
    "    rotations = np.zeros(((len(rois) * (len(rois)-1)) * 2, len(cols)), dtype=object)\n",
    "    i = 0 \n",
    "    for roi_source in rois.keys():\n",
    "        mds_source = np.load(f'/home/stan/thesis-repo/data/MDS/{subj}/{subj}_{sess}_{roi_source}_mds.npy', allow_pickle=False)\n",
    "        for roi_target in rois.keys():\n",
    "            if roi_source != roi_target:\n",
    "                for j in range(2):\n",
    "                    mds_target = np.load(f'/home/stan/thesis-repo/data/MDS/{subj}/{subj}_{sess}_{roi_target}_mds.npy', allow_pickle=False)\n",
    "                    # flip the target when j is at 1, does nothing when j = 0 \n",
    "                    rotations[i, 1] = roi_target\n",
    "                    if j == 1:\n",
    "                        mds_target = np.dot(mds_target, np.array([[-1, 0], [0, 1]]))\n",
    "                        roi_target = roi_target + \"_flipped\"\n",
    "                    U, t= kabsch2D(mds_source, mds_target, translate=True )\n",
    "                    rotations[i, 0] = roi_source\n",
    "                    rotations[i, 2] = roi_target\n",
    "                    rotations[i, 3] = U\n",
    "                    rotated_source = rotate(mds_source, U)\n",
    "                    rotations[i, 4] = avg_distance(rotated_source, mds_target, t)\n",
    "                    i += 1\n",
    "    df = pd.DataFrame(rotations, columns=cols)\n",
    "    df = df.astype({'distance': 'float32'}) # needed for later indexing\n",
    "    return df\n",
    "\n",
    "def filter_df(df):\n",
    " # get the index of the lowest error for each pair in each ROI\n",
    "    indx_to_keep = df.groupby(['source', 'base'])['distance'].idxmin()\n",
    "    df_filtered = df.loc[indx_to_keep]\n",
    "    return df\n",
    "\n",
    "\n"
   ]
  },
  {
   "cell_type": "code",
   "execution_count": 8,
   "id": "c5dca73f-eb65-4bb0-9838-d5f877a02a39",
   "metadata": {},
   "outputs": [
    {
     "ename": "FileNotFoundError",
     "evalue": "[Errno 2] No such file or directory: '/home/stan/thesis-repo/data/MDS/subj01/subj01_40_V1_mds_betas_train.npy'",
     "output_type": "error",
     "traceback": [
      "\u001b[0;31m---------------------------------------------------------------------------\u001b[0m",
      "\u001b[0;31mFileNotFoundError\u001b[0m                         Traceback (most recent call last)",
      "Cell \u001b[0;32mIn[8], line 2\u001b[0m\n\u001b[1;32m      1\u001b[0m subj_list \u001b[38;5;241m=\u001b[39m [\u001b[38;5;124mf\u001b[39m\u001b[38;5;124m'\u001b[39m\u001b[38;5;124msubj0\u001b[39m\u001b[38;5;132;01m{\u001b[39;00mi\u001b[38;5;132;01m}\u001b[39;00m\u001b[38;5;124m'\u001b[39m \u001b[38;5;28;01mfor\u001b[39;00m i \u001b[38;5;129;01min\u001b[39;00m \u001b[38;5;28mrange\u001b[39m(\u001b[38;5;241m1\u001b[39m,\u001b[38;5;241m9\u001b[39m)]\n\u001b[0;32m----> 2\u001b[0m df_01 \u001b[38;5;241m=\u001b[39m filter_df(\u001b[43mcreate_rotation_df\u001b[49m\u001b[43m(\u001b[49m\u001b[43msubj_list\u001b[49m\u001b[43m[\u001b[49m\u001b[38;5;241;43m0\u001b[39;49m\u001b[43m]\u001b[49m\u001b[43m,\u001b[49m\u001b[43m \u001b[49m\u001b[43mrois\u001b[49m\u001b[43m,\u001b[49m\u001b[43m \u001b[49m\u001b[43msessions\u001b[49m\u001b[43m[\u001b[49m\u001b[38;5;241;43m0\u001b[39;49m\u001b[43m]\u001b[49m\u001b[43m)\u001b[49m)\n\u001b[1;32m      3\u001b[0m df_01\n",
      "Cell \u001b[0;32mIn[3], line 6\u001b[0m, in \u001b[0;36mcreate_rotation_df\u001b[0;34m(subj, rois, sess)\u001b[0m\n\u001b[1;32m      4\u001b[0m i \u001b[38;5;241m=\u001b[39m \u001b[38;5;241m0\u001b[39m \n\u001b[1;32m      5\u001b[0m \u001b[38;5;28;01mfor\u001b[39;00m roi_source \u001b[38;5;129;01min\u001b[39;00m rois\u001b[38;5;241m.\u001b[39mkeys():\n\u001b[0;32m----> 6\u001b[0m     mds_source \u001b[38;5;241m=\u001b[39m \u001b[43mnp\u001b[49m\u001b[38;5;241;43m.\u001b[39;49m\u001b[43mload\u001b[49m\u001b[43m(\u001b[49m\u001b[38;5;124;43mf\u001b[39;49m\u001b[38;5;124;43m'\u001b[39;49m\u001b[38;5;124;43m/home/stan/thesis-repo/data/MDS/\u001b[39;49m\u001b[38;5;132;43;01m{\u001b[39;49;00m\u001b[43msubj\u001b[49m\u001b[38;5;132;43;01m}\u001b[39;49;00m\u001b[38;5;124;43m/\u001b[39;49m\u001b[38;5;132;43;01m{\u001b[39;49;00m\u001b[43msubj\u001b[49m\u001b[38;5;132;43;01m}\u001b[39;49;00m\u001b[38;5;124;43m_\u001b[39;49m\u001b[38;5;132;43;01m{\u001b[39;49;00m\u001b[43msess\u001b[49m\u001b[38;5;132;43;01m}\u001b[39;49;00m\u001b[38;5;124;43m_\u001b[39;49m\u001b[38;5;132;43;01m{\u001b[39;49;00m\u001b[43mroi_source\u001b[49m\u001b[38;5;132;43;01m}\u001b[39;49;00m\u001b[38;5;124;43m_mds_betas_train.npy\u001b[39;49m\u001b[38;5;124;43m'\u001b[39;49m\u001b[43m,\u001b[49m\u001b[43m \u001b[49m\u001b[43mallow_pickle\u001b[49m\u001b[38;5;241;43m=\u001b[39;49m\u001b[38;5;28;43;01mFalse\u001b[39;49;00m\u001b[43m)\u001b[49m\n\u001b[1;32m      7\u001b[0m     \u001b[38;5;28;01mfor\u001b[39;00m roi_target \u001b[38;5;129;01min\u001b[39;00m rois\u001b[38;5;241m.\u001b[39mkeys():\n\u001b[1;32m      8\u001b[0m         \u001b[38;5;28;01mif\u001b[39;00m roi_source \u001b[38;5;241m!=\u001b[39m roi_target:\n",
      "File \u001b[0;32m~/miniconda3/envs/thesis/lib/python3.10/site-packages/numpy/lib/npyio.py:427\u001b[0m, in \u001b[0;36mload\u001b[0;34m(file, mmap_mode, allow_pickle, fix_imports, encoding, max_header_size)\u001b[0m\n\u001b[1;32m    425\u001b[0m     own_fid \u001b[38;5;241m=\u001b[39m \u001b[38;5;28;01mFalse\u001b[39;00m\n\u001b[1;32m    426\u001b[0m \u001b[38;5;28;01melse\u001b[39;00m:\n\u001b[0;32m--> 427\u001b[0m     fid \u001b[38;5;241m=\u001b[39m stack\u001b[38;5;241m.\u001b[39menter_context(\u001b[38;5;28;43mopen\u001b[39;49m\u001b[43m(\u001b[49m\u001b[43mos_fspath\u001b[49m\u001b[43m(\u001b[49m\u001b[43mfile\u001b[49m\u001b[43m)\u001b[49m\u001b[43m,\u001b[49m\u001b[43m \u001b[49m\u001b[38;5;124;43m\"\u001b[39;49m\u001b[38;5;124;43mrb\u001b[39;49m\u001b[38;5;124;43m\"\u001b[39;49m\u001b[43m)\u001b[49m)\n\u001b[1;32m    428\u001b[0m     own_fid \u001b[38;5;241m=\u001b[39m \u001b[38;5;28;01mTrue\u001b[39;00m\n\u001b[1;32m    430\u001b[0m \u001b[38;5;66;03m# Code to distinguish from NumPy binary files and pickles.\u001b[39;00m\n",
      "\u001b[0;31mFileNotFoundError\u001b[0m: [Errno 2] No such file or directory: '/home/stan/thesis-repo/data/MDS/subj01/subj01_40_V1_mds_betas_train.npy'"
     ]
    }
   ],
   "source": [
    "subj_list = [f'subj0{i}' for i in range(1,9)]\n",
    "df_01 = filter_df(create_rotation_df(subj_list[0], rois, sessions[0]))\n",
    "df_01"
   ]
  },
  {
   "cell_type": "code",
   "execution_count": 2,
   "id": "b76d04c3-614b-4298-b4b6-44ba508f743a",
   "metadata": {},
   "outputs": [],
   "source": [
    "def create_distance_df(subj, rois, sess, rotated_df):\n",
    "    cols = rois.keys\n",
    "    rotations = np.zeros((len(cols), len(cols)), dtype=object)\n",
    "    i = 0 \n",
    "    for roi_source in rois.keys():\n",
    "        mds_source = np.load(f'/home/stan/thesis-repo/data/MDS/{subj}/{subj}_{sess}_{roi_source}_mds_betas_train.npy', allow_pickle=False)\n",
    "        for roi_target in rois.keys():\n",
    "            if roi_source != roi_target:\n",
    "                for j in range(2):\n",
    "                    mds_target = np.load(f'/home/stan/thesis-repo/data/MDS/{subj}/{subj}_{sess}_{roi_target}_mds_betas_train.npy', allow_pickle=False)\n",
    "                    # flip the target when j is at 1, does nothing when j = 0 \n",
    "                    rotations[i, 1] = roi_target\n",
    "                    if j == 1:\n",
    "                        mds_target = np.dot(mds_target, np.array([[-1, 0], [0, 1]]))\n",
    "                        roi_target = roi_target + \"_flipped\"\n",
    "                    U, t= kabsch2D(mds_source, mds_target, translate=True )\n",
    "                    rotations[i, 0] = roi_source\n",
    "                    rotations[i, 2] = roi_target\n",
    "                    rotations[i, 3] = U\n",
    "                    rotated_source = rotate(mds_source, U)\n",
    "                    rotations[i, 4] = avg_distance(rotated_source, mds_target)\n",
    "                    i += 1\n",
    "    df = pd.DataFrame(rotations, columns=cols)\n",
    "    df = df.astype({'distance': 'float32'}) # needed for later indexing\n",
    "    return df"
   ]
  },
  {
   "cell_type": "code",
   "execution_count": null,
   "id": "ba3f6553-0c6e-4c6c-b022-7b41718e88e4",
   "metadata": {},
   "outputs": [],
   "source": []
  }
 ],
 "metadata": {
  "kernelspec": {
   "display_name": "Python 3 (ipykernel)",
   "language": "python",
   "name": "python3"
  },
  "language_info": {
   "codemirror_mode": {
    "name": "ipython",
    "version": 3
   },
   "file_extension": ".py",
   "mimetype": "text/x-python",
   "name": "python",
   "nbconvert_exporter": "python",
   "pygments_lexer": "ipython3",
   "version": "3.10.13"
  }
 },
 "nbformat": 4,
 "nbformat_minor": 5
}
